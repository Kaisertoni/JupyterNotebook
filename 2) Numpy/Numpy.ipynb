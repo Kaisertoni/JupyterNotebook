{
 "cells": [
  {
   "cell_type": "markdown",
   "id": "c170be32-8646-4bce-ac6d-1f2d852be075",
   "metadata": {
    "tags": []
   },
   "source": [
    "# Numpy"
   ]
  },
  {
   "cell_type": "code",
   "execution_count": 1,
   "id": "e4579750-ed3a-49a8-a4b1-200fc7b2d0b5",
   "metadata": {
    "tags": []
   },
   "outputs": [],
   "source": [
    "import numpy as np"
   ]
  },
  {
   "cell_type": "markdown",
   "id": "ad81286d",
   "metadata": {},
   "source": [
    "### <span style='background :yellow'>Creazione array"
   ]
  },
  {
   "cell_type": "markdown",
   "id": "180f0f5a",
   "metadata": {},
   "source": [
    "#### Funzione ARRAY - creazione di array (NxM) tramite liste"
   ]
  },
  {
   "cell_type": "code",
   "execution_count": 2,
   "id": "c26d0619",
   "metadata": {
    "scrolled": true
   },
   "outputs": [
    {
     "data": {
      "text/plain": [
       "array([1, 2, 3, 4, 5], dtype=int8)"
      ]
     },
     "execution_count": 2,
     "metadata": {},
     "output_type": "execute_result"
    }
   ],
   "source": [
    "# creazione di un array monodimensionale\n",
    "a = np.array([1,2,3,4,5], dtype='int8') # l'argomento passato è una lista, viene inoltre specificato il tipo che si vuole per i dati (int8)\n",
    "a"
   ]
  },
  {
   "cell_type": "code",
   "execution_count": 3,
   "id": "1d302d79",
   "metadata": {
    "scrolled": true
   },
   "outputs": [
    {
     "data": {
      "text/plain": [
       "array([[ 1,  2,  3,  4,  5],\n",
       "       [ 6,  7,  8,  9, 10]])"
      ]
     },
     "execution_count": 3,
     "metadata": {},
     "output_type": "execute_result"
    }
   ],
   "source": [
    "# creazione di un array bidimensionale (matrice)\n",
    "b = np.array([[1,2,3,4,5],[6,7,8,9,10]])\n",
    "b"
   ]
  },
  {
   "cell_type": "markdown",
   "id": "39e7c471",
   "metadata": {},
   "source": [
    "#### Funzione ONES - Creazione di array (NxM) di 1"
   ]
  },
  {
   "cell_type": "code",
   "execution_count": 4,
   "id": "1a9a0c31",
   "metadata": {
    "scrolled": false
   },
   "outputs": [
    {
     "data": {
      "text/plain": [
       "array([1, 1, 1, 1, 1])"
      ]
     },
     "execution_count": 4,
     "metadata": {},
     "output_type": "execute_result"
    }
   ],
   "source": [
    "a = np.ones(5, dtype=int)\n",
    "a"
   ]
  },
  {
   "cell_type": "code",
   "execution_count": 5,
   "id": "ce659845",
   "metadata": {
    "scrolled": false
   },
   "outputs": [
    {
     "data": {
      "text/plain": [
       "array([[1, 1],\n",
       "       [1, 1],\n",
       "       [1, 1]])"
      ]
     },
     "execution_count": 5,
     "metadata": {},
     "output_type": "execute_result"
    }
   ],
   "source": [
    "a = np.ones((3,2), dtype=int)\n",
    "a"
   ]
  },
  {
   "cell_type": "markdown",
   "id": "77e4a2b8",
   "metadata": {},
   "source": [
    "#### Funzione ZEROS - Creazione di array (NxM) di 0"
   ]
  },
  {
   "cell_type": "code",
   "execution_count": 6,
   "id": "4b684458",
   "metadata": {
    "scrolled": true
   },
   "outputs": [
    {
     "data": {
      "text/plain": [
       "array([0, 0, 0, 0, 0])"
      ]
     },
     "execution_count": 6,
     "metadata": {},
     "output_type": "execute_result"
    }
   ],
   "source": [
    "a = np.zeros(5, dtype=int)\n",
    "a"
   ]
  },
  {
   "cell_type": "code",
   "execution_count": 7,
   "id": "97b7e9da",
   "metadata": {
    "scrolled": true
   },
   "outputs": [
    {
     "data": {
      "text/plain": [
       "array([[0, 0],\n",
       "       [0, 0],\n",
       "       [0, 0]])"
      ]
     },
     "execution_count": 7,
     "metadata": {},
     "output_type": "execute_result"
    }
   ],
   "source": [
    "a = np.zeros((3,2), dtype=int)\n",
    "a"
   ]
  },
  {
   "cell_type": "markdown",
   "id": "2e1db130",
   "metadata": {},
   "source": [
    "#### Funzione RANDOM - Creazione di array (NxM) casuali"
   ]
  },
  {
   "cell_type": "code",
   "execution_count": 8,
   "id": "bcd6ae7a",
   "metadata": {},
   "outputs": [
    {
     "data": {
      "text/plain": [
       "array([0.63424545, 0.76587723, 0.55136231, 0.24868765, 0.79314108])"
      ]
     },
     "execution_count": 8,
     "metadata": {},
     "output_type": "execute_result"
    }
   ],
   "source": [
    "# creazione di un array con numeri casuali compresi fra 0 ed 1\n",
    "a = np.random.random(5)\n",
    "a"
   ]
  },
  {
   "cell_type": "code",
   "execution_count": 9,
   "id": "6eb3491f",
   "metadata": {},
   "outputs": [
    {
     "data": {
      "text/plain": [
       "array([[0.79502764, 0.37270198],\n",
       "       [0.3954705 , 0.20647409],\n",
       "       [0.2739486 , 0.55176762]])"
      ]
     },
     "execution_count": 9,
     "metadata": {},
     "output_type": "execute_result"
    }
   ],
   "source": [
    "# creazione di un array 3x2 con numeri casuali compresi fra 0 ed 1\n",
    "a = np.random.random((3,2))\n",
    "a"
   ]
  },
  {
   "cell_type": "code",
   "execution_count": 10,
   "id": "1af5410e",
   "metadata": {},
   "outputs": [
    {
     "data": {
      "text/plain": [
       "array([[0.56012655, 0.03639964],\n",
       "       [0.27429916, 0.07346084],\n",
       "       [0.02104254, 0.36397359]])"
      ]
     },
     "execution_count": 10,
     "metadata": {},
     "output_type": "execute_result"
    }
   ],
   "source": [
    "# stesso risultato della soluzione sopra\n",
    "a = np.random.rand(3,2)\n",
    "a"
   ]
  },
  {
   "cell_type": "code",
   "execution_count": 11,
   "id": "c943f064",
   "metadata": {},
   "outputs": [
    {
     "data": {
      "text/plain": [
       "array([[3, 8],\n",
       "       [5, 4],\n",
       "       [6, 9]])"
      ]
     },
     "execution_count": 11,
     "metadata": {},
     "output_type": "execute_result"
    }
   ],
   "source": [
    "# creazione di un array 3x2 con numeri casuali compresi fra 3 e (10-1)\n",
    "a = np.random.randint(3,10,size=(3,2))\n",
    "a"
   ]
  },
  {
   "cell_type": "markdown",
   "id": "a0f9db76",
   "metadata": {},
   "source": [
    "#### Funzione FULL - Creazione di array (NxM) con numero scelto"
   ]
  },
  {
   "cell_type": "code",
   "execution_count": 12,
   "id": "6d2e6d38",
   "metadata": {
    "scrolled": true
   },
   "outputs": [
    {
     "data": {
      "text/plain": [
       "array([10, 10, 10, 10, 10])"
      ]
     },
     "execution_count": 12,
     "metadata": {},
     "output_type": "execute_result"
    }
   ],
   "source": [
    "a = np.full(5, 10)\n",
    "a"
   ]
  },
  {
   "cell_type": "code",
   "execution_count": 13,
   "id": "c7775137",
   "metadata": {
    "scrolled": true
   },
   "outputs": [
    {
     "data": {
      "text/plain": [
       "array([[10, 10],\n",
       "       [10, 10],\n",
       "       [10, 10]])"
      ]
     },
     "execution_count": 13,
     "metadata": {},
     "output_type": "execute_result"
    }
   ],
   "source": [
    "a = np.full((3,2), 10)\n",
    "a"
   ]
  },
  {
   "cell_type": "code",
   "execution_count": 14,
   "id": "81bc2ee3",
   "metadata": {
    "scrolled": false
   },
   "outputs": [
    {
     "data": {
      "text/plain": [
       "array([[10, 10],\n",
       "       [10, 10],\n",
       "       [10, 10]])"
      ]
     },
     "execution_count": 14,
     "metadata": {},
     "output_type": "execute_result"
    }
   ],
   "source": [
    "b = np.full(a.shape, 10)\n",
    "b"
   ]
  },
  {
   "cell_type": "markdown",
   "id": "90983e4d",
   "metadata": {},
   "source": [
    "#### Funzione IDENTITY/EYE -  Creazione di una matrice identità (NxN)"
   ]
  },
  {
   "cell_type": "code",
   "execution_count": 15,
   "id": "059f06c0",
   "metadata": {
    "scrolled": true
   },
   "outputs": [
    {
     "data": {
      "text/plain": [
       "array([[1., 0., 0.],\n",
       "       [0., 1., 0.],\n",
       "       [0., 0., 1.]])"
      ]
     },
     "execution_count": 15,
     "metadata": {},
     "output_type": "execute_result"
    }
   ],
   "source": [
    "a = np.identity(3)\n",
    "a"
   ]
  },
  {
   "cell_type": "code",
   "execution_count": 16,
   "id": "fbf35d1d",
   "metadata": {
    "scrolled": true
   },
   "outputs": [
    {
     "data": {
      "text/plain": [
       "array([[1., 0., 0.],\n",
       "       [0., 1., 0.],\n",
       "       [0., 0., 1.]])"
      ]
     },
     "execution_count": 16,
     "metadata": {},
     "output_type": "execute_result"
    }
   ],
   "source": [
    "a = np.eye(3)\n",
    "a"
   ]
  },
  {
   "cell_type": "markdown",
   "id": "ff4d2c39",
   "metadata": {},
   "source": [
    "#### Funzione REPEAT"
   ]
  },
  {
   "cell_type": "code",
   "execution_count": 17,
   "id": "9cc0a675",
   "metadata": {},
   "outputs": [
    {
     "data": {
      "text/plain": [
       "array([[1, 2, 3]])"
      ]
     },
     "execution_count": 17,
     "metadata": {},
     "output_type": "execute_result"
    }
   ],
   "source": [
    "a = np.array([[1,2,3]])\n",
    "a"
   ]
  },
  {
   "cell_type": "code",
   "execution_count": 18,
   "id": "1d823d4b",
   "metadata": {
    "scrolled": true
   },
   "outputs": [
    {
     "data": {
      "text/plain": [
       "array([[1, 2, 3],\n",
       "       [1, 2, 3],\n",
       "       [1, 2, 3]])"
      ]
     },
     "execution_count": 18,
     "metadata": {},
     "output_type": "execute_result"
    }
   ],
   "source": [
    "b = np.repeat(a, 3, axis=0)\n",
    "b"
   ]
  },
  {
   "cell_type": "code",
   "execution_count": 19,
   "id": "8a7666fd",
   "metadata": {
    "scrolled": true
   },
   "outputs": [
    {
     "data": {
      "text/plain": [
       "array([[1, 1, 1, 2, 2, 2, 3, 3, 3]])"
      ]
     },
     "execution_count": 19,
     "metadata": {},
     "output_type": "execute_result"
    }
   ],
   "source": [
    "b = np.repeat(a, 3, axis=1)\n",
    "b"
   ]
  },
  {
   "cell_type": "markdown",
   "id": "eec55ff5",
   "metadata": {},
   "source": [
    "#### Funzione ARANGE"
   ]
  },
  {
   "cell_type": "code",
   "execution_count": 20,
   "id": "205ef420",
   "metadata": {},
   "outputs": [
    {
     "data": {
      "text/plain": [
       "array([0, 2, 4, 6, 8])"
      ]
     },
     "execution_count": 20,
     "metadata": {},
     "output_type": "execute_result"
    }
   ],
   "source": [
    "a = np.arange(0,10,2) # start, stop, step\n",
    "a"
   ]
  },
  {
   "cell_type": "markdown",
   "id": "6dcb18fd",
   "metadata": {},
   "source": [
    "#### Funzione LINSPACE"
   ]
  },
  {
   "cell_type": "code",
   "execution_count": 21,
   "id": "e61b4471",
   "metadata": {},
   "outputs": [
    {
     "data": {
      "text/plain": [
       "array([ 0. ,  2.5,  5. ,  7.5, 10. ])"
      ]
     },
     "execution_count": 21,
     "metadata": {},
     "output_type": "execute_result"
    }
   ],
   "source": [
    "a = np.linspace(0,10,5) # start, stop, numeri tra intervallo\n",
    "a"
   ]
  },
  {
   "cell_type": "markdown",
   "id": "0d6fa4a3",
   "metadata": {},
   "source": [
    "### <span style='background :yellow'>Funzioni base"
   ]
  },
  {
   "cell_type": "code",
   "execution_count": 22,
   "id": "4129430b",
   "metadata": {
    "scrolled": true
   },
   "outputs": [],
   "source": [
    "a = np.array([1,2,3,4,5,6,7,8,9,10], dtype='int8') # l'argomento passato è una lista, viene inoltre specificato il tipo che si vuole per i dati (int8)\n",
    "b = np.array([[1,2,3,4,5],[6,7,8,9,10]])"
   ]
  },
  {
   "cell_type": "code",
   "execution_count": 23,
   "id": "c38c4858",
   "metadata": {},
   "outputs": [
    {
     "data": {
      "text/plain": [
       "array([ 1,  2,  3,  4,  5,  6,  7,  8,  9, 10], dtype=int8)"
      ]
     },
     "execution_count": 23,
     "metadata": {},
     "output_type": "execute_result"
    }
   ],
   "source": [
    "a"
   ]
  },
  {
   "cell_type": "code",
   "execution_count": 24,
   "id": "44ac2b6d",
   "metadata": {},
   "outputs": [
    {
     "data": {
      "text/plain": [
       "array([[ 1,  2,  3,  4,  5],\n",
       "       [ 6,  7,  8,  9, 10]])"
      ]
     },
     "execution_count": 24,
     "metadata": {},
     "output_type": "execute_result"
    }
   ],
   "source": [
    "b"
   ]
  },
  {
   "cell_type": "markdown",
   "id": "59542743",
   "metadata": {},
   "source": [
    "#### Funzione DTYPE - Ottenere tipo di un array e matrice"
   ]
  },
  {
   "cell_type": "code",
   "execution_count": 25,
   "id": "0b2ed2a2",
   "metadata": {},
   "outputs": [
    {
     "data": {
      "text/plain": [
       "dtype('int8')"
      ]
     },
     "execution_count": 25,
     "metadata": {},
     "output_type": "execute_result"
    }
   ],
   "source": [
    "a.dtype"
   ]
  },
  {
   "cell_type": "code",
   "execution_count": 26,
   "id": "f0600c09",
   "metadata": {
    "scrolled": false
   },
   "outputs": [
    {
     "data": {
      "text/plain": [
       "dtype('int32')"
      ]
     },
     "execution_count": 26,
     "metadata": {},
     "output_type": "execute_result"
    }
   ],
   "source": [
    "b.dtype"
   ]
  },
  {
   "cell_type": "markdown",
   "id": "e9b54391",
   "metadata": {},
   "source": [
    "#### Funzione ASTYPE - Cambiare tipo di un array e matrice"
   ]
  },
  {
   "cell_type": "code",
   "execution_count": 27,
   "id": "39088b3b",
   "metadata": {},
   "outputs": [
    {
     "data": {
      "text/plain": [
       "array([ 1,  2,  3,  4,  5,  6,  7,  8,  9, 10], dtype=int8)"
      ]
     },
     "execution_count": 27,
     "metadata": {},
     "output_type": "execute_result"
    }
   ],
   "source": [
    "a # il type è int8"
   ]
  },
  {
   "cell_type": "code",
   "execution_count": 28,
   "id": "3fc992de",
   "metadata": {
    "scrolled": false
   },
   "outputs": [
    {
     "data": {
      "text/plain": [
       "array([ 1,  2,  3,  4,  5,  6,  7,  8,  9, 10], dtype=int16)"
      ]
     },
     "execution_count": 28,
     "metadata": {},
     "output_type": "execute_result"
    }
   ],
   "source": [
    "a.astype('int16') # questa funzione trasformata in int16"
   ]
  },
  {
   "cell_type": "code",
   "execution_count": 29,
   "id": "bbda8df7",
   "metadata": {
    "scrolled": true
   },
   "outputs": [
    {
     "data": {
      "text/plain": [
       "array([ 1,  2,  3,  4,  5,  6,  7,  8,  9, 10], dtype=int8)"
      ]
     },
     "execution_count": 29,
     "metadata": {},
     "output_type": "execute_result"
    }
   ],
   "source": [
    "a # stampando però a, risulta ancora int8 in quanto non è stata fatta nessuna associazione con la funzione sopra"
   ]
  },
  {
   "cell_type": "code",
   "execution_count": 30,
   "id": "68ce30bb",
   "metadata": {
    "scrolled": false
   },
   "outputs": [],
   "source": [
    "a = a.astype('int16')"
   ]
  },
  {
   "cell_type": "code",
   "execution_count": 31,
   "id": "9791d9d3",
   "metadata": {
    "scrolled": true
   },
   "outputs": [
    {
     "data": {
      "text/plain": [
       "array([ 1,  2,  3,  4,  5,  6,  7,  8,  9, 10], dtype=int16)"
      ]
     },
     "execution_count": 31,
     "metadata": {},
     "output_type": "execute_result"
    }
   ],
   "source": [
    "a # a finalmente risulta int16"
   ]
  },
  {
   "cell_type": "markdown",
   "id": "f5196d6b",
   "metadata": {},
   "source": [
    "#### Funzione SIZE - Numero elementi di un array e matrice"
   ]
  },
  {
   "cell_type": "code",
   "execution_count": 32,
   "id": "4a4cd6c5",
   "metadata": {},
   "outputs": [
    {
     "data": {
      "text/plain": [
       "10"
      ]
     },
     "execution_count": 32,
     "metadata": {},
     "output_type": "execute_result"
    }
   ],
   "source": [
    "a.size # elementi array"
   ]
  },
  {
   "cell_type": "code",
   "execution_count": 33,
   "id": "6e0418fc",
   "metadata": {
    "scrolled": true
   },
   "outputs": [
    {
     "data": {
      "text/plain": [
       "10"
      ]
     },
     "execution_count": 33,
     "metadata": {},
     "output_type": "execute_result"
    }
   ],
   "source": [
    "b.size # elementi matrice"
   ]
  },
  {
   "cell_type": "markdown",
   "id": "3bd98b25",
   "metadata": {},
   "source": [
    "#### Funzione ITEMSIZE - Ottenere size in byte di un singolo elemento di un array e matrice"
   ]
  },
  {
   "cell_type": "code",
   "execution_count": 34,
   "id": "6ed23859",
   "metadata": {},
   "outputs": [
    {
     "data": {
      "text/plain": [
       "2"
      ]
     },
     "execution_count": 34,
     "metadata": {},
     "output_type": "execute_result"
    }
   ],
   "source": [
    "a.itemsize"
   ]
  },
  {
   "cell_type": "code",
   "execution_count": 35,
   "id": "8b12ad02",
   "metadata": {
    "scrolled": false
   },
   "outputs": [
    {
     "data": {
      "text/plain": [
       "4"
      ]
     },
     "execution_count": 35,
     "metadata": {},
     "output_type": "execute_result"
    }
   ],
   "source": [
    "b.itemsize"
   ]
  },
  {
   "cell_type": "markdown",
   "id": "76bf5064",
   "metadata": {},
   "source": [
    "#### Funzione NBYTES - Ottenere size totale in byte di un array e matrice"
   ]
  },
  {
   "cell_type": "code",
   "execution_count": 36,
   "id": "8d3ae942",
   "metadata": {},
   "outputs": [
    {
     "data": {
      "text/plain": [
       "20"
      ]
     },
     "execution_count": 36,
     "metadata": {},
     "output_type": "execute_result"
    }
   ],
   "source": [
    "a.nbytes # a.size * a.itemsize"
   ]
  },
  {
   "cell_type": "code",
   "execution_count": 37,
   "id": "2c587f3f",
   "metadata": {
    "scrolled": false
   },
   "outputs": [
    {
     "data": {
      "text/plain": [
       "40"
      ]
     },
     "execution_count": 37,
     "metadata": {},
     "output_type": "execute_result"
    }
   ],
   "source": [
    "b.nbytes # b.size * b.itemsize"
   ]
  },
  {
   "cell_type": "markdown",
   "id": "b53192c5",
   "metadata": {},
   "source": [
    "#### Funzione NDIM - Ottenere dimensione di un array e matrice"
   ]
  },
  {
   "cell_type": "code",
   "execution_count": 38,
   "id": "6c53d300",
   "metadata": {},
   "outputs": [
    {
     "data": {
      "text/plain": [
       "1"
      ]
     },
     "execution_count": 38,
     "metadata": {},
     "output_type": "execute_result"
    }
   ],
   "source": [
    "a.ndim # dimensione array"
   ]
  },
  {
   "cell_type": "code",
   "execution_count": 39,
   "id": "195cceff",
   "metadata": {},
   "outputs": [
    {
     "data": {
      "text/plain": [
       "2"
      ]
     },
     "execution_count": 39,
     "metadata": {},
     "output_type": "execute_result"
    }
   ],
   "source": [
    "b.ndim # dimensione matrice"
   ]
  },
  {
   "cell_type": "markdown",
   "id": "53282337",
   "metadata": {},
   "source": [
    "#### Funzione SHAPE - Grandezza di un array e matrice"
   ]
  },
  {
   "cell_type": "code",
   "execution_count": 40,
   "id": "b427e1fd",
   "metadata": {},
   "outputs": [
    {
     "data": {
      "text/plain": [
       "(10,)"
      ]
     },
     "execution_count": 40,
     "metadata": {},
     "output_type": "execute_result"
    }
   ],
   "source": [
    "a.shape # grandezza array"
   ]
  },
  {
   "cell_type": "code",
   "execution_count": 41,
   "id": "dcdf20ce",
   "metadata": {},
   "outputs": [
    {
     "data": {
      "text/plain": [
       "(2, 5)"
      ]
     },
     "execution_count": 41,
     "metadata": {},
     "output_type": "execute_result"
    }
   ],
   "source": [
    "b.shape # grandezza matrice"
   ]
  },
  {
   "cell_type": "markdown",
   "id": "505f213d",
   "metadata": {},
   "source": [
    "### <span style='background :yellow'>Modificare array"
   ]
  },
  {
   "cell_type": "code",
   "execution_count": 42,
   "id": "0330c9b4",
   "metadata": {
    "scrolled": true
   },
   "outputs": [],
   "source": [
    "a = np.array([1,2,3,4,5,6,7,8,9,10], dtype='int8') # l'argomento passato è una lista, viene inoltre specificato il tipo che si vuole per i dati (int8)"
   ]
  },
  {
   "cell_type": "code",
   "execution_count": 43,
   "id": "c679fb5b",
   "metadata": {},
   "outputs": [
    {
     "name": "stdout",
     "output_type": "stream",
     "text": [
      "(10,)\n"
     ]
    },
    {
     "data": {
      "text/plain": [
       "array([ 1,  2,  3,  4,  5,  6,  7,  8,  9, 10], dtype=int8)"
      ]
     },
     "execution_count": 43,
     "metadata": {},
     "output_type": "execute_result"
    }
   ],
   "source": [
    "print(a.shape)\n",
    "a"
   ]
  },
  {
   "cell_type": "markdown",
   "id": "67edf415",
   "metadata": {},
   "source": [
    "#### Funzione RESIZE - Cambiare numero di righe e colonne della matrice\n",
    "La funzione resize non ritorna nulla, e modifica la matrice originale"
   ]
  },
  {
   "cell_type": "code",
   "execution_count": 44,
   "id": "2dc1313e",
   "metadata": {},
   "outputs": [
    {
     "name": "stdout",
     "output_type": "stream",
     "text": [
      "(2, 5)\n"
     ]
    },
    {
     "data": {
      "text/plain": [
       "array([[ 1,  2,  3,  4,  5],\n",
       "       [ 6,  7,  8,  9, 10]], dtype=int8)"
      ]
     },
     "execution_count": 44,
     "metadata": {},
     "output_type": "execute_result"
    }
   ],
   "source": [
    "a.resize(2,5) # da uno shape (1,10) si passa ad uno shape (2,5)\n",
    "print(a.shape)\n",
    "a"
   ]
  },
  {
   "cell_type": "code",
   "execution_count": 45,
   "id": "8df0c623",
   "metadata": {
    "scrolled": true
   },
   "outputs": [
    {
     "name": "stdout",
     "output_type": "stream",
     "text": [
      "(5, 2)\n"
     ]
    },
    {
     "data": {
      "text/plain": [
       "array([[ 1,  2],\n",
       "       [ 3,  4],\n",
       "       [ 5,  6],\n",
       "       [ 7,  8],\n",
       "       [ 9, 10]], dtype=int8)"
      ]
     },
     "execution_count": 45,
     "metadata": {},
     "output_type": "execute_result"
    }
   ],
   "source": [
    "a.resize(5,2) # da uno shape (2,5) si passa ad uno shape (5,2)\n",
    "print(a.shape)\n",
    "a"
   ]
  },
  {
   "cell_type": "markdown",
   "id": "b1b44125",
   "metadata": {},
   "source": [
    "#### Funzione RESHAPE - Cambiare numero di righe e colonne della matrice\n",
    "La funzione reshape ritorna una nuova matrice, e non modifica la matrice originale"
   ]
  },
  {
   "cell_type": "code",
   "execution_count": 46,
   "id": "def11fb4",
   "metadata": {},
   "outputs": [
    {
     "name": "stdout",
     "output_type": "stream",
     "text": [
      "(5, 2)\n"
     ]
    },
    {
     "data": {
      "text/plain": [
       "array([[ 1,  2],\n",
       "       [ 3,  4],\n",
       "       [ 5,  6],\n",
       "       [ 7,  8],\n",
       "       [ 9, 10]], dtype=int8)"
      ]
     },
     "execution_count": 46,
     "metadata": {},
     "output_type": "execute_result"
    }
   ],
   "source": [
    "print(a.shape) # la matrice originale ha uno shape (5,2)\n",
    "a"
   ]
  },
  {
   "cell_type": "code",
   "execution_count": 47,
   "id": "68315bfe",
   "metadata": {
    "scrolled": true
   },
   "outputs": [
    {
     "name": "stdout",
     "output_type": "stream",
     "text": [
      "(5, 2)\n"
     ]
    },
    {
     "data": {
      "text/plain": [
       "array([[ 1,  2],\n",
       "       [ 3,  4],\n",
       "       [ 5,  6],\n",
       "       [ 7,  8],\n",
       "       [ 9, 10]], dtype=int8)"
      ]
     },
     "execution_count": 47,
     "metadata": {},
     "output_type": "execute_result"
    }
   ],
   "source": [
    "a.reshape(2,5) # da uno shape (5,2) si vuole passare ad uno shape (2,5), ma come si può notare dall'output lo shape di a rimane (5,2)\n",
    "print(a.shape)\n",
    "a"
   ]
  },
  {
   "cell_type": "code",
   "execution_count": 48,
   "id": "899b0956",
   "metadata": {
    "scrolled": true
   },
   "outputs": [
    {
     "name": "stdout",
     "output_type": "stream",
     "text": [
      "(2, 5)\n"
     ]
    },
    {
     "data": {
      "text/plain": [
       "array([[ 1,  2,  3,  4,  5],\n",
       "       [ 6,  7,  8,  9, 10]], dtype=int8)"
      ]
     },
     "execution_count": 48,
     "metadata": {},
     "output_type": "execute_result"
    }
   ],
   "source": [
    "b = a.reshape(2,5) # facendo l'assegnazione, la nuova matrice ha lo shape voluto (2,5)\n",
    "print(b.shape)\n",
    "b"
   ]
  },
  {
   "cell_type": "markdown",
   "id": "56406cf8",
   "metadata": {},
   "source": [
    "#### Funzione RAVEL - Rendere il vettore monodimensionale"
   ]
  },
  {
   "cell_type": "code",
   "execution_count": 49,
   "id": "3cfd932c",
   "metadata": {},
   "outputs": [
    {
     "data": {
      "text/plain": [
       "array([[ 1,  2],\n",
       "       [ 3,  4],\n",
       "       [ 5,  6],\n",
       "       [ 7,  8],\n",
       "       [ 9, 10]], dtype=int8)"
      ]
     },
     "execution_count": 49,
     "metadata": {},
     "output_type": "execute_result"
    }
   ],
   "source": [
    "a"
   ]
  },
  {
   "cell_type": "code",
   "execution_count": 50,
   "id": "533dbaae",
   "metadata": {
    "scrolled": true
   },
   "outputs": [
    {
     "data": {
      "text/plain": [
       "array([ 1,  2,  3,  4,  5,  6,  7,  8,  9, 10], dtype=int8)"
      ]
     },
     "execution_count": 50,
     "metadata": {},
     "output_type": "execute_result"
    }
   ],
   "source": [
    "c = a.ravel()\n",
    "c"
   ]
  },
  {
   "cell_type": "markdown",
   "id": "26f36f0b",
   "metadata": {},
   "source": [
    "#### Funzione TRANSPOSE - Ottenere la matrice trasposta"
   ]
  },
  {
   "cell_type": "code",
   "execution_count": 51,
   "id": "6e52966a",
   "metadata": {},
   "outputs": [
    {
     "data": {
      "text/plain": [
       "array([[ 1,  2],\n",
       "       [ 3,  4],\n",
       "       [ 5,  6],\n",
       "       [ 7,  8],\n",
       "       [ 9, 10]], dtype=int8)"
      ]
     },
     "execution_count": 51,
     "metadata": {},
     "output_type": "execute_result"
    }
   ],
   "source": [
    "a"
   ]
  },
  {
   "cell_type": "code",
   "execution_count": 52,
   "id": "2bd0cede",
   "metadata": {
    "scrolled": true
   },
   "outputs": [
    {
     "data": {
      "text/plain": [
       "array([[ 1,  3,  5,  7,  9],\n",
       "       [ 2,  4,  6,  8, 10]], dtype=int8)"
      ]
     },
     "execution_count": 52,
     "metadata": {},
     "output_type": "execute_result"
    }
   ],
   "source": [
    "c = a.transpose()\n",
    "c"
   ]
  },
  {
   "cell_type": "markdown",
   "id": "bf27bf71",
   "metadata": {},
   "source": [
    "#### Funzione VSTACK - Unire verticalmente più vettori"
   ]
  },
  {
   "cell_type": "code",
   "execution_count": 53,
   "id": "46f5bda4",
   "metadata": {},
   "outputs": [],
   "source": [
    "a = np.array([[1,2,3],[4,5,6]]) # i due vettori devono avere lo stesso numero di colonne\n",
    "b = np.array([1,2,3])"
   ]
  },
  {
   "cell_type": "code",
   "execution_count": 54,
   "id": "4cd1f301",
   "metadata": {},
   "outputs": [
    {
     "data": {
      "text/plain": [
       "array([[1, 2, 3],\n",
       "       [4, 5, 6]])"
      ]
     },
     "execution_count": 54,
     "metadata": {},
     "output_type": "execute_result"
    }
   ],
   "source": [
    "a"
   ]
  },
  {
   "cell_type": "code",
   "execution_count": 55,
   "id": "47e0c2e1",
   "metadata": {},
   "outputs": [
    {
     "data": {
      "text/plain": [
       "array([1, 2, 3])"
      ]
     },
     "execution_count": 55,
     "metadata": {},
     "output_type": "execute_result"
    }
   ],
   "source": [
    "b"
   ]
  },
  {
   "cell_type": "code",
   "execution_count": 56,
   "id": "90c16b88",
   "metadata": {
    "scrolled": true
   },
   "outputs": [
    {
     "data": {
      "text/plain": [
       "array([[1, 2, 3],\n",
       "       [4, 5, 6],\n",
       "       [1, 2, 3]])"
      ]
     },
     "execution_count": 56,
     "metadata": {},
     "output_type": "execute_result"
    }
   ],
   "source": [
    "np.vstack([a,b])"
   ]
  },
  {
   "cell_type": "code",
   "execution_count": 57,
   "id": "7302442f",
   "metadata": {
    "scrolled": true
   },
   "outputs": [
    {
     "data": {
      "text/plain": [
       "array([[1, 2, 3],\n",
       "       [4, 5, 6],\n",
       "       [1, 2, 3],\n",
       "       [1, 2, 3],\n",
       "       [4, 5, 6]])"
      ]
     },
     "execution_count": 57,
     "metadata": {},
     "output_type": "execute_result"
    }
   ],
   "source": [
    "np.vstack([a,b,a])"
   ]
  },
  {
   "cell_type": "markdown",
   "id": "1886087d",
   "metadata": {},
   "source": [
    "#### Funzione HSTACK - Unire orizzontalmente più vettori"
   ]
  },
  {
   "cell_type": "code",
   "execution_count": 58,
   "id": "c00a52f1",
   "metadata": {},
   "outputs": [],
   "source": [
    "a = np.array([[1,2,3],[4,5,6]]) # i due vettori devono avere lo stesso numero di righe\n",
    "b = np.array([[1,2],[3,4]])"
   ]
  },
  {
   "cell_type": "code",
   "execution_count": 59,
   "id": "f9441f30",
   "metadata": {
    "scrolled": true
   },
   "outputs": [
    {
     "data": {
      "text/plain": [
       "array([[1, 2, 3],\n",
       "       [4, 5, 6]])"
      ]
     },
     "execution_count": 59,
     "metadata": {},
     "output_type": "execute_result"
    }
   ],
   "source": [
    "a"
   ]
  },
  {
   "cell_type": "code",
   "execution_count": 60,
   "id": "8119409e",
   "metadata": {},
   "outputs": [
    {
     "data": {
      "text/plain": [
       "array([[1, 2],\n",
       "       [3, 4]])"
      ]
     },
     "execution_count": 60,
     "metadata": {},
     "output_type": "execute_result"
    }
   ],
   "source": [
    "b"
   ]
  },
  {
   "cell_type": "code",
   "execution_count": 61,
   "id": "66b3aa0d",
   "metadata": {},
   "outputs": [
    {
     "data": {
      "text/plain": [
       "array([[1, 2, 3, 1, 2],\n",
       "       [4, 5, 6, 3, 4]])"
      ]
     },
     "execution_count": 61,
     "metadata": {},
     "output_type": "execute_result"
    }
   ],
   "source": [
    "np.hstack([a,b])"
   ]
  },
  {
   "cell_type": "code",
   "execution_count": 62,
   "id": "70a2c788",
   "metadata": {},
   "outputs": [
    {
     "data": {
      "text/plain": [
       "array([[1, 2, 3, 1, 2, 1, 2],\n",
       "       [4, 5, 6, 3, 4, 3, 4]])"
      ]
     },
     "execution_count": 62,
     "metadata": {},
     "output_type": "execute_result"
    }
   ],
   "source": [
    "np.hstack([a,b,b])"
   ]
  },
  {
   "cell_type": "markdown",
   "id": "3ca46604",
   "metadata": {},
   "source": [
    "### <span style='background :yellow'>Copiare array"
   ]
  },
  {
   "cell_type": "markdown",
   "id": "fbb6f25d",
   "metadata": {},
   "source": [
    "#### Copia sbagliata"
   ]
  },
  {
   "cell_type": "code",
   "execution_count": 63,
   "id": "cb69d73b",
   "metadata": {
    "scrolled": true
   },
   "outputs": [
    {
     "data": {
      "text/plain": [
       "array([1, 2, 3], dtype=int8)"
      ]
     },
     "execution_count": 63,
     "metadata": {},
     "output_type": "execute_result"
    }
   ],
   "source": [
    "a = np.array([1,2,3], dtype='int8')\n",
    "a"
   ]
  },
  {
   "cell_type": "code",
   "execution_count": 64,
   "id": "90a0d386",
   "metadata": {
    "scrolled": true
   },
   "outputs": [],
   "source": [
    "b = a # b copia a, ma una modifica di b comporta la modifica anche di a\n",
    "b[0] = 100"
   ]
  },
  {
   "cell_type": "code",
   "execution_count": 65,
   "id": "6fced2b7",
   "metadata": {},
   "outputs": [
    {
     "data": {
      "text/plain": [
       "array([100,   2,   3], dtype=int8)"
      ]
     },
     "execution_count": 65,
     "metadata": {},
     "output_type": "execute_result"
    }
   ],
   "source": [
    "a"
   ]
  },
  {
   "cell_type": "code",
   "execution_count": 66,
   "id": "b30e7ffc",
   "metadata": {},
   "outputs": [
    {
     "data": {
      "text/plain": [
       "array([100,   2,   3], dtype=int8)"
      ]
     },
     "execution_count": 66,
     "metadata": {},
     "output_type": "execute_result"
    }
   ],
   "source": [
    "b"
   ]
  },
  {
   "cell_type": "markdown",
   "id": "d6779657",
   "metadata": {},
   "source": [
    "#### Copia corretta"
   ]
  },
  {
   "cell_type": "code",
   "execution_count": 67,
   "id": "8be7e32e",
   "metadata": {
    "scrolled": true
   },
   "outputs": [
    {
     "data": {
      "text/plain": [
       "array([1, 2, 3], dtype=int8)"
      ]
     },
     "execution_count": 67,
     "metadata": {},
     "output_type": "execute_result"
    }
   ],
   "source": [
    "a = np.array([1,2,3], dtype='int8')\n",
    "a"
   ]
  },
  {
   "cell_type": "code",
   "execution_count": 68,
   "id": "5e1f1275",
   "metadata": {
    "scrolled": true
   },
   "outputs": [],
   "source": [
    "b = a.copy()\n",
    "b[0] = 100"
   ]
  },
  {
   "cell_type": "code",
   "execution_count": 69,
   "id": "82e9fbf8",
   "metadata": {},
   "outputs": [
    {
     "data": {
      "text/plain": [
       "array([1, 2, 3], dtype=int8)"
      ]
     },
     "execution_count": 69,
     "metadata": {},
     "output_type": "execute_result"
    }
   ],
   "source": [
    "a"
   ]
  },
  {
   "cell_type": "code",
   "execution_count": 70,
   "id": "2868caa7",
   "metadata": {},
   "outputs": [
    {
     "data": {
      "text/plain": [
       "array([100,   2,   3], dtype=int8)"
      ]
     },
     "execution_count": 70,
     "metadata": {},
     "output_type": "execute_result"
    }
   ],
   "source": [
    "b"
   ]
  },
  {
   "cell_type": "markdown",
   "id": "51f4991b",
   "metadata": {},
   "source": [
    "### <span style='background :yellow'>Array slicing"
   ]
  },
  {
   "cell_type": "markdown",
   "id": "a763f472",
   "metadata": {},
   "source": [
    "#### Array"
   ]
  },
  {
   "cell_type": "code",
   "execution_count": 71,
   "id": "53f02862",
   "metadata": {},
   "outputs": [
    {
     "data": {
      "text/plain": [
       "array([ 0,  2,  4,  6,  8, 10, 12, 14, 16, 18])"
      ]
     },
     "execution_count": 71,
     "metadata": {},
     "output_type": "execute_result"
    }
   ],
   "source": [
    "# Creazione del vettore a\n",
    "a = np.arange(0, 20, 2)\n",
    "a"
   ]
  },
  {
   "cell_type": "markdown",
   "id": "fa5738aa",
   "metadata": {},
   "source": [
    "##### Modifica di un elemento"
   ]
  },
  {
   "cell_type": "code",
   "execution_count": 72,
   "id": "3b88e748",
   "metadata": {},
   "outputs": [
    {
     "data": {
      "text/plain": [
       "array([100,   2,   4,   6,   8,  10,  12,  14,  16,  18])"
      ]
     },
     "execution_count": 72,
     "metadata": {},
     "output_type": "execute_result"
    }
   ],
   "source": [
    "a[0] = 100 # modifica del primo elemento dell'array\n",
    "a"
   ]
  },
  {
   "cell_type": "markdown",
   "id": "b6804df1",
   "metadata": {},
   "source": [
    "##### Ottenere uno specifico elemento"
   ]
  },
  {
   "cell_type": "code",
   "execution_count": 73,
   "id": "ac3e5252",
   "metadata": {
    "scrolled": true
   },
   "outputs": [
    {
     "data": {
      "text/plain": [
       "4"
      ]
     },
     "execution_count": 73,
     "metadata": {},
     "output_type": "execute_result"
    }
   ],
   "source": [
    "a[2] # elemento in posizione 2"
   ]
  },
  {
   "cell_type": "markdown",
   "id": "8da6f5af",
   "metadata": {},
   "source": [
    "##### Ottenere un intervallo"
   ]
  },
  {
   "cell_type": "code",
   "execution_count": 74,
   "id": "90fa1565",
   "metadata": {
    "scrolled": false
   },
   "outputs": [
    {
     "data": {
      "text/plain": [
       "array([ 2,  4,  6,  8, 10])"
      ]
     },
     "execution_count": 74,
     "metadata": {},
     "output_type": "execute_result"
    }
   ],
   "source": [
    "b = a[1:6] # intervallo tra elementi in posizione 1 e (6-1)\n",
    "b"
   ]
  },
  {
   "cell_type": "code",
   "execution_count": 75,
   "id": "c1e56f7b",
   "metadata": {
    "scrolled": false
   },
   "outputs": [
    {
     "data": {
      "text/plain": [
       "array([ 2,  6, 10])"
      ]
     },
     "execution_count": 75,
     "metadata": {},
     "output_type": "execute_result"
    }
   ],
   "source": [
    "b = a[1:6:2] # intervallo tra elementi in posizione 1 e (6-1) con step di 2 elementi\n",
    "b"
   ]
  },
  {
   "cell_type": "markdown",
   "id": "a290cd77",
   "metadata": {},
   "source": [
    "##### Ottenere i primi n elementi"
   ]
  },
  {
   "cell_type": "code",
   "execution_count": 76,
   "id": "c38e4191",
   "metadata": {
    "scrolled": true
   },
   "outputs": [
    {
     "data": {
      "text/plain": [
       "array([100,   2,   4,   6,   8])"
      ]
     },
     "execution_count": 76,
     "metadata": {},
     "output_type": "execute_result"
    }
   ],
   "source": [
    "b = a[:5] # primi 5 elementi\n",
    "b"
   ]
  },
  {
   "cell_type": "markdown",
   "id": "e4522a0f",
   "metadata": {},
   "source": [
    "##### Ottenere elementi da n in poi"
   ]
  },
  {
   "cell_type": "code",
   "execution_count": 77,
   "id": "06e50d46",
   "metadata": {},
   "outputs": [
    {
     "data": {
      "text/plain": [
       "array([10, 12, 14, 16, 18])"
      ]
     },
     "execution_count": 77,
     "metadata": {},
     "output_type": "execute_result"
    }
   ],
   "source": [
    "b = a[5:] # da elemento 5 in poi\n",
    "b"
   ]
  },
  {
   "cell_type": "markdown",
   "id": "7935b5a4",
   "metadata": {},
   "source": [
    "##### Ottenere alcuni elementi"
   ]
  },
  {
   "cell_type": "code",
   "execution_count": 78,
   "id": "a846cdfd",
   "metadata": {},
   "outputs": [
    {
     "data": {
      "text/plain": [
       "array([ 2,  4, 16])"
      ]
     },
     "execution_count": 78,
     "metadata": {},
     "output_type": "execute_result"
    }
   ],
   "source": [
    "b = a[[1,2,8]] # elementi in posizione 1,2 e 8\n",
    "b"
   ]
  },
  {
   "cell_type": "markdown",
   "id": "2cfd65cb",
   "metadata": {},
   "source": [
    "#### Matrici"
   ]
  },
  {
   "cell_type": "code",
   "execution_count": 79,
   "id": "90c4054f",
   "metadata": {
    "scrolled": true
   },
   "outputs": [
    {
     "data": {
      "text/plain": [
       "array([[0, 1, 2, 3, 4],\n",
       "       [5, 6, 7, 8, 9]])"
      ]
     },
     "execution_count": 79,
     "metadata": {},
     "output_type": "execute_result"
    }
   ],
   "source": [
    "# Creazione del vettore a\n",
    "a = np.array([[0,1,2,3,4],[5,6,7,8,9]])\n",
    "a"
   ]
  },
  {
   "cell_type": "markdown",
   "id": "adb5e800",
   "metadata": {},
   "source": [
    "##### Modifica di un elemento"
   ]
  },
  {
   "cell_type": "code",
   "execution_count": 80,
   "id": "48fbb5ff",
   "metadata": {
    "scrolled": true
   },
   "outputs": [
    {
     "data": {
      "text/plain": [
       "array([[100,   1,   2,   3,   4],\n",
       "       [  5,   6,   7,   8,   9]])"
      ]
     },
     "execution_count": 80,
     "metadata": {},
     "output_type": "execute_result"
    }
   ],
   "source": [
    "a[0,0] = 100\n",
    "a"
   ]
  },
  {
   "cell_type": "markdown",
   "id": "77ace82a",
   "metadata": {},
   "source": [
    "##### Modifica di una riga"
   ]
  },
  {
   "cell_type": "code",
   "execution_count": 81,
   "id": "6f43f01b",
   "metadata": {
    "scrolled": true
   },
   "outputs": [
    {
     "data": {
      "text/plain": [
       "array([[90, 90, 90, 90, 90],\n",
       "       [ 5,  6,  7,  8,  9]])"
      ]
     },
     "execution_count": 81,
     "metadata": {},
     "output_type": "execute_result"
    }
   ],
   "source": [
    "a[0,:] = 90 # singolo valore per tutta la riga\n",
    "a"
   ]
  },
  {
   "cell_type": "code",
   "execution_count": 82,
   "id": "7ef9ab0d",
   "metadata": {
    "scrolled": false
   },
   "outputs": [
    {
     "data": {
      "text/plain": [
       "array([[0, 1, 2, 3, 4],\n",
       "       [5, 6, 7, 8, 9]])"
      ]
     },
     "execution_count": 82,
     "metadata": {},
     "output_type": "execute_result"
    }
   ],
   "source": [
    "a[0,:] = [0,1,2,3,4] # lista di valori [] per modificare tutta la riga\n",
    "a"
   ]
  },
  {
   "cell_type": "markdown",
   "id": "d313f690",
   "metadata": {},
   "source": [
    "##### Modifica di una colonna"
   ]
  },
  {
   "cell_type": "code",
   "execution_count": 83,
   "id": "e138229c",
   "metadata": {
    "scrolled": true
   },
   "outputs": [
    {
     "data": {
      "text/plain": [
       "array([[ 0,  1, 90,  3,  4],\n",
       "       [ 5,  6, 90,  8,  9]])"
      ]
     },
     "execution_count": 83,
     "metadata": {},
     "output_type": "execute_result"
    }
   ],
   "source": [
    "a[:,2] = 90 # singolo valore per tutta la colonna\n",
    "a"
   ]
  },
  {
   "cell_type": "code",
   "execution_count": 84,
   "id": "5934bcad",
   "metadata": {
    "scrolled": false
   },
   "outputs": [
    {
     "data": {
      "text/plain": [
       "array([[0, 1, 2, 3, 4],\n",
       "       [5, 6, 7, 8, 9]])"
      ]
     },
     "execution_count": 84,
     "metadata": {},
     "output_type": "execute_result"
    }
   ],
   "source": [
    "a[:,2] = [2,7] # lista di valori [] per modificare tutta la colonna\n",
    "a"
   ]
  },
  {
   "cell_type": "markdown",
   "id": "6e1db5d4",
   "metadata": {},
   "source": [
    "##### Modifica di un pezzo di matrice"
   ]
  },
  {
   "cell_type": "code",
   "execution_count": 85,
   "id": "63c1369d",
   "metadata": {},
   "outputs": [
    {
     "data": {
      "text/plain": [
       "array([[0, 1, 2, 3, 4],\n",
       "       [5, 6, 7, 8, 9]])"
      ]
     },
     "execution_count": 85,
     "metadata": {},
     "output_type": "execute_result"
    }
   ],
   "source": [
    "a"
   ]
  },
  {
   "cell_type": "code",
   "execution_count": 86,
   "id": "c0ec5777",
   "metadata": {
    "scrolled": true
   },
   "outputs": [
    {
     "data": {
      "text/plain": [
       "array([[ 0, 90, 90,  3,  4],\n",
       "       [ 5, 90, 90,  8,  9]])"
      ]
     },
     "execution_count": 86,
     "metadata": {},
     "output_type": "execute_result"
    }
   ],
   "source": [
    "a[0:2,1:3] = 90 # singolo valore per tutto il pezzo\n",
    "a"
   ]
  },
  {
   "cell_type": "code",
   "execution_count": 87,
   "id": "e4ebbb56",
   "metadata": {
    "scrolled": false
   },
   "outputs": [
    {
     "data": {
      "text/plain": [
       "array([[0, 1, 2, 3, 4],\n",
       "       [5, 6, 7, 8, 9]])"
      ]
     },
     "execution_count": 87,
     "metadata": {},
     "output_type": "execute_result"
    }
   ],
   "source": [
    "a[0:2,1:3] = [[1,2],[6,7]] # matrice di valori [[],[]] per modificare il pezzo di matrice\n",
    "a"
   ]
  },
  {
   "cell_type": "markdown",
   "id": "6e0300cb",
   "metadata": {},
   "source": [
    "##### Ottenere uno specifico elemento"
   ]
  },
  {
   "cell_type": "code",
   "execution_count": 88,
   "id": "30a7e835",
   "metadata": {
    "scrolled": true
   },
   "outputs": [
    {
     "data": {
      "text/plain": [
       "7"
      ]
     },
     "execution_count": 88,
     "metadata": {},
     "output_type": "execute_result"
    }
   ],
   "source": [
    "a[1,2] # elemento a riga 1 colonna 2"
   ]
  },
  {
   "cell_type": "code",
   "execution_count": 89,
   "id": "d76d6567",
   "metadata": {
    "scrolled": true
   },
   "outputs": [
    {
     "data": {
      "text/plain": [
       "array([1])"
      ]
     },
     "execution_count": 89,
     "metadata": {},
     "output_type": "execute_result"
    }
   ],
   "source": [
    "b = a[0:1,1] # 0:1 prende solamente la posizione 0, perchè sarebbe da 0 ad (1-1) = 0, ma permette di mantere la struttura array (altrimenti restituirebbe un numero)\n",
    "b"
   ]
  },
  {
   "cell_type": "markdown",
   "id": "8b877146",
   "metadata": {},
   "source": [
    "##### Ottenere una specifica riga"
   ]
  },
  {
   "cell_type": "code",
   "execution_count": 90,
   "id": "69032abe",
   "metadata": {},
   "outputs": [
    {
     "data": {
      "text/plain": [
       "array([5, 6, 7, 8, 9])"
      ]
     },
     "execution_count": 90,
     "metadata": {},
     "output_type": "execute_result"
    }
   ],
   "source": [
    "b = a[1,:] # riga 1, tutte le colonne\n",
    "b"
   ]
  },
  {
   "cell_type": "code",
   "execution_count": 91,
   "id": "6bdc6582",
   "metadata": {},
   "outputs": [
    {
     "data": {
      "text/plain": [
       "array([5, 6, 7, 8, 9])"
      ]
     },
     "execution_count": 91,
     "metadata": {},
     "output_type": "execute_result"
    }
   ],
   "source": [
    "b = a[1] # riga 1, tutte le colonne (altro metodo)\n",
    "b"
   ]
  },
  {
   "cell_type": "markdown",
   "id": "17bf5620",
   "metadata": {},
   "source": [
    "##### Ottenere una specifica colonna"
   ]
  },
  {
   "cell_type": "code",
   "execution_count": 92,
   "id": "19d27cfb",
   "metadata": {},
   "outputs": [
    {
     "data": {
      "text/plain": [
       "array([1, 6])"
      ]
     },
     "execution_count": 92,
     "metadata": {},
     "output_type": "execute_result"
    }
   ],
   "source": [
    "b = a[:,1] # colonna 1, tutte le righe\n",
    "b"
   ]
  },
  {
   "cell_type": "code",
   "execution_count": 93,
   "id": "69469291",
   "metadata": {
    "scrolled": false
   },
   "outputs": [
    {
     "data": {
      "text/plain": [
       "array([1, 6])"
      ]
     },
     "execution_count": 93,
     "metadata": {},
     "output_type": "execute_result"
    }
   ],
   "source": [
    "b = a[...,1] # colonna 1, tutte le righe (altro metodo)\n",
    "b"
   ]
  },
  {
   "cell_type": "markdown",
   "id": "78441fcc",
   "metadata": {},
   "source": [
    "##### Ottenere un pezzo di matrice\n",
    "Si possono applicare 4 metodi differenti"
   ]
  },
  {
   "cell_type": "code",
   "execution_count": 94,
   "id": "bd9a2765",
   "metadata": {},
   "outputs": [
    {
     "data": {
      "text/plain": [
       "array([[0, 1],\n",
       "       [5, 6]])"
      ]
     },
     "execution_count": 94,
     "metadata": {},
     "output_type": "execute_result"
    }
   ],
   "source": [
    "b = a[0:2,0:2] # sia righe che colonne tramite intervallo \n",
    "b"
   ]
  },
  {
   "cell_type": "code",
   "execution_count": 95,
   "id": "fad99f20",
   "metadata": {},
   "outputs": [
    {
     "data": {
      "text/plain": [
       "array([[0, 1],\n",
       "       [5, 6]])"
      ]
     },
     "execution_count": 95,
     "metadata": {},
     "output_type": "execute_result"
    }
   ],
   "source": [
    "b = a[0:2,[0,1]] # righe tramite intervallo e colonne tramite lista\n",
    "b"
   ]
  },
  {
   "cell_type": "code",
   "execution_count": 96,
   "id": "db39687d",
   "metadata": {},
   "outputs": [
    {
     "data": {
      "text/plain": [
       "array([[0, 1],\n",
       "       [5, 6]])"
      ]
     },
     "execution_count": 96,
     "metadata": {},
     "output_type": "execute_result"
    }
   ],
   "source": [
    "b = a[[0,1],0:2] # colonne tramite intervallo e righe tramite lista\n",
    "b"
   ]
  },
  {
   "cell_type": "code",
   "execution_count": 97,
   "id": "b71bbdf3",
   "metadata": {},
   "outputs": [
    {
     "data": {
      "text/plain": [
       "array([0, 1, 5, 6])"
      ]
     },
     "execution_count": 97,
     "metadata": {},
     "output_type": "execute_result"
    }
   ],
   "source": [
    "b = a[[0,0,1,1],[0,1,0,1]] # righe e colonne tramite liste (in questo caso si ottiene un vettore monodimensionale)\n",
    "b"
   ]
  },
  {
   "cell_type": "markdown",
   "id": "47fca41e",
   "metadata": {},
   "source": [
    "### <span style='background :yellow'>Maschere booleane"
   ]
  },
  {
   "cell_type": "code",
   "execution_count": 98,
   "id": "2ae8694f",
   "metadata": {
    "scrolled": true
   },
   "outputs": [],
   "source": [
    "# Creazione del vettore a\n",
    "a = np.array([[0,1,200,4,5],[1,2,1,1,2]])"
   ]
  },
  {
   "cell_type": "code",
   "execution_count": 99,
   "id": "0a8a3f1d",
   "metadata": {
    "scrolled": false
   },
   "outputs": [
    {
     "data": {
      "text/plain": [
       "array([[  0,   1, 200,   4,   5],\n",
       "       [  1,   2,   1,   1,   2]])"
      ]
     },
     "execution_count": 99,
     "metadata": {},
     "output_type": "execute_result"
    }
   ],
   "source": [
    "a"
   ]
  },
  {
   "cell_type": "markdown",
   "id": "720b2ad0",
   "metadata": {},
   "source": [
    "#### Creazione del filtro"
   ]
  },
  {
   "cell_type": "code",
   "execution_count": 100,
   "id": "87fc4811",
   "metadata": {
    "scrolled": false
   },
   "outputs": [
    {
     "data": {
      "text/plain": [
       "array([[False, False, False,  True,  True],\n",
       "       [False, False, False, False, False]])"
      ]
     },
     "execution_count": 100,
     "metadata": {},
     "output_type": "execute_result"
    }
   ],
   "source": [
    "mask_1 = ((a > 3) & (a < 200)) # filtro per valori della matrice 3 < a < 200\n",
    "mask_1"
   ]
  },
  {
   "cell_type": "code",
   "execution_count": 101,
   "id": "18f3252b",
   "metadata": {
    "scrolled": false
   },
   "outputs": [
    {
     "data": {
      "text/plain": [
       "array([[ True,  True,  True, False, False],\n",
       "       [ True,  True,  True,  True,  True]])"
      ]
     },
     "execution_count": 101,
     "metadata": {},
     "output_type": "execute_result"
    }
   ],
   "source": [
    "mask_2 = ~mask_1 # filtro inverso\n",
    "mask_2"
   ]
  },
  {
   "cell_type": "markdown",
   "id": "6a5a334a",
   "metadata": {},
   "source": [
    "#### Applicazione del filtro su tutta la matrice"
   ]
  },
  {
   "cell_type": "code",
   "execution_count": 102,
   "id": "170efd21",
   "metadata": {
    "scrolled": true
   },
   "outputs": [
    {
     "data": {
      "text/plain": [
       "array([4, 5])"
      ]
     },
     "execution_count": 102,
     "metadata": {},
     "output_type": "execute_result"
    }
   ],
   "source": [
    "c = a[mask_1]\n",
    "c"
   ]
  },
  {
   "cell_type": "markdown",
   "id": "6b331178",
   "metadata": {},
   "source": [
    "#### Funzione ANY\n",
    "La maschera viene applicata su tutte le righe o colonne (in base al parametro axis)\n",
    "Basta che almeno un valore della riga o colonna rispetti la condizione per ritornare True"
   ]
  },
  {
   "cell_type": "code",
   "execution_count": 103,
   "id": "643f4b87",
   "metadata": {},
   "outputs": [
    {
     "data": {
      "text/plain": [
       "array([False, False, False,  True,  True])"
      ]
     },
     "execution_count": 103,
     "metadata": {},
     "output_type": "execute_result"
    }
   ],
   "source": [
    "np.any(mask_1, axis=0) # applicazione della maschera sulle colonne"
   ]
  },
  {
   "cell_type": "code",
   "execution_count": 104,
   "id": "649c87b1",
   "metadata": {
    "scrolled": true
   },
   "outputs": [
    {
     "data": {
      "text/plain": [
       "array([ True, False])"
      ]
     },
     "execution_count": 104,
     "metadata": {},
     "output_type": "execute_result"
    }
   ],
   "source": [
    "np.any(mask_1, axis=1) # applicazione della maschera sulle righe"
   ]
  },
  {
   "cell_type": "markdown",
   "id": "43a44d54",
   "metadata": {},
   "source": [
    "#### Funzione ALL\n",
    "La maschera viene applicata su tutte le righe o colonne (in base al parametro axis)\n",
    "Tutti i valori della riga o colonna devono rispettare la condizione per ritornare True"
   ]
  },
  {
   "cell_type": "code",
   "execution_count": 105,
   "id": "9c0791c7",
   "metadata": {},
   "outputs": [
    {
     "data": {
      "text/plain": [
       "array([False, False, False, False, False])"
      ]
     },
     "execution_count": 105,
     "metadata": {},
     "output_type": "execute_result"
    }
   ],
   "source": [
    "np.all(mask_1, axis=0) # applicazione della maschera sulle colonne"
   ]
  },
  {
   "cell_type": "code",
   "execution_count": 106,
   "id": "20326935",
   "metadata": {},
   "outputs": [
    {
     "data": {
      "text/plain": [
       "array([False, False])"
      ]
     },
     "execution_count": 106,
     "metadata": {},
     "output_type": "execute_result"
    }
   ],
   "source": [
    "np.all(mask_1, axis=1) # applicazione della maschera sulle righe"
   ]
  },
  {
   "cell_type": "markdown",
   "id": "fb652a0e",
   "metadata": {},
   "source": [
    "### <span style='background :yellow'>Funzioni matematiche"
   ]
  },
  {
   "cell_type": "code",
   "execution_count": 107,
   "id": "7b292ab1",
   "metadata": {},
   "outputs": [],
   "source": [
    "a = np.array([[1,2,3],[4,5,6]])\n",
    "b = np.array([[-0.5,2.3,1],[-2.1,4.9,1]])"
   ]
  },
  {
   "cell_type": "markdown",
   "id": "5527bd47",
   "metadata": {},
   "source": [
    "#### Funzione ADD - somma tra due array/matrici"
   ]
  },
  {
   "cell_type": "code",
   "execution_count": 108,
   "id": "d4076d36",
   "metadata": {
    "scrolled": true
   },
   "outputs": [
    {
     "data": {
      "text/plain": [
       "array([[1, 2, 3],\n",
       "       [4, 5, 6]])"
      ]
     },
     "execution_count": 108,
     "metadata": {},
     "output_type": "execute_result"
    }
   ],
   "source": [
    "a"
   ]
  },
  {
   "cell_type": "code",
   "execution_count": 109,
   "id": "ae511985",
   "metadata": {
    "scrolled": true
   },
   "outputs": [
    {
     "data": {
      "text/plain": [
       "array([[-0.5,  2.3,  1. ],\n",
       "       [-2.1,  4.9,  1. ]])"
      ]
     },
     "execution_count": 109,
     "metadata": {},
     "output_type": "execute_result"
    }
   ],
   "source": [
    "b"
   ]
  },
  {
   "cell_type": "code",
   "execution_count": 110,
   "id": "1a0bac3c",
   "metadata": {
    "scrolled": false
   },
   "outputs": [
    {
     "data": {
      "text/plain": [
       "array([[0.5, 4.3, 4. ],\n",
       "       [1.9, 9.9, 7. ]])"
      ]
     },
     "execution_count": 110,
     "metadata": {},
     "output_type": "execute_result"
    }
   ],
   "source": [
    "c = np.add(a,b) # somma delle due matrici sopra\n",
    "c"
   ]
  },
  {
   "cell_type": "code",
   "execution_count": 111,
   "id": "406bfa50",
   "metadata": {
    "scrolled": true
   },
   "outputs": [
    {
     "data": {
      "text/plain": [
       "array([[0.5, 4.3, 4. ],\n",
       "       [1.9, 9.9, 7. ]])"
      ]
     },
     "execution_count": 111,
     "metadata": {},
     "output_type": "execute_result"
    }
   ],
   "source": [
    "c = a + b # metodo alternativo\n",
    "c"
   ]
  },
  {
   "cell_type": "markdown",
   "id": "5f4e5a9e",
   "metadata": {},
   "source": [
    "#### Funzione SUM - somma su assi di un array/matrice"
   ]
  },
  {
   "cell_type": "code",
   "execution_count": 112,
   "id": "dda73410",
   "metadata": {},
   "outputs": [
    {
     "data": {
      "text/plain": [
       "array([[1, 2, 3],\n",
       "       [4, 5, 6]])"
      ]
     },
     "execution_count": 112,
     "metadata": {},
     "output_type": "execute_result"
    }
   ],
   "source": [
    "a"
   ]
  },
  {
   "cell_type": "code",
   "execution_count": 113,
   "id": "d5495857",
   "metadata": {
    "scrolled": true
   },
   "outputs": [
    {
     "data": {
      "text/plain": [
       "array([5, 7, 9])"
      ]
     },
     "execution_count": 113,
     "metadata": {},
     "output_type": "execute_result"
    }
   ],
   "source": [
    "c = a.sum(axis=0) # somma delle colonne\n",
    "c"
   ]
  },
  {
   "cell_type": "code",
   "execution_count": 114,
   "id": "5d30c4ef",
   "metadata": {
    "scrolled": false
   },
   "outputs": [
    {
     "data": {
      "text/plain": [
       "array([ 6, 15])"
      ]
     },
     "execution_count": 114,
     "metadata": {},
     "output_type": "execute_result"
    }
   ],
   "source": [
    "c = a.sum(axis=1) # somma delle righe\n",
    "c"
   ]
  },
  {
   "cell_type": "markdown",
   "id": "045908d6",
   "metadata": {},
   "source": [
    "#### Funzione CUMSUM - somma di tutti i valori di un array/matrice"
   ]
  },
  {
   "cell_type": "code",
   "execution_count": 115,
   "id": "42b52fdc",
   "metadata": {},
   "outputs": [
    {
     "data": {
      "text/plain": [
       "array([[1, 2, 3],\n",
       "       [4, 5, 6]])"
      ]
     },
     "execution_count": 115,
     "metadata": {},
     "output_type": "execute_result"
    }
   ],
   "source": [
    "a"
   ]
  },
  {
   "cell_type": "code",
   "execution_count": 116,
   "id": "b6e234c7",
   "metadata": {
    "scrolled": true
   },
   "outputs": [
    {
     "data": {
      "text/plain": [
       "array([[1, 2, 3],\n",
       "       [5, 7, 9]])"
      ]
     },
     "execution_count": 116,
     "metadata": {},
     "output_type": "execute_result"
    }
   ],
   "source": [
    "c = np.cumsum(a, axis=0) # somma cumulativa su ogni colonna\n",
    "c"
   ]
  },
  {
   "cell_type": "code",
   "execution_count": 117,
   "id": "c0eee29a",
   "metadata": {
    "scrolled": false
   },
   "outputs": [
    {
     "data": {
      "text/plain": [
       "array([[ 1,  3,  6],\n",
       "       [ 4,  9, 15]])"
      ]
     },
     "execution_count": 117,
     "metadata": {},
     "output_type": "execute_result"
    }
   ],
   "source": [
    "c = np.cumsum(a, axis=1) # somma cumulativa su ogni riga\n",
    "c"
   ]
  },
  {
   "cell_type": "markdown",
   "id": "43ed74fa",
   "metadata": {},
   "source": [
    "#### Funzione SUBTRACT - sottrazione tra due array/matrici"
   ]
  },
  {
   "cell_type": "code",
   "execution_count": 118,
   "id": "a72cdc48",
   "metadata": {
    "scrolled": true
   },
   "outputs": [
    {
     "data": {
      "text/plain": [
       "array([[1, 2, 3],\n",
       "       [4, 5, 6]])"
      ]
     },
     "execution_count": 118,
     "metadata": {},
     "output_type": "execute_result"
    }
   ],
   "source": [
    "a"
   ]
  },
  {
   "cell_type": "code",
   "execution_count": 119,
   "id": "113c0c65",
   "metadata": {
    "scrolled": true
   },
   "outputs": [
    {
     "data": {
      "text/plain": [
       "array([[-0.5,  2.3,  1. ],\n",
       "       [-2.1,  4.9,  1. ]])"
      ]
     },
     "execution_count": 119,
     "metadata": {},
     "output_type": "execute_result"
    }
   ],
   "source": [
    "b"
   ]
  },
  {
   "cell_type": "code",
   "execution_count": 120,
   "id": "6ac157cc",
   "metadata": {
    "scrolled": false
   },
   "outputs": [
    {
     "data": {
      "text/plain": [
       "array([[-1.5,  0.3, -2. ],\n",
       "       [-6.1, -0.1, -5. ]])"
      ]
     },
     "execution_count": 120,
     "metadata": {},
     "output_type": "execute_result"
    }
   ],
   "source": [
    "c = np.subtract(b,a) # somma delle due matrici sopra\n",
    "c"
   ]
  },
  {
   "cell_type": "code",
   "execution_count": 121,
   "id": "5f99afdb",
   "metadata": {
    "scrolled": false
   },
   "outputs": [
    {
     "data": {
      "text/plain": [
       "array([[-1.5,  0.3, -2. ],\n",
       "       [-6.1, -0.1, -5. ]])"
      ]
     },
     "execution_count": 121,
     "metadata": {},
     "output_type": "execute_result"
    }
   ],
   "source": [
    "c = b - a # metodo alternativo\n",
    "c"
   ]
  },
  {
   "cell_type": "markdown",
   "id": "3dee6866",
   "metadata": {},
   "source": [
    "#### Funzione MULTIPLY - prodotto tra due array/matrici"
   ]
  },
  {
   "cell_type": "code",
   "execution_count": 122,
   "id": "0c25cfbd",
   "metadata": {
    "scrolled": true
   },
   "outputs": [
    {
     "data": {
      "text/plain": [
       "array([[1, 2, 3],\n",
       "       [4, 5, 6]])"
      ]
     },
     "execution_count": 122,
     "metadata": {},
     "output_type": "execute_result"
    }
   ],
   "source": [
    "a"
   ]
  },
  {
   "cell_type": "code",
   "execution_count": 123,
   "id": "59ae826f",
   "metadata": {
    "scrolled": true
   },
   "outputs": [
    {
     "data": {
      "text/plain": [
       "array([[-0.5,  2.3,  1. ],\n",
       "       [-2.1,  4.9,  1. ]])"
      ]
     },
     "execution_count": 123,
     "metadata": {},
     "output_type": "execute_result"
    }
   ],
   "source": [
    "b"
   ]
  },
  {
   "cell_type": "code",
   "execution_count": 124,
   "id": "47880c4c",
   "metadata": {
    "scrolled": false
   },
   "outputs": [
    {
     "data": {
      "text/plain": [
       "array([[-0.5,  4.6,  3. ],\n",
       "       [-8.4, 24.5,  6. ]])"
      ]
     },
     "execution_count": 124,
     "metadata": {},
     "output_type": "execute_result"
    }
   ],
   "source": [
    "c = np.multiply(a,b) # prodotto delle due matrici sopra\n",
    "c"
   ]
  },
  {
   "cell_type": "code",
   "execution_count": 125,
   "id": "f50221ff",
   "metadata": {
    "scrolled": true
   },
   "outputs": [
    {
     "data": {
      "text/plain": [
       "array([[-0.5,  4.6,  3. ],\n",
       "       [-8.4, 24.5,  6. ]])"
      ]
     },
     "execution_count": 125,
     "metadata": {},
     "output_type": "execute_result"
    }
   ],
   "source": [
    "c = a * b # metodo alternativo\n",
    "c"
   ]
  },
  {
   "cell_type": "markdown",
   "id": "b352620d",
   "metadata": {},
   "source": [
    "#### Funzione DIVIDE - divisione tra due array/matrici"
   ]
  },
  {
   "cell_type": "code",
   "execution_count": 126,
   "id": "37432ac8",
   "metadata": {
    "scrolled": true
   },
   "outputs": [
    {
     "data": {
      "text/plain": [
       "array([[1, 2, 3],\n",
       "       [4, 5, 6]])"
      ]
     },
     "execution_count": 126,
     "metadata": {},
     "output_type": "execute_result"
    }
   ],
   "source": [
    "a"
   ]
  },
  {
   "cell_type": "code",
   "execution_count": 127,
   "id": "9884b6ec",
   "metadata": {
    "scrolled": true
   },
   "outputs": [
    {
     "data": {
      "text/plain": [
       "array([[-0.5,  2.3,  1. ],\n",
       "       [-2.1,  4.9,  1. ]])"
      ]
     },
     "execution_count": 127,
     "metadata": {},
     "output_type": "execute_result"
    }
   ],
   "source": [
    "b"
   ]
  },
  {
   "cell_type": "code",
   "execution_count": 128,
   "id": "5cb1898b",
   "metadata": {
    "scrolled": false
   },
   "outputs": [
    {
     "data": {
      "text/plain": [
       "array([[-0.5       ,  1.15      ,  0.33333333],\n",
       "       [-0.525     ,  0.98      ,  0.16666667]])"
      ]
     },
     "execution_count": 128,
     "metadata": {},
     "output_type": "execute_result"
    }
   ],
   "source": [
    "c = np.divide(b,a) # divisione delle due matrici sopra\n",
    "c"
   ]
  },
  {
   "cell_type": "code",
   "execution_count": 129,
   "id": "c202a92a",
   "metadata": {
    "scrolled": false
   },
   "outputs": [
    {
     "data": {
      "text/plain": [
       "array([[-0.5       ,  1.15      ,  0.33333333],\n",
       "       [-0.525     ,  0.98      ,  0.16666667]])"
      ]
     },
     "execution_count": 129,
     "metadata": {},
     "output_type": "execute_result"
    }
   ],
   "source": [
    "c = b / a # metodo alternativo\n",
    "c"
   ]
  },
  {
   "cell_type": "markdown",
   "id": "dbeb581f",
   "metadata": {},
   "source": [
    "#### Funzione REMAINDER - modulo divisione tra due array/matrici"
   ]
  },
  {
   "cell_type": "code",
   "execution_count": 130,
   "id": "715b3393",
   "metadata": {
    "scrolled": true
   },
   "outputs": [
    {
     "data": {
      "text/plain": [
       "array([[1, 2, 3],\n",
       "       [4, 5, 6]])"
      ]
     },
     "execution_count": 130,
     "metadata": {},
     "output_type": "execute_result"
    }
   ],
   "source": [
    "a"
   ]
  },
  {
   "cell_type": "code",
   "execution_count": 131,
   "id": "d08bc6af",
   "metadata": {
    "scrolled": true
   },
   "outputs": [
    {
     "data": {
      "text/plain": [
       "array([[-0.5,  2.3,  1. ],\n",
       "       [-2.1,  4.9,  1. ]])"
      ]
     },
     "execution_count": 131,
     "metadata": {},
     "output_type": "execute_result"
    }
   ],
   "source": [
    "b"
   ]
  },
  {
   "cell_type": "code",
   "execution_count": 132,
   "id": "95acea4d",
   "metadata": {
    "scrolled": false
   },
   "outputs": [
    {
     "data": {
      "text/plain": [
       "array([[0.5, 0.3, 1. ],\n",
       "       [1.9, 4.9, 1. ]])"
      ]
     },
     "execution_count": 132,
     "metadata": {},
     "output_type": "execute_result"
    }
   ],
   "source": [
    "c = np.remainder(b,a) # modulo divisione delle due matrici sopra\n",
    "c"
   ]
  },
  {
   "cell_type": "markdown",
   "id": "247bab34",
   "metadata": {},
   "source": [
    "#### Funzione POWER - elevare a potenza un array/matrice"
   ]
  },
  {
   "cell_type": "code",
   "execution_count": 133,
   "id": "bf4af075",
   "metadata": {
    "scrolled": true
   },
   "outputs": [
    {
     "data": {
      "text/plain": [
       "array([[1, 2, 3],\n",
       "       [4, 5, 6]])"
      ]
     },
     "execution_count": 133,
     "metadata": {},
     "output_type": "execute_result"
    }
   ],
   "source": [
    "a"
   ]
  },
  {
   "cell_type": "code",
   "execution_count": 134,
   "id": "5a6121a9",
   "metadata": {
    "scrolled": false
   },
   "outputs": [
    {
     "data": {
      "text/plain": [
       "array([[ 1,  4,  9],\n",
       "       [16, 25, 36]], dtype=int32)"
      ]
     },
     "execution_count": 134,
     "metadata": {},
     "output_type": "execute_result"
    }
   ],
   "source": [
    "c = np.power(a,2) # potenza base 2 della matrice a\n",
    "c"
   ]
  },
  {
   "cell_type": "code",
   "execution_count": 135,
   "id": "81bf6e99",
   "metadata": {
    "scrolled": true
   },
   "outputs": [
    {
     "data": {
      "text/plain": [
       "array([[ 1,  4,  9],\n",
       "       [16, 25, 36]])"
      ]
     },
     "execution_count": 135,
     "metadata": {},
     "output_type": "execute_result"
    }
   ],
   "source": [
    "c = a ** 2 # metodo alternativo\n",
    "c"
   ]
  },
  {
   "cell_type": "markdown",
   "id": "ed9d41e1",
   "metadata": {},
   "source": [
    "#### Funzione EXP - esponenziale di un array/matrice"
   ]
  },
  {
   "cell_type": "code",
   "execution_count": 136,
   "id": "11499d9f",
   "metadata": {
    "scrolled": true
   },
   "outputs": [
    {
     "data": {
      "text/plain": [
       "array([[1, 2, 3],\n",
       "       [4, 5, 6]])"
      ]
     },
     "execution_count": 136,
     "metadata": {},
     "output_type": "execute_result"
    }
   ],
   "source": [
    "a"
   ]
  },
  {
   "cell_type": "code",
   "execution_count": 137,
   "id": "3846879e",
   "metadata": {
    "scrolled": true
   },
   "outputs": [
    {
     "data": {
      "text/plain": [
       "array([[  2.71828183,   7.3890561 ,  20.08553692],\n",
       "       [ 54.59815003, 148.4131591 , 403.42879349]])"
      ]
     },
     "execution_count": 137,
     "metadata": {},
     "output_type": "execute_result"
    }
   ],
   "source": [
    "c = np.exp(a) # esponenziale della matrice a\n",
    "c"
   ]
  },
  {
   "cell_type": "markdown",
   "id": "42e48e26",
   "metadata": {},
   "source": [
    "#### Funzione SQRT - radice quadrata di un array/matrice"
   ]
  },
  {
   "cell_type": "code",
   "execution_count": 138,
   "id": "a4fdb31f",
   "metadata": {
    "scrolled": true
   },
   "outputs": [
    {
     "data": {
      "text/plain": [
       "array([[1, 2, 3],\n",
       "       [4, 5, 6]])"
      ]
     },
     "execution_count": 138,
     "metadata": {},
     "output_type": "execute_result"
    }
   ],
   "source": [
    "a"
   ]
  },
  {
   "cell_type": "code",
   "execution_count": 139,
   "id": "7743a926",
   "metadata": {
    "scrolled": false
   },
   "outputs": [
    {
     "data": {
      "text/plain": [
       "array([[1.        , 1.41421356, 1.73205081],\n",
       "       [2.        , 2.23606798, 2.44948974]])"
      ]
     },
     "execution_count": 139,
     "metadata": {},
     "output_type": "execute_result"
    }
   ],
   "source": [
    "c = np.sqrt(a) # radice quadrata della matrice a\n",
    "c"
   ]
  },
  {
   "cell_type": "markdown",
   "id": "bc48c1e4",
   "metadata": {},
   "source": [
    "#### Funzione LOG - logaritmo naturale di un array/matrice"
   ]
  },
  {
   "cell_type": "code",
   "execution_count": 140,
   "id": "6ee6333e",
   "metadata": {
    "scrolled": true
   },
   "outputs": [
    {
     "data": {
      "text/plain": [
       "array([[1, 2, 3],\n",
       "       [4, 5, 6]])"
      ]
     },
     "execution_count": 140,
     "metadata": {},
     "output_type": "execute_result"
    }
   ],
   "source": [
    "a"
   ]
  },
  {
   "cell_type": "code",
   "execution_count": 141,
   "id": "e02391fe",
   "metadata": {
    "scrolled": false
   },
   "outputs": [
    {
     "data": {
      "text/plain": [
       "array([[0.        , 0.69314718, 1.09861229],\n",
       "       [1.38629436, 1.60943791, 1.79175947]])"
      ]
     },
     "execution_count": 141,
     "metadata": {},
     "output_type": "execute_result"
    }
   ],
   "source": [
    "c = np.log(a) # logaritmo naturale della matrice a\n",
    "c"
   ]
  },
  {
   "cell_type": "markdown",
   "id": "c34195cf",
   "metadata": {},
   "source": [
    "#### Funzione AROUND - arrotondamento per eccesso o difetto di un array/matrice"
   ]
  },
  {
   "cell_type": "code",
   "execution_count": 142,
   "id": "e90730f4",
   "metadata": {
    "scrolled": true
   },
   "outputs": [
    {
     "data": {
      "text/plain": [
       "array([[-0.5,  2.3,  1. ],\n",
       "       [-2.1,  4.9,  1. ]])"
      ]
     },
     "execution_count": 142,
     "metadata": {},
     "output_type": "execute_result"
    }
   ],
   "source": [
    "b"
   ]
  },
  {
   "cell_type": "code",
   "execution_count": 143,
   "id": "85b44e22",
   "metadata": {
    "scrolled": false
   },
   "outputs": [
    {
     "data": {
      "text/plain": [
       "array([[-0.,  2.,  1.],\n",
       "       [-2.,  5.,  1.]])"
      ]
     },
     "execution_count": 143,
     "metadata": {},
     "output_type": "execute_result"
    }
   ],
   "source": [
    "c = np.around(b) # arrotondamento della matrice b\n",
    "c"
   ]
  },
  {
   "cell_type": "markdown",
   "id": "7b641e01",
   "metadata": {},
   "source": [
    "#### Funzione FLOOR - arrotondamento per difetto di un array/matrice"
   ]
  },
  {
   "cell_type": "code",
   "execution_count": 144,
   "id": "dc3d007f",
   "metadata": {
    "scrolled": true
   },
   "outputs": [
    {
     "data": {
      "text/plain": [
       "array([[-0.5,  2.3,  1. ],\n",
       "       [-2.1,  4.9,  1. ]])"
      ]
     },
     "execution_count": 144,
     "metadata": {},
     "output_type": "execute_result"
    }
   ],
   "source": [
    "b"
   ]
  },
  {
   "cell_type": "code",
   "execution_count": 145,
   "id": "0f66b667",
   "metadata": {
    "scrolled": false
   },
   "outputs": [
    {
     "data": {
      "text/plain": [
       "array([[-1.,  2.,  1.],\n",
       "       [-3.,  4.,  1.]])"
      ]
     },
     "execution_count": 145,
     "metadata": {},
     "output_type": "execute_result"
    }
   ],
   "source": [
    "c = np.floor(b) # arrotondamento per difetto della matrice b\n",
    "c"
   ]
  },
  {
   "cell_type": "markdown",
   "id": "99c7fdd4",
   "metadata": {},
   "source": [
    "#### Funzione CEIL - arrotondamento per eccesso di un array/matrice"
   ]
  },
  {
   "cell_type": "code",
   "execution_count": 146,
   "id": "84121aed",
   "metadata": {
    "scrolled": true
   },
   "outputs": [
    {
     "data": {
      "text/plain": [
       "array([[-0.5,  2.3,  1. ],\n",
       "       [-2.1,  4.9,  1. ]])"
      ]
     },
     "execution_count": 146,
     "metadata": {},
     "output_type": "execute_result"
    }
   ],
   "source": [
    "b"
   ]
  },
  {
   "cell_type": "code",
   "execution_count": 147,
   "id": "6d9f143a",
   "metadata": {
    "scrolled": false
   },
   "outputs": [
    {
     "data": {
      "text/plain": [
       "array([[-0.,  3.,  1.],\n",
       "       [-2.,  5.,  1.]])"
      ]
     },
     "execution_count": 147,
     "metadata": {},
     "output_type": "execute_result"
    }
   ],
   "source": [
    "c = np.ceil(b) # arrotondamento per difetto della matrice b\n",
    "c"
   ]
  },
  {
   "cell_type": "markdown",
   "id": "800167e3",
   "metadata": {},
   "source": [
    "#### Funzione TRUNC - eliminazione della parte decimale di un array/matrice"
   ]
  },
  {
   "cell_type": "code",
   "execution_count": 148,
   "id": "b2fa4074",
   "metadata": {
    "scrolled": true
   },
   "outputs": [
    {
     "data": {
      "text/plain": [
       "array([[-0.5,  2.3,  1. ],\n",
       "       [-2.1,  4.9,  1. ]])"
      ]
     },
     "execution_count": 148,
     "metadata": {},
     "output_type": "execute_result"
    }
   ],
   "source": [
    "b"
   ]
  },
  {
   "cell_type": "code",
   "execution_count": 149,
   "id": "7d39749e",
   "metadata": {
    "scrolled": false
   },
   "outputs": [
    {
     "data": {
      "text/plain": [
       "array([[-0.,  2.,  1.],\n",
       "       [-2.,  4.,  1.]])"
      ]
     },
     "execution_count": 149,
     "metadata": {},
     "output_type": "execute_result"
    }
   ],
   "source": [
    "c = np.trunc(b) # arrotondamento per difetto della matrice b\n",
    "c"
   ]
  },
  {
   "cell_type": "markdown",
   "id": "1fc29efc",
   "metadata": {},
   "source": [
    "#### Ulteriori funzioni"
   ]
  },
  {
   "cell_type": "markdown",
   "id": "48c45692",
   "metadata": {},
   "source": [
    "https://numpy.org/doc/stable/reference/routines.math"
   ]
  },
  {
   "cell_type": "markdown",
   "id": "78164850",
   "metadata": {},
   "source": [
    "### <span style='background :yellow'>Algebra lineare"
   ]
  },
  {
   "cell_type": "code",
   "execution_count": 150,
   "id": "2a03a155",
   "metadata": {},
   "outputs": [],
   "source": [
    "a = np.array([[1,2,3],[4,5,6]])\n",
    "b = np.array([[1,2],[3,4],[5,6]])"
   ]
  },
  {
   "cell_type": "markdown",
   "id": "5d7d3319",
   "metadata": {},
   "source": [
    "#### Funzione MATMUL - prodotto matriciale tra due matrici"
   ]
  },
  {
   "cell_type": "code",
   "execution_count": 151,
   "id": "236508fa",
   "metadata": {
    "scrolled": true
   },
   "outputs": [
    {
     "data": {
      "text/plain": [
       "array([[1, 2, 3],\n",
       "       [4, 5, 6]])"
      ]
     },
     "execution_count": 151,
     "metadata": {},
     "output_type": "execute_result"
    }
   ],
   "source": [
    "a"
   ]
  },
  {
   "cell_type": "code",
   "execution_count": 152,
   "id": "b5442457",
   "metadata": {
    "scrolled": true
   },
   "outputs": [
    {
     "data": {
      "text/plain": [
       "array([[1, 2],\n",
       "       [3, 4],\n",
       "       [5, 6]])"
      ]
     },
     "execution_count": 152,
     "metadata": {},
     "output_type": "execute_result"
    }
   ],
   "source": [
    "b"
   ]
  },
  {
   "cell_type": "code",
   "execution_count": 153,
   "id": "eae6222e",
   "metadata": {
    "scrolled": false
   },
   "outputs": [
    {
     "data": {
      "text/plain": [
       "array([[22, 28],\n",
       "       [49, 64]])"
      ]
     },
     "execution_count": 153,
     "metadata": {},
     "output_type": "execute_result"
    }
   ],
   "source": [
    "c = np.matmul(a,b)\n",
    "c"
   ]
  },
  {
   "cell_type": "markdown",
   "id": "192e15f0",
   "metadata": {},
   "source": [
    "#### Funzione LINALG.DET - determinante di una matrice"
   ]
  },
  {
   "cell_type": "code",
   "execution_count": 154,
   "id": "5f3f5e76",
   "metadata": {},
   "outputs": [
    {
     "data": {
      "text/plain": [
       "array([[1, 0],\n",
       "       [4, 2]])"
      ]
     },
     "execution_count": 154,
     "metadata": {},
     "output_type": "execute_result"
    }
   ],
   "source": [
    "a = np.array([[1,0],[4,2]])\n",
    "a"
   ]
  },
  {
   "cell_type": "code",
   "execution_count": 155,
   "id": "d5e66ada",
   "metadata": {
    "scrolled": false
   },
   "outputs": [
    {
     "data": {
      "text/plain": [
       "2.0"
      ]
     },
     "execution_count": 155,
     "metadata": {},
     "output_type": "execute_result"
    }
   ],
   "source": [
    "c = np.linalg.det(a)\n",
    "c"
   ]
  },
  {
   "cell_type": "markdown",
   "id": "7500b14d",
   "metadata": {},
   "source": [
    "#### Ulteriori funzioni"
   ]
  },
  {
   "cell_type": "markdown",
   "id": "dde3cb77",
   "metadata": {},
   "source": [
    "https://numpy.org/doc/stable/reference/routines.linalg"
   ]
  },
  {
   "cell_type": "markdown",
   "id": "22c906cf",
   "metadata": {},
   "source": [
    "### <span style='background :yellow'>Funzioni statistiche"
   ]
  },
  {
   "cell_type": "code",
   "execution_count": 156,
   "id": "fcb09dd1",
   "metadata": {},
   "outputs": [],
   "source": [
    "a = np.array([[1,7,3,9,5],[6,2,8,4,10]])"
   ]
  },
  {
   "cell_type": "markdown",
   "id": "4e28629e",
   "metadata": {},
   "source": [
    "#### Funzione MIN - valore più piccolo di un array/matrice"
   ]
  },
  {
   "cell_type": "code",
   "execution_count": 157,
   "id": "453ce847",
   "metadata": {
    "scrolled": false
   },
   "outputs": [
    {
     "data": {
      "text/plain": [
       "array([[ 1,  7,  3,  9,  5],\n",
       "       [ 6,  2,  8,  4, 10]])"
      ]
     },
     "execution_count": 157,
     "metadata": {},
     "output_type": "execute_result"
    }
   ],
   "source": [
    "a"
   ]
  },
  {
   "cell_type": "code",
   "execution_count": 158,
   "id": "b7a3d9df",
   "metadata": {
    "scrolled": false
   },
   "outputs": [
    {
     "data": {
      "text/plain": [
       "1"
      ]
     },
     "execution_count": 158,
     "metadata": {},
     "output_type": "execute_result"
    }
   ],
   "source": [
    "c = np.min(a)\n",
    "c"
   ]
  },
  {
   "cell_type": "code",
   "execution_count": 159,
   "id": "ea608f1c",
   "metadata": {
    "scrolled": false
   },
   "outputs": [
    {
     "data": {
      "text/plain": [
       "array([1, 2, 3, 4, 5])"
      ]
     },
     "execution_count": 159,
     "metadata": {},
     "output_type": "execute_result"
    }
   ],
   "source": [
    "c = np.min(a, axis=0) # valore minimo su ogni colonna\n",
    "c"
   ]
  },
  {
   "cell_type": "code",
   "execution_count": 160,
   "id": "7512ee8e",
   "metadata": {
    "scrolled": false
   },
   "outputs": [
    {
     "data": {
      "text/plain": [
       "array([1, 2])"
      ]
     },
     "execution_count": 160,
     "metadata": {},
     "output_type": "execute_result"
    }
   ],
   "source": [
    "c = np.min(a, axis=1) # valore minimo su ogni riga\n",
    "c"
   ]
  },
  {
   "cell_type": "markdown",
   "id": "3bc840dd",
   "metadata": {},
   "source": [
    "#### Funzione MAX - valore più grande di un array/matrice"
   ]
  },
  {
   "cell_type": "code",
   "execution_count": 161,
   "id": "ffd318bb",
   "metadata": {
    "scrolled": false
   },
   "outputs": [
    {
     "data": {
      "text/plain": [
       "array([[ 1,  7,  3,  9,  5],\n",
       "       [ 6,  2,  8,  4, 10]])"
      ]
     },
     "execution_count": 161,
     "metadata": {},
     "output_type": "execute_result"
    }
   ],
   "source": [
    "a"
   ]
  },
  {
   "cell_type": "code",
   "execution_count": 162,
   "id": "87764bd5",
   "metadata": {
    "scrolled": true
   },
   "outputs": [
    {
     "data": {
      "text/plain": [
       "10"
      ]
     },
     "execution_count": 162,
     "metadata": {},
     "output_type": "execute_result"
    }
   ],
   "source": [
    "c = np.max(a)\n",
    "c"
   ]
  },
  {
   "cell_type": "code",
   "execution_count": 163,
   "id": "5ed63857",
   "metadata": {
    "scrolled": false
   },
   "outputs": [
    {
     "data": {
      "text/plain": [
       "array([ 6,  7,  8,  9, 10])"
      ]
     },
     "execution_count": 163,
     "metadata": {},
     "output_type": "execute_result"
    }
   ],
   "source": [
    "c = a.max(axis=0) # valore massimo su ogni colonna\n",
    "c"
   ]
  },
  {
   "cell_type": "code",
   "execution_count": 164,
   "id": "b769f107",
   "metadata": {
    "scrolled": true
   },
   "outputs": [
    {
     "data": {
      "text/plain": [
       "array([ 9, 10])"
      ]
     },
     "execution_count": 164,
     "metadata": {},
     "output_type": "execute_result"
    }
   ],
   "source": [
    "c = a.max(axis=1) # valore massimo su ogni riga\n",
    "c"
   ]
  },
  {
   "cell_type": "markdown",
   "id": "72dc0a2e",
   "metadata": {},
   "source": [
    "#### Funzione CORCOEFF - coefficente di correlazione di un array/matrice"
   ]
  },
  {
   "cell_type": "code",
   "execution_count": 165,
   "id": "52ed59a1",
   "metadata": {},
   "outputs": [
    {
     "data": {
      "text/plain": [
       "array([1, 2, 3, 4, 5])"
      ]
     },
     "execution_count": 165,
     "metadata": {},
     "output_type": "execute_result"
    }
   ],
   "source": [
    "a = np.array([1,2,3,4,5])\n",
    "a"
   ]
  },
  {
   "cell_type": "code",
   "execution_count": 166,
   "id": "cd6b9a7f",
   "metadata": {
    "scrolled": false
   },
   "outputs": [
    {
     "data": {
      "text/plain": [
       "1.0"
      ]
     },
     "execution_count": 166,
     "metadata": {},
     "output_type": "execute_result"
    }
   ],
   "source": [
    "c = np.corrcoef(a)\n",
    "c"
   ]
  },
  {
   "cell_type": "markdown",
   "id": "91ce5fec",
   "metadata": {},
   "source": [
    "#### Funzione STD - deviazione standard\n",
    "Probabilità che un valore si discosti dal valore medio"
   ]
  },
  {
   "cell_type": "code",
   "execution_count": 167,
   "id": "733e7343",
   "metadata": {},
   "outputs": [],
   "source": [
    "a = np.array([1,2,3,4,5])"
   ]
  },
  {
   "cell_type": "code",
   "execution_count": 168,
   "id": "de81ba97",
   "metadata": {
    "scrolled": true
   },
   "outputs": [
    {
     "data": {
      "text/plain": [
       "3.0"
      ]
     },
     "execution_count": 168,
     "metadata": {},
     "output_type": "execute_result"
    }
   ],
   "source": [
    "a.mean() # la media è pari a 3"
   ]
  },
  {
   "cell_type": "code",
   "execution_count": 169,
   "id": "2401f4f0",
   "metadata": {},
   "outputs": [
    {
     "data": {
      "text/plain": [
       "1.4142135623730951"
      ]
     },
     "execution_count": 169,
     "metadata": {},
     "output_type": "execute_result"
    }
   ],
   "source": [
    "c = a.std()\n",
    "c"
   ]
  },
  {
   "cell_type": "markdown",
   "id": "16c2cff5",
   "metadata": {},
   "source": [
    "La deviazione standard è pari a 1.4. Ciò significa che un prossimo campione, con molta probabilità, si discosterà dalla media di +- 1.4\n",
    "Più i campioni si avvicinano alla media, e più la deviazione standard diminuisce\n",
    "Se tutti i campioni avessero lo stesso valore, la deviazione standard sarebbe pari a 0"
   ]
  },
  {
   "cell_type": "code",
   "execution_count": 170,
   "id": "ba0c3de0",
   "metadata": {
    "scrolled": true
   },
   "outputs": [
    {
     "data": {
      "text/plain": [
       "0.0"
      ]
     },
     "execution_count": 170,
     "metadata": {},
     "output_type": "execute_result"
    }
   ],
   "source": [
    "a = np.array([3,3,3,3,3])\n",
    "\n",
    "a.mean() # la media è pari a 3\n",
    "\n",
    "c = a.std()\n",
    "c"
   ]
  },
  {
   "cell_type": "markdown",
   "id": "79d0850e",
   "metadata": {},
   "source": [
    "### <span style='background :yellow'>Lettura file"
   ]
  },
  {
   "cell_type": "code",
   "execution_count": 171,
   "id": "d376f441",
   "metadata": {},
   "outputs": [
    {
     "data": {
      "text/plain": [
       "array([[ 1,  4,  6,  7,  3,  4,  5],\n",
       "       [ 3,  4,  2,  4,  5,  6, 21],\n",
       "       [34,  6, 12, 45,  1, 34,  1]], dtype=int8)"
      ]
     },
     "execution_count": 171,
     "metadata": {},
     "output_type": "execute_result"
    }
   ],
   "source": [
    "filedata = np.genfromtxt('random_numbers.txt', delimiter=',', dtype='int8')\n",
    "filedata"
   ]
  },
  {
   "cell_type": "markdown",
   "id": "273cf925",
   "metadata": {},
   "source": [
    "### <span style='background :yellow'>Esercizio 1\n",
    "Ricreare la seguente matrice"
   ]
  },
  {
   "cell_type": "code",
   "execution_count": 172,
   "id": "f97c1a40",
   "metadata": {
    "scrolled": true
   },
   "outputs": [
    {
     "data": {
      "text/plain": [
       "array([[0, 0, 0, 0, 0],\n",
       "       [0, 1, 1, 1, 0],\n",
       "       [0, 1, 9, 1, 0],\n",
       "       [0, 1, 1, 1, 0],\n",
       "       [0, 0, 0, 0, 0]])"
      ]
     },
     "execution_count": 172,
     "metadata": {},
     "output_type": "execute_result"
    }
   ],
   "source": [
    "a = np.array([[0,0,0,0,0],[0,1,1,1,0],[0,1,9,1,0],[0,1,1,1,0],[0,0,0,0,0]])\n",
    "a"
   ]
  },
  {
   "cell_type": "markdown",
   "id": "4ac7ce09",
   "metadata": {},
   "source": [
    "#### Soluzione 1"
   ]
  },
  {
   "cell_type": "code",
   "execution_count": 173,
   "id": "0bfc8cc9",
   "metadata": {
    "scrolled": false
   },
   "outputs": [
    {
     "data": {
      "text/plain": [
       "array([[0, 0, 0, 0, 0],\n",
       "       [0, 0, 0, 0, 0],\n",
       "       [0, 0, 0, 0, 0],\n",
       "       [0, 0, 0, 0, 0],\n",
       "       [0, 0, 0, 0, 0]])"
      ]
     },
     "execution_count": 173,
     "metadata": {},
     "output_type": "execute_result"
    }
   ],
   "source": [
    "a = np.zeros((5,5), dtype = 'int32') # creo matrice 5x5 di tutti 0\n",
    "a"
   ]
  },
  {
   "cell_type": "code",
   "execution_count": 174,
   "id": "984608cf",
   "metadata": {
    "scrolled": false
   },
   "outputs": [
    {
     "data": {
      "text/plain": [
       "array([[1, 1, 1],\n",
       "       [1, 1, 1],\n",
       "       [1, 1, 1]])"
      ]
     },
     "execution_count": 174,
     "metadata": {},
     "output_type": "execute_result"
    }
   ],
   "source": [
    "b = np.ones((3,3), dtype = 'int32') # creo matrice 3x3 di tutti 1\n",
    "b"
   ]
  },
  {
   "cell_type": "code",
   "execution_count": 175,
   "id": "a3fa36db",
   "metadata": {},
   "outputs": [
    {
     "data": {
      "text/plain": [
       "array([[1, 1, 1],\n",
       "       [1, 9, 1],\n",
       "       [1, 1, 1]])"
      ]
     },
     "execution_count": 175,
     "metadata": {},
     "output_type": "execute_result"
    }
   ],
   "source": [
    "b[1,1] = 9 # inserisco 9 nel centro della matrice più piccola\n",
    "b"
   ]
  },
  {
   "cell_type": "code",
   "execution_count": 176,
   "id": "b578ef9a",
   "metadata": {},
   "outputs": [
    {
     "data": {
      "text/plain": [
       "array([[0, 0, 0, 0, 0],\n",
       "       [0, 1, 1, 1, 0],\n",
       "       [0, 1, 9, 1, 0],\n",
       "       [0, 1, 1, 1, 0],\n",
       "       [0, 0, 0, 0, 0]])"
      ]
     },
     "execution_count": 176,
     "metadata": {},
     "output_type": "execute_result"
    }
   ],
   "source": [
    "a[1:4,1:4] = b # sostituisco centro della matrice a con la matrice b\n",
    "a"
   ]
  },
  {
   "cell_type": "markdown",
   "id": "5edbea54",
   "metadata": {},
   "source": [
    "#### Soluzione 2"
   ]
  },
  {
   "cell_type": "code",
   "execution_count": 177,
   "id": "f6926afc",
   "metadata": {
    "scrolled": false
   },
   "outputs": [
    {
     "data": {
      "text/plain": [
       "array([[0, 0, 0, 0, 0],\n",
       "       [0, 0, 0, 0, 0],\n",
       "       [0, 0, 0, 0, 0],\n",
       "       [0, 0, 0, 0, 0],\n",
       "       [0, 0, 0, 0, 0]])"
      ]
     },
     "execution_count": 177,
     "metadata": {},
     "output_type": "execute_result"
    }
   ],
   "source": [
    "a = np.zeros((5,5), dtype = 'int32') # creo matrice 5x5 di tutti 0\n",
    "a"
   ]
  },
  {
   "cell_type": "code",
   "execution_count": 178,
   "id": "5fe66231",
   "metadata": {
    "scrolled": false
   },
   "outputs": [
    {
     "data": {
      "text/plain": [
       "array([[0, 0, 0, 0, 0],\n",
       "       [0, 1, 1, 1, 0],\n",
       "       [0, 1, 1, 1, 0],\n",
       "       [0, 1, 1, 1, 0],\n",
       "       [0, 0, 0, 0, 0]])"
      ]
     },
     "execution_count": 178,
     "metadata": {},
     "output_type": "execute_result"
    }
   ],
   "source": [
    "a[1:4,1:4] = np.ones((3,3))\n",
    "a"
   ]
  },
  {
   "cell_type": "code",
   "execution_count": 179,
   "id": "bcaf53a7",
   "metadata": {
    "scrolled": true
   },
   "outputs": [
    {
     "data": {
      "text/plain": [
       "array([[0, 0, 0, 0, 0],\n",
       "       [0, 1, 1, 1, 0],\n",
       "       [0, 1, 9, 1, 0],\n",
       "       [0, 1, 1, 1, 0],\n",
       "       [0, 0, 0, 0, 0]])"
      ]
     },
     "execution_count": 179,
     "metadata": {},
     "output_type": "execute_result"
    }
   ],
   "source": [
    "a[2,2] = 9\n",
    "a"
   ]
  },
  {
   "cell_type": "markdown",
   "id": "de5b5797",
   "metadata": {},
   "source": [
    "### <span style='background :yellow'>Esercizio 2"
   ]
  },
  {
   "cell_type": "code",
   "execution_count": 180,
   "id": "4bf4b169",
   "metadata": {
    "scrolled": true
   },
   "outputs": [
    {
     "data": {
      "text/plain": [
       "array([[ 1,  2,  3,  4,  5],\n",
       "       [ 6,  7,  8,  9, 10],\n",
       "       [11, 12, 13, 14, 15],\n",
       "       [16, 17, 18, 19, 20],\n",
       "       [21, 22, 23, 24, 25],\n",
       "       [26, 27, 28, 29, 30]])"
      ]
     },
     "execution_count": 180,
     "metadata": {},
     "output_type": "execute_result"
    }
   ],
   "source": [
    "a = np.array([[1,2,3,4,5],[6,7,8,9,10],[11,12,13,14,15],[16,17,18,19,20],[21,22,23,24,25],[26,27,28,29,30]])\n",
    "a"
   ]
  },
  {
   "cell_type": "markdown",
   "id": "5f5566c1",
   "metadata": {},
   "source": [
    "#### Estrarre il quadrato (11,12,16,17)"
   ]
  },
  {
   "cell_type": "code",
   "execution_count": 181,
   "id": "20a1b782",
   "metadata": {
    "scrolled": true
   },
   "outputs": [
    {
     "data": {
      "text/plain": [
       "array([[11, 12],\n",
       "       [16, 17]])"
      ]
     },
     "execution_count": 181,
     "metadata": {},
     "output_type": "execute_result"
    }
   ],
   "source": [
    "a[2:4,0:2]"
   ]
  },
  {
   "cell_type": "code",
   "execution_count": 182,
   "id": "4ebabf86",
   "metadata": {
    "scrolled": true
   },
   "outputs": [
    {
     "data": {
      "text/plain": [
       "array([[11, 12],\n",
       "       [16, 17]])"
      ]
     },
     "execution_count": 182,
     "metadata": {},
     "output_type": "execute_result"
    }
   ],
   "source": [
    "a[2:4,[0,1]] # altro metodo"
   ]
  },
  {
   "cell_type": "markdown",
   "id": "7f55be0c",
   "metadata": {},
   "source": [
    "#### Estrarre la diagonale (2,8,14,20)"
   ]
  },
  {
   "cell_type": "code",
   "execution_count": 183,
   "id": "ac819a48",
   "metadata": {},
   "outputs": [
    {
     "data": {
      "text/plain": [
       "array([ 2,  8, 14, 20])"
      ]
     },
     "execution_count": 183,
     "metadata": {},
     "output_type": "execute_result"
    }
   ],
   "source": [
    "a[[0,1,2,3],[1,2,3,4]]"
   ]
  },
  {
   "cell_type": "markdown",
   "id": "c15b7e7d",
   "metadata": {},
   "source": [
    "#### Estrarre i due pezzi (4,5) e (24,25,29,30)"
   ]
  },
  {
   "cell_type": "code",
   "execution_count": 184,
   "id": "1b7f99c8",
   "metadata": {},
   "outputs": [
    {
     "data": {
      "text/plain": [
       "array([[ 4,  5],\n",
       "       [24, 25],\n",
       "       [29, 30]])"
      ]
     },
     "execution_count": 184,
     "metadata": {},
     "output_type": "execute_result"
    }
   ],
   "source": [
    "a[[0,4,5],3:]"
   ]
  }
 ],
 "metadata": {
  "kernelspec": {
   "display_name": "Python 3 (ipykernel)",
   "language": "python",
   "name": "python3"
  },
  "language_info": {
   "codemirror_mode": {
    "name": "ipython",
    "version": 3
   },
   "file_extension": ".py",
   "mimetype": "text/x-python",
   "name": "python",
   "nbconvert_exporter": "python",
   "pygments_lexer": "ipython3",
   "version": "3.10.4"
  },
  "toc": {
   "base_numbering": 1,
   "nav_menu": {},
   "number_sections": true,
   "sideBar": true,
   "skip_h1_title": true,
   "title_cell": "Table of Contents",
   "title_sidebar": "Contents",
   "toc_cell": false,
   "toc_position": {},
   "toc_section_display": true,
   "toc_window_display": true
  }
 },
 "nbformat": 4,
 "nbformat_minor": 5
}
