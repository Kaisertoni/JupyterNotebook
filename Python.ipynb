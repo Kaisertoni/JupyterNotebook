{
 "cells": [
  {
   "cell_type": "markdown",
   "id": "f955992b",
   "metadata": {},
   "source": [
    "# Python\n",
    "Una guida completa è possibile trovarla al seguente link: https://www.w3schools.com/python/default.asp"
   ]
  },
  {
   "cell_type": "markdown",
   "id": "ebf864f4",
   "metadata": {},
   "source": [
    "## <span style='background :yellow'>Tipi di dati"
   ]
  },
  {
   "cell_type": "markdown",
   "id": "c418cdaa",
   "metadata": {},
   "source": [
    "### <span style='background :orange'>Semplici"
   ]
  },
  {
   "cell_type": "markdown",
   "id": "54afdf53",
   "metadata": {},
   "source": [
    "#### None"
   ]
  },
  {
   "cell_type": "code",
   "execution_count": 1,
   "id": "82a32b54",
   "metadata": {},
   "outputs": [
    {
     "data": {
      "text/plain": [
       "NoneType"
      ]
     },
     "execution_count": 1,
     "metadata": {},
     "output_type": "execute_result"
    }
   ],
   "source": [
    "x = None\n",
    "type(x)"
   ]
  },
  {
   "cell_type": "markdown",
   "id": "31373730",
   "metadata": {},
   "source": [
    "#### Bool"
   ]
  },
  {
   "cell_type": "code",
   "execution_count": 2,
   "id": "5c41bcd8",
   "metadata": {},
   "outputs": [
    {
     "data": {
      "text/plain": [
       "bool"
      ]
     },
     "execution_count": 2,
     "metadata": {},
     "output_type": "execute_result"
    }
   ],
   "source": [
    "x = True\n",
    "type(x)"
   ]
  },
  {
   "cell_type": "markdown",
   "id": "f5579640",
   "metadata": {},
   "source": [
    "#### Int"
   ]
  },
  {
   "cell_type": "code",
   "execution_count": 3,
   "id": "36760ccf",
   "metadata": {},
   "outputs": [
    {
     "data": {
      "text/plain": [
       "int"
      ]
     },
     "execution_count": 3,
     "metadata": {},
     "output_type": "execute_result"
    }
   ],
   "source": [
    "x = 20\n",
    "type(x)"
   ]
  },
  {
   "cell_type": "markdown",
   "id": "3258e9d0",
   "metadata": {},
   "source": [
    "#### Float"
   ]
  },
  {
   "cell_type": "code",
   "execution_count": 4,
   "id": "0a53a3c7",
   "metadata": {},
   "outputs": [
    {
     "data": {
      "text/plain": [
       "float"
      ]
     },
     "execution_count": 4,
     "metadata": {},
     "output_type": "execute_result"
    }
   ],
   "source": [
    "x = 20.5\n",
    "type(x)"
   ]
  },
  {
   "cell_type": "markdown",
   "id": "8da8d611",
   "metadata": {},
   "source": [
    "#### Complex"
   ]
  },
  {
   "cell_type": "code",
   "execution_count": 5,
   "id": "c920b7bf",
   "metadata": {},
   "outputs": [
    {
     "data": {
      "text/plain": [
       "complex"
      ]
     },
     "execution_count": 5,
     "metadata": {},
     "output_type": "execute_result"
    }
   ],
   "source": [
    "x = 1j\n",
    "type(x)"
   ]
  },
  {
   "cell_type": "markdown",
   "id": "79d2ce15",
   "metadata": {},
   "source": [
    "#### Range"
   ]
  },
  {
   "cell_type": "code",
   "execution_count": 6,
   "id": "1b0c888e",
   "metadata": {
    "scrolled": true
   },
   "outputs": [
    {
     "data": {
      "text/plain": [
       "range"
      ]
     },
     "execution_count": 6,
     "metadata": {},
     "output_type": "execute_result"
    }
   ],
   "source": [
    "x = range(6)\n",
    "type(x)"
   ]
  },
  {
   "cell_type": "markdown",
   "id": "d161c425",
   "metadata": {},
   "source": [
    "#### Stringa"
   ]
  },
  {
   "cell_type": "code",
   "execution_count": 7,
   "id": "eeefffcd",
   "metadata": {
    "scrolled": true
   },
   "outputs": [
    {
     "data": {
      "text/plain": [
       "str"
      ]
     },
     "execution_count": 7,
     "metadata": {},
     "output_type": "execute_result"
    }
   ],
   "source": [
    "x = 'Hello Word'\n",
    "type(x)"
   ]
  },
  {
   "cell_type": "markdown",
   "id": "f05f7313",
   "metadata": {},
   "source": [
    "### <span style='background :orange'>Collezione di dati\n",
    "Utilizzate per memorizzare più elementi in una singola variabile.<br>\n",
    "Ogni singolo elemento può essere un qualsiasi tipo di dato semplice.<br>\n",
    "Attributi:<br>\n",
    "- __Ordinabile__: se una collezione è ordinabile, gli elementi hanno un ordine ben preciso ed è possibile selezionarli attraverso un indice\n",
    "- __Modificabile__: se una collezione è modificabile, gli elementi possono essere modificati dopo la creazione\n",
    "- __Mutabile__: se una collezione è mutabile, possono essere aggiunti o rimossi altri elementi dopo la creazione\n",
    "- __Permettere duplicati__: se una collezione li permette, possono esistere elementi duplicati al suo interno"
   ]
  },
  {
   "cell_type": "markdown",
   "id": "c295fb64",
   "metadata": {},
   "source": [
    "#### Lista\n",
    "<span style='color:green'>Ordinabile, modificabile, mutabile, permette duplicati"
   ]
  },
  {
   "cell_type": "code",
   "execution_count": 8,
   "id": "9c8093d8",
   "metadata": {},
   "outputs": [
    {
     "data": {
      "text/plain": [
       "list"
      ]
     },
     "execution_count": 8,
     "metadata": {},
     "output_type": "execute_result"
    }
   ],
   "source": [
    "x = [1,'a','abc']\n",
    "type(x)"
   ]
  },
  {
   "cell_type": "markdown",
   "id": "26ec0d0c",
   "metadata": {},
   "source": [
    "#### Tupla\n",
    "<span style='color:green'>Ordinabile,\n",
    "<span style='color:red'>non modificabile, non mutabile,\n",
    "<span style='color:green'>permette duplicati"
   ]
  },
  {
   "cell_type": "code",
   "execution_count": 9,
   "id": "c7af4bb6",
   "metadata": {},
   "outputs": [
    {
     "data": {
      "text/plain": [
       "tuple"
      ]
     },
     "execution_count": 9,
     "metadata": {},
     "output_type": "execute_result"
    }
   ],
   "source": [
    "x = (1,'a','abc')\n",
    "type(x)"
   ]
  },
  {
   "cell_type": "markdown",
   "id": "5dfcf0c5",
   "metadata": {},
   "source": [
    "#### Dizionario\n",
    "<span style='color:green'>Ordinabile, modificabile, mutabile,\n",
    "<span style='color:red'>non permette duplicati"
   ]
  },
  {
   "cell_type": "code",
   "execution_count": 10,
   "id": "ce017f6e",
   "metadata": {},
   "outputs": [
    {
     "data": {
      "text/plain": [
       "dict"
      ]
     },
     "execution_count": 10,
     "metadata": {},
     "output_type": "execute_result"
    }
   ],
   "source": [
    "#ogni coppia è formata da <chiave> e <valore>\n",
    "#sia <chiave> che <valore> possono essere un qualsiasi tipo di dato\n",
    "\n",
    "x = {None:True, 1:'b', 'ciao':[0.0,1.0,2.0]}\n",
    "type(x)"
   ]
  },
  {
   "cell_type": "markdown",
   "id": "2690e2e1",
   "metadata": {},
   "source": [
    "#### Set\n",
    "<span style='color:red'>Non ordinabile, non modificabile,\n",
    "<span style='color:green'>mutabile,\n",
    "<span style='color:red'>non permette duplicati"
   ]
  },
  {
   "cell_type": "code",
   "execution_count": 11,
   "id": "c70294f9",
   "metadata": {},
   "outputs": [
    {
     "data": {
      "text/plain": [
       "set"
      ]
     },
     "execution_count": 11,
     "metadata": {},
     "output_type": "execute_result"
    }
   ],
   "source": [
    "x = {1,'a','abc'}\n",
    "type(x)"
   ]
  },
  {
   "cell_type": "markdown",
   "id": "d1e74b97",
   "metadata": {},
   "source": [
    "#### Frozen set\n",
    "<span style='color:red'>Non ordinabile, non modificabile, non mutabile, non permette duplicati"
   ]
  },
  {
   "cell_type": "code",
   "execution_count": 12,
   "id": "f88666fd",
   "metadata": {},
   "outputs": [
    {
     "data": {
      "text/plain": [
       "frozenset"
      ]
     },
     "execution_count": 12,
     "metadata": {},
     "output_type": "execute_result"
    }
   ],
   "source": [
    "x = frozenset({1,'a','abc'})\n",
    "type(x)"
   ]
  },
  {
   "cell_type": "markdown",
   "id": "147f47ac",
   "metadata": {},
   "source": [
    "## <span style='background :yellow'>Lista\n",
    "<span style='color:green'>Ordinabile,\n",
    "modificabile,\n",
    "mutabile,\n",
    "permette duplicati"
   ]
  },
  {
   "cell_type": "markdown",
   "id": "2c1ab473",
   "metadata": {},
   "source": [
    "### Creazione di una lista"
   ]
  },
  {
   "cell_type": "markdown",
   "id": "37fed5ed",
   "metadata": {},
   "source": [
    "#### Creazione base"
   ]
  },
  {
   "cell_type": "code",
   "execution_count": 13,
   "id": "38d0422b",
   "metadata": {},
   "outputs": [
    {
     "data": {
      "text/plain": [
       "[1, 2, 3, 4, 5, 5]"
      ]
     },
     "execution_count": 13,
     "metadata": {},
     "output_type": "execute_result"
    }
   ],
   "source": [
    "list1 = [1,2,3,4,5,5] # permette duplicati\n",
    "list1"
   ]
  },
  {
   "cell_type": "code",
   "execution_count": 14,
   "id": "ff5154e1",
   "metadata": {},
   "outputs": [
    {
     "data": {
      "text/plain": [
       "3"
      ]
     },
     "execution_count": 14,
     "metadata": {},
     "output_type": "execute_result"
    }
   ],
   "source": [
    "list1[2] # essendo ordinabile, gli elementi sono accessibili tramite index"
   ]
  },
  {
   "cell_type": "code",
   "execution_count": 15,
   "id": "a6173b74",
   "metadata": {
    "scrolled": true
   },
   "outputs": [
    {
     "data": {
      "text/plain": [
       "[1, 'ciao', 3, 4, 5, 5]"
      ]
     },
     "execution_count": 15,
     "metadata": {},
     "output_type": "execute_result"
    }
   ],
   "source": [
    "list1[1] = 'ciao' # essendo modificabile, gli elementi possono essere modificati\n",
    "list1"
   ]
  },
  {
   "cell_type": "markdown",
   "id": "536e2258",
   "metadata": {},
   "source": [
    "#### Creazione tramite costruttore list()"
   ]
  },
  {
   "cell_type": "code",
   "execution_count": 16,
   "id": "eee48dd4",
   "metadata": {},
   "outputs": [
    {
     "data": {
      "text/plain": [
       "[1, 2, 3]"
      ]
     },
     "execution_count": 16,
     "metadata": {},
     "output_type": "execute_result"
    }
   ],
   "source": [
    "# creazione di una lista a partire da una tupla\n",
    "list_tuple = (1,2,3)\n",
    "list1 = list(list_tuple)\n",
    "list1"
   ]
  },
  {
   "cell_type": "code",
   "execution_count": 17,
   "id": "b16830cd",
   "metadata": {},
   "outputs": [
    {
     "data": {
      "text/plain": [
       "[1, 2, 3]"
      ]
     },
     "execution_count": 17,
     "metadata": {},
     "output_type": "execute_result"
    }
   ],
   "source": [
    "# creazione di una lista a partire da una set\n",
    "list_set = {1,2,3}\n",
    "list1 = list(list_set)\n",
    "list1"
   ]
  },
  {
   "cell_type": "code",
   "execution_count": 18,
   "id": "f42bd58c",
   "metadata": {},
   "outputs": [
    {
     "data": {
      "text/plain": [
       "[1, 2, 3]"
      ]
     },
     "execution_count": 18,
     "metadata": {},
     "output_type": "execute_result"
    }
   ],
   "source": [
    "# creazione di una lista a partire da un frozenset\n",
    "list_frozenset = frozenset({1,2,3})\n",
    "list1 = list(list_set)\n",
    "list1"
   ]
  },
  {
   "cell_type": "code",
   "execution_count": 19,
   "id": "8ff3655a",
   "metadata": {},
   "outputs": [
    {
     "data": {
      "text/plain": [
       "[1, 2, 3]"
      ]
     },
     "execution_count": 19,
     "metadata": {},
     "output_type": "execute_result"
    }
   ],
   "source": [
    "# creazione di una lista a partire da un dizionario (vengono prese soltanto le chiavi)\n",
    "list_dictionary = {1:'a',2:'b',3:'%%capture'}\n",
    "list1 = list(list_dictionary)\n",
    "list1"
   ]
  },
  {
   "cell_type": "markdown",
   "id": "52525cea",
   "metadata": {},
   "source": [
    "### Metodi\n",
    "https://www.w3schools.com/python/python_lists_methods.asp"
   ]
  },
  {
   "cell_type": "markdown",
   "id": "82ae4215",
   "metadata": {},
   "source": [
    "#### append()\n",
    "Aggiunge un elemento alla fine della lista"
   ]
  },
  {
   "cell_type": "code",
   "execution_count": 20,
   "id": "78a621cb",
   "metadata": {},
   "outputs": [
    {
     "data": {
      "text/plain": [
       "[1, 2, 3, 4]"
      ]
     },
     "execution_count": 20,
     "metadata": {},
     "output_type": "execute_result"
    }
   ],
   "source": [
    "list1.append(4) # inserisce 6 in coda alla lista\n",
    "list1"
   ]
  },
  {
   "cell_type": "markdown",
   "id": "f0ad4c5c",
   "metadata": {},
   "source": [
    "#### insert()\n",
    "Aggiunge un elemento in una specifica posizione della lista"
   ]
  },
  {
   "cell_type": "code",
   "execution_count": 21,
   "id": "a11ff9e7",
   "metadata": {},
   "outputs": [
    {
     "data": {
      "text/plain": [
       "[1, 'ciao', 2, 3, 4]"
      ]
     },
     "execution_count": 21,
     "metadata": {},
     "output_type": "execute_result"
    }
   ],
   "source": [
    "list1.insert(1,'ciao') # inserisce elemento 'ciao' in posizione 1 della lista\n",
    "list1"
   ]
  },
  {
   "cell_type": "markdown",
   "id": "68c00fa4",
   "metadata": {},
   "source": [
    "#### extend()\n",
    "Aggiunge tutti gli elementi di un'altra lista o di un altra struttura iterabile in coda alla lista"
   ]
  },
  {
   "cell_type": "code",
   "execution_count": 22,
   "id": "c5ff8168",
   "metadata": {},
   "outputs": [
    {
     "data": {
      "text/plain": [
       "[1, 'ciao', 2, 3, 4, 5, 6]"
      ]
     },
     "execution_count": 22,
     "metadata": {},
     "output_type": "execute_result"
    }
   ],
   "source": [
    "list2 = [5,6]\n",
    "list1.extend(list2) # aggiunge lista 2 in coda a lista 1\n",
    "list1"
   ]
  },
  {
   "cell_type": "markdown",
   "id": "ff52c7b9",
   "metadata": {},
   "source": [
    "#### index()\n",
    "Ritorna l'indice del primo elemento della lista uguale a quello indicato come parametro"
   ]
  },
  {
   "cell_type": "code",
   "execution_count": 23,
   "id": "707ac312",
   "metadata": {},
   "outputs": [
    {
     "data": {
      "text/plain": [
       "1"
      ]
     },
     "execution_count": 23,
     "metadata": {},
     "output_type": "execute_result"
    }
   ],
   "source": [
    "list1.index('ciao') # ritorna la posizione dell'elemento 'ciao'"
   ]
  },
  {
   "cell_type": "markdown",
   "id": "441bb13a",
   "metadata": {},
   "source": [
    "#### count()\n",
    "Ritorna il numero di elementi all'interno della lista uguali al valore specificato come parametro"
   ]
  },
  {
   "cell_type": "code",
   "execution_count": 24,
   "id": "2501298f",
   "metadata": {},
   "outputs": [
    {
     "data": {
      "text/plain": [
       "[1, 'ciao', 2, 3, 4, 5, 6, 6]"
      ]
     },
     "execution_count": 24,
     "metadata": {},
     "output_type": "execute_result"
    }
   ],
   "source": [
    "list1.append(6)\n",
    "list1"
   ]
  },
  {
   "cell_type": "code",
   "execution_count": 25,
   "id": "7703d22f",
   "metadata": {},
   "outputs": [
    {
     "data": {
      "text/plain": [
       "2"
      ]
     },
     "execution_count": 25,
     "metadata": {},
     "output_type": "execute_result"
    }
   ],
   "source": [
    "list1.count(6) # ritorna il numero di 6 presenti all'interno della lista"
   ]
  },
  {
   "cell_type": "markdown",
   "id": "5962d0d5",
   "metadata": {},
   "source": [
    "#### remove()\n",
    "Rimuove il primo elemento all'interno della lista uguale al valore specificato come parametro"
   ]
  },
  {
   "cell_type": "code",
   "execution_count": 26,
   "id": "e90a8eea",
   "metadata": {},
   "outputs": [
    {
     "data": {
      "text/plain": [
       "[1, 2, 3, 4, 5, 6, 6]"
      ]
     },
     "execution_count": 26,
     "metadata": {},
     "output_type": "execute_result"
    }
   ],
   "source": [
    "list1.remove('ciao')\n",
    "list1"
   ]
  },
  {
   "cell_type": "markdown",
   "id": "141dee3c",
   "metadata": {},
   "source": [
    "#### pop()\n",
    "Rimuove (e ritorna) l'elemento all'interno della lista in posizione specificata dal parametro"
   ]
  },
  {
   "cell_type": "code",
   "execution_count": 27,
   "id": "871e8a20",
   "metadata": {},
   "outputs": [
    {
     "data": {
      "text/plain": [
       "6"
      ]
     },
     "execution_count": 27,
     "metadata": {},
     "output_type": "execute_result"
    }
   ],
   "source": [
    "list1.pop(5) # rimuove il primo 6 dato che si trova in posizione 5 e lo ritorna"
   ]
  },
  {
   "cell_type": "code",
   "execution_count": 28,
   "id": "7d490235",
   "metadata": {},
   "outputs": [
    {
     "data": {
      "text/plain": [
       "[1, 2, 3, 4, 5, 6]"
      ]
     },
     "execution_count": 28,
     "metadata": {},
     "output_type": "execute_result"
    }
   ],
   "source": [
    "list1"
   ]
  },
  {
   "cell_type": "markdown",
   "id": "af0dcb5c",
   "metadata": {},
   "source": [
    "#### sort()\n",
    "Ordina gli elementi all'interno della lista (di default in ordine crescente)"
   ]
  },
  {
   "cell_type": "code",
   "execution_count": 29,
   "id": "b77c4e19",
   "metadata": {},
   "outputs": [
    {
     "data": {
      "text/plain": [
       "[1, 2, 3, 4, 5, 6, 0]"
      ]
     },
     "execution_count": 29,
     "metadata": {},
     "output_type": "execute_result"
    }
   ],
   "source": [
    "list1.append(0)\n",
    "list1"
   ]
  },
  {
   "cell_type": "code",
   "execution_count": 30,
   "id": "033c4397",
   "metadata": {},
   "outputs": [
    {
     "data": {
      "text/plain": [
       "[0, 1, 2, 3, 4, 5, 6]"
      ]
     },
     "execution_count": 30,
     "metadata": {},
     "output_type": "execute_result"
    }
   ],
   "source": [
    "list1.sort() # ordina la lista in ordine ascendente\n",
    "list1"
   ]
  },
  {
   "cell_type": "code",
   "execution_count": 31,
   "id": "43545e7d",
   "metadata": {},
   "outputs": [
    {
     "data": {
      "text/plain": [
       "[6, 5, 4, 3, 2, 1, 0]"
      ]
     },
     "execution_count": 31,
     "metadata": {},
     "output_type": "execute_result"
    }
   ],
   "source": [
    "list1.sort(reverse=True) # ordina la lista in ordine discendente\n",
    "list1"
   ]
  },
  {
   "cell_type": "markdown",
   "id": "ed5e367f",
   "metadata": {},
   "source": [
    "#### reverse()\n",
    "Inverte l'ordine degli elementi all'interno della lista"
   ]
  },
  {
   "cell_type": "code",
   "execution_count": 32,
   "id": "ec8bf4d6",
   "metadata": {},
   "outputs": [
    {
     "data": {
      "text/plain": [
       "[0, 1, 2, 3, 4, 5, 6]"
      ]
     },
     "execution_count": 32,
     "metadata": {},
     "output_type": "execute_result"
    }
   ],
   "source": [
    "list1.reverse()\n",
    "list1"
   ]
  },
  {
   "cell_type": "markdown",
   "id": "02c4b057",
   "metadata": {},
   "source": [
    "#### copy()\n",
    "Ritorna una copia della lista"
   ]
  },
  {
   "cell_type": "code",
   "execution_count": 33,
   "id": "e94b43e0",
   "metadata": {},
   "outputs": [
    {
     "data": {
      "text/plain": [
       "[0, 1, 2, 3, 4, 5, 6]"
      ]
     },
     "execution_count": 33,
     "metadata": {},
     "output_type": "execute_result"
    }
   ],
   "source": [
    "list2 = list1.copy()\n",
    "list2"
   ]
  },
  {
   "cell_type": "markdown",
   "id": "00fbfe8d",
   "metadata": {},
   "source": [
    "#### clear()\n",
    "Elimina tutti gli elementi della lista"
   ]
  },
  {
   "cell_type": "code",
   "execution_count": 34,
   "id": "08b45b68",
   "metadata": {
    "scrolled": true
   },
   "outputs": [
    {
     "data": {
      "text/plain": [
       "[]"
      ]
     },
     "execution_count": 34,
     "metadata": {},
     "output_type": "execute_result"
    }
   ],
   "source": [
    "list2.clear()\n",
    "list2"
   ]
  },
  {
   "cell_type": "markdown",
   "id": "7bc3fef3",
   "metadata": {},
   "source": [
    "## <span style='background :yellow'>Tupla\n",
    "<span style='color:green'>Ordinabile,\n",
    "<span style='color:red'>non modificabile, non mutabile,\n",
    "<span style='color:green'>permette duplicati"
   ]
  },
  {
   "cell_type": "markdown",
   "id": "57b75922",
   "metadata": {},
   "source": [
    "### Creazione di una tupla"
   ]
  },
  {
   "cell_type": "markdown",
   "id": "965da792",
   "metadata": {},
   "source": [
    "#### Creazione base"
   ]
  },
  {
   "cell_type": "code",
   "execution_count": 35,
   "id": "648c0f30",
   "metadata": {},
   "outputs": [
    {
     "data": {
      "text/plain": [
       "(1, 2, 'ciao', 4, 5, 1)"
      ]
     },
     "execution_count": 35,
     "metadata": {},
     "output_type": "execute_result"
    }
   ],
   "source": [
    "tuple1 = (1,2,'ciao',4,5,1) # permette duplicati\n",
    "tuple1"
   ]
  },
  {
   "cell_type": "code",
   "execution_count": 36,
   "id": "5680a9c0",
   "metadata": {},
   "outputs": [
    {
     "data": {
      "text/plain": [
       "'ciao'"
      ]
     },
     "execution_count": 36,
     "metadata": {},
     "output_type": "execute_result"
    }
   ],
   "source": [
    "tuple1[2] # essendo ordinabile, gli elementi sono accessibili tramite index"
   ]
  },
  {
   "cell_type": "markdown",
   "id": "4da5d428",
   "metadata": {},
   "source": [
    "#### Creazione tramite costruttore tuple()"
   ]
  },
  {
   "cell_type": "code",
   "execution_count": 37,
   "id": "6380dc34",
   "metadata": {},
   "outputs": [
    {
     "data": {
      "text/plain": [
       "(1, 2, 3)"
      ]
     },
     "execution_count": 37,
     "metadata": {},
     "output_type": "execute_result"
    }
   ],
   "source": [
    "# tramite costruttore è possibile creare una tupla a partire da liste, set, frozenset e dizionari\n",
    "tuple_list = [1,2,3]\n",
    "tuple(tuple_list)\n",
    "\n",
    "tuple_set = {1,2,3}\n",
    "tuple(tuple_set)\n",
    "\n",
    "tuple_frozenset = frozenset({1,2,3})\n",
    "tuple(tuple_frozenset)\n",
    "\n",
    "tuple_dictionary = {1:'a',2:'b',3:'%%capture'}\n",
    "tuple(tuple_dictionary)"
   ]
  },
  {
   "cell_type": "markdown",
   "id": "e74d86a4",
   "metadata": {},
   "source": [
    "### Metodi\n",
    "https://www.w3schools.com/python/python_tuples_methods.asp"
   ]
  },
  {
   "cell_type": "code",
   "execution_count": 38,
   "id": "b3e5fc00",
   "metadata": {},
   "outputs": [
    {
     "data": {
      "text/plain": [
       "(1, 2, 'ciao', 4, 5, 1)"
      ]
     },
     "execution_count": 38,
     "metadata": {},
     "output_type": "execute_result"
    }
   ],
   "source": [
    "tuple1"
   ]
  },
  {
   "cell_type": "markdown",
   "id": "3ee7bfe4",
   "metadata": {},
   "source": [
    "#### count()\n",
    "Ritorna il numero di elementi all'interno della lista uguali al valore specificato come parametro"
   ]
  },
  {
   "cell_type": "code",
   "execution_count": 39,
   "id": "e962734f",
   "metadata": {},
   "outputs": [
    {
     "data": {
      "text/plain": [
       "2"
      ]
     },
     "execution_count": 39,
     "metadata": {},
     "output_type": "execute_result"
    }
   ],
   "source": [
    "tuple1.count(1)"
   ]
  },
  {
   "cell_type": "markdown",
   "id": "6cc53bad",
   "metadata": {},
   "source": [
    "#### index()\n",
    "Ritorna l'indice del primo elemento della tupla uguale a quello indicato come parametro"
   ]
  },
  {
   "cell_type": "code",
   "execution_count": 40,
   "id": "bbcc404d",
   "metadata": {},
   "outputs": [
    {
     "data": {
      "text/plain": [
       "2"
      ]
     },
     "execution_count": 40,
     "metadata": {},
     "output_type": "execute_result"
    }
   ],
   "source": [
    "tuple1.index('ciao') # ritorna la posizione dell'elemento 'ciao'"
   ]
  },
  {
   "cell_type": "markdown",
   "id": "7b9a15b1",
   "metadata": {},
   "source": [
    "## <span style='background :yellow'>Dizionario\n",
    "<span style='color:green'>Ordinabile, modificabile, mutabile,\n",
    "<span style='color:red'>non permette duplicati"
   ]
  },
  {
   "cell_type": "markdown",
   "id": "c292bbcc",
   "metadata": {},
   "source": [
    "### Creazione di un dizionario"
   ]
  },
  {
   "cell_type": "markdown",
   "id": "b2741007",
   "metadata": {},
   "source": [
    "#### Creazione base"
   ]
  },
  {
   "cell_type": "code",
   "execution_count": 41,
   "id": "2cbd3c97",
   "metadata": {},
   "outputs": [
    {
     "data": {
      "text/plain": [
       "{None: True, 1: 'b', 'ciao': [0.0, 1.0, 2.0]}"
      ]
     },
     "execution_count": 41,
     "metadata": {},
     "output_type": "execute_result"
    }
   ],
   "source": [
    "dictionary1 = {None:True, 1:'b', 'ciao':[0.0,1.0,2.0]}\n",
    "dictionary1"
   ]
  },
  {
   "cell_type": "code",
   "execution_count": 42,
   "id": "28f4d57d",
   "metadata": {},
   "outputs": [
    {
     "data": {
      "text/plain": [
       "True"
      ]
     },
     "execution_count": 42,
     "metadata": {},
     "output_type": "execute_result"
    }
   ],
   "source": [
    "dictionary1[None] # essendo ordinabile, gli elementi sono accessibili ma tramite chiave"
   ]
  },
  {
   "cell_type": "code",
   "execution_count": 43,
   "id": "8fc80414",
   "metadata": {
    "scrolled": true
   },
   "outputs": [
    {
     "data": {
      "text/plain": [
       "{None: True, 1: 'b', 'ciao': 0}"
      ]
     },
     "execution_count": 43,
     "metadata": {},
     "output_type": "execute_result"
    }
   ],
   "source": [
    "dictionary1['ciao'] = 0 # essendo modificabile, gli elementi possono essere modificati\n",
    "dictionary1"
   ]
  },
  {
   "cell_type": "markdown",
   "id": "23842c03",
   "metadata": {},
   "source": [
    "### Metodi\n",
    "https://www.w3schools.com/python/python_dictionaries_methods.asp"
   ]
  },
  {
   "cell_type": "markdown",
   "id": "67a8f9e3",
   "metadata": {},
   "source": [
    "## <span style='background :yellow'>Set\n",
    "<span style='color:red'>Non ordinabile, non modificabile,\n",
    "<span style='color:green'>mutabile,\n",
    "<span style='color:red'>non permette duplicati"
   ]
  },
  {
   "cell_type": "markdown",
   "id": "cbf6ff80",
   "metadata": {},
   "source": [
    "### Creazione di un set"
   ]
  },
  {
   "cell_type": "code",
   "execution_count": 44,
   "id": "cd55f314",
   "metadata": {},
   "outputs": [
    {
     "data": {
      "text/plain": [
       "{1, 2, 4, 5, 'ciao'}"
      ]
     },
     "execution_count": 44,
     "metadata": {},
     "output_type": "execute_result"
    }
   ],
   "source": [
    "set1 = {1,2,'ciao',4,5,1} # non permette duplicati e non è ordinabile, quindi non è possibile accedere tramite index agli elementi\n",
    "set1"
   ]
  },
  {
   "cell_type": "markdown",
   "id": "4de45873",
   "metadata": {},
   "source": [
    "### Metodi\n",
    "https://www.w3schools.com/python/python_sets_methods.asp"
   ]
  },
  {
   "cell_type": "markdown",
   "id": "27dac87d",
   "metadata": {},
   "source": [
    "## <span style='background :yellow'>Frozen set\n",
    "<span style='color:red'>Non ordinabile, non modificabile, non mutabile, non permette duplicati"
   ]
  },
  {
   "cell_type": "markdown",
   "id": "945f0cdd",
   "metadata": {},
   "source": [
    "### Creazione di un frozen set"
   ]
  },
  {
   "cell_type": "markdown",
   "id": "7319fe5e",
   "metadata": {},
   "source": [
    "#### Creazione tramite costruttore frozenset()"
   ]
  },
  {
   "cell_type": "code",
   "execution_count": 45,
   "id": "b268dce1",
   "metadata": {},
   "outputs": [
    {
     "data": {
      "text/plain": [
       "frozenset({1, 2, 3})"
      ]
     },
     "execution_count": 45,
     "metadata": {},
     "output_type": "execute_result"
    }
   ],
   "source": [
    "# tramite costruttore è possibile creare un frozenset a partire da liste, tuple, set e dizionari\n",
    "frozenset_list = [1,2,3]\n",
    "frozenset(tuple_list)\n",
    "\n",
    "frozenset_set = {1,2,3}\n",
    "frozenset(frozenset_set)\n",
    "\n",
    "frozenset_tuple = (1,2,3)\n",
    "frozenset(frozenset_tuple)\n",
    "\n",
    "frozenset_dictionary = {1:'a',2:'b',3:'%%capture'}\n",
    "frozenset(frozenset_dictionary)"
   ]
  },
  {
   "cell_type": "markdown",
   "id": "6e5cd828",
   "metadata": {},
   "source": [
    "### Metodi\n",
    "https://www.w3schools.com/python/python_sets_methods.asp"
   ]
  },
  {
   "cell_type": "markdown",
   "id": "ba0a011d",
   "metadata": {},
   "source": [
    "#### copy()\n",
    "Ritorna una copia del frozenset"
   ]
  },
  {
   "cell_type": "code",
   "execution_count": 46,
   "id": "d09c25a9",
   "metadata": {},
   "outputs": [
    {
     "data": {
      "text/plain": [
       "frozenset({1, 2, 3, 4})"
      ]
     },
     "execution_count": 46,
     "metadata": {},
     "output_type": "execute_result"
    }
   ],
   "source": [
    "frozenset1 = frozenset([1,2,3,4])\n",
    "frozenset2 = frozenset([3,4,5,6])\n",
    "frozenset3 = frozenset([5,6])\n",
    "frozenset4 = frozenset1.copy()\n",
    "\n",
    "frozenset4"
   ]
  },
  {
   "cell_type": "markdown",
   "id": "b789ea8f",
   "metadata": {},
   "source": [
    "#### union()\n",
    "Ritorna l'unione di due frozenset in un nuovo frozenset"
   ]
  },
  {
   "cell_type": "code",
   "execution_count": 47,
   "id": "867d44bc",
   "metadata": {},
   "outputs": [
    {
     "data": {
      "text/plain": [
       "frozenset({1, 2, 3, 4, 5, 6})"
      ]
     },
     "execution_count": 47,
     "metadata": {},
     "output_type": "execute_result"
    }
   ],
   "source": [
    "frozenset1.union(frozenset2)"
   ]
  },
  {
   "cell_type": "markdown",
   "id": "527d079c",
   "metadata": {},
   "source": [
    "#### intersection()\n",
    "Ritorna l'intersezione di due frozenset in un nuovo frozenset"
   ]
  },
  {
   "cell_type": "code",
   "execution_count": 48,
   "id": "5c86435e",
   "metadata": {},
   "outputs": [
    {
     "data": {
      "text/plain": [
       "frozenset({3, 4})"
      ]
     },
     "execution_count": 48,
     "metadata": {},
     "output_type": "execute_result"
    }
   ],
   "source": [
    "frozenset1.intersection(frozenset2)"
   ]
  },
  {
   "cell_type": "markdown",
   "id": "0f2cfed0",
   "metadata": {},
   "source": [
    "#### difference()\n",
    "Ritorna la differenza di due frozenset in un nuovo frozenset"
   ]
  },
  {
   "cell_type": "code",
   "execution_count": 49,
   "id": "6cb62cf0",
   "metadata": {},
   "outputs": [
    {
     "data": {
      "text/plain": [
       "frozenset({1, 2})"
      ]
     },
     "execution_count": 49,
     "metadata": {},
     "output_type": "execute_result"
    }
   ],
   "source": [
    "frozenset1.difference(frozenset2)"
   ]
  },
  {
   "cell_type": "markdown",
   "id": "655944f4",
   "metadata": {},
   "source": [
    "#### symmetric_difference()\n",
    "Ritorna la differenza simmetrica di due frozenset in un nuovo frozenset"
   ]
  },
  {
   "cell_type": "code",
   "execution_count": 50,
   "id": "737c51f7",
   "metadata": {},
   "outputs": [
    {
     "data": {
      "text/plain": [
       "frozenset({1, 2, 5, 6})"
      ]
     },
     "execution_count": 50,
     "metadata": {},
     "output_type": "execute_result"
    }
   ],
   "source": [
    "frozenset1.symmetric_difference(frozenset2)"
   ]
  },
  {
   "cell_type": "markdown",
   "id": "7943ebab",
   "metadata": {},
   "source": [
    "#### isdisjoint()\n",
    "Ritorna true o false in base a se tutti gli elementi confrontati sono diversi"
   ]
  },
  {
   "cell_type": "code",
   "execution_count": 51,
   "id": "7149c690",
   "metadata": {},
   "outputs": [
    {
     "data": {
      "text/plain": [
       "True"
      ]
     },
     "execution_count": 51,
     "metadata": {},
     "output_type": "execute_result"
    }
   ],
   "source": [
    "frozenset1.isdisjoint(frozenset3)"
   ]
  },
  {
   "cell_type": "code",
   "execution_count": 52,
   "id": "f486ec98",
   "metadata": {},
   "outputs": [
    {
     "data": {
      "text/plain": [
       "False"
      ]
     },
     "execution_count": 52,
     "metadata": {},
     "output_type": "execute_result"
    }
   ],
   "source": [
    "frozenset1.isdisjoint(frozenset2)"
   ]
  },
  {
   "cell_type": "markdown",
   "id": "3116f8e8",
   "metadata": {},
   "source": [
    "#### issubset()\n",
    "Ritorna true o false in base a se il frozenset passato come parametro è un subset dell'altro"
   ]
  },
  {
   "cell_type": "code",
   "execution_count": 53,
   "id": "fe3e6a60",
   "metadata": {},
   "outputs": [
    {
     "data": {
      "text/plain": [
       "True"
      ]
     },
     "execution_count": 53,
     "metadata": {},
     "output_type": "execute_result"
    }
   ],
   "source": [
    "frozenset3.issubset(frozenset2)"
   ]
  },
  {
   "cell_type": "markdown",
   "id": "a3c4b02e",
   "metadata": {},
   "source": [
    "#### issuperset()\n",
    "Ritorna true o false in base a se il frozenset passato come parametro è un superset dell'altro"
   ]
  },
  {
   "cell_type": "code",
   "execution_count": 54,
   "id": "d2840f9a",
   "metadata": {},
   "outputs": [
    {
     "data": {
      "text/plain": [
       "True"
      ]
     },
     "execution_count": 54,
     "metadata": {},
     "output_type": "execute_result"
    }
   ],
   "source": [
    "frozenset2.issuperset(frozenset3)"
   ]
  }
 ],
 "metadata": {
  "kernelspec": {
   "display_name": "Python 3 (ipykernel)",
   "language": "python",
   "name": "python3"
  },
  "language_info": {
   "codemirror_mode": {
    "name": "ipython",
    "version": 3
   },
   "file_extension": ".py",
   "mimetype": "text/x-python",
   "name": "python",
   "nbconvert_exporter": "python",
   "pygments_lexer": "ipython3",
   "version": "3.10.4"
  },
  "toc": {
   "base_numbering": 1,
   "nav_menu": {},
   "number_sections": true,
   "sideBar": true,
   "skip_h1_title": true,
   "title_cell": "Table of Contents",
   "title_sidebar": "Contents",
   "toc_cell": false,
   "toc_position": {},
   "toc_section_display": true,
   "toc_window_display": true
  }
 },
 "nbformat": 4,
 "nbformat_minor": 5
}
