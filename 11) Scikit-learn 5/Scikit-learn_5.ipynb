{
 "cells": [
  {
   "cell_type": "markdown",
   "id": "cf580601",
   "metadata": {},
   "source": [
    "# Scikit Learn"
   ]
  },
  {
   "cell_type": "code",
   "execution_count": 1,
   "id": "fc434a57",
   "metadata": {},
   "outputs": [],
   "source": [
    "import pandas as pd\n",
    "import numpy as np\n",
    "import matplotlib.pyplot as plt\n",
    "import os"
   ]
  },
  {
   "cell_type": "markdown",
   "id": "148221ad",
   "metadata": {},
   "source": [
    "## <span style='background :yellow'>Import dei dati"
   ]
  },
  {
   "cell_type": "code",
   "execution_count": 2,
   "id": "f5ea7af3",
   "metadata": {},
   "outputs": [],
   "source": [
    "complete_dataframe = pd.DataFrame() # create an empty dataframe"
   ]
  },
  {
   "cell_type": "code",
   "execution_count": 3,
   "id": "3a112e8a",
   "metadata": {},
   "outputs": [],
   "source": [
    "# iterate over files in that directory\n",
    "for filename in os.listdir('Dataset'):\n",
    "    single_dataframe = pd.read_json('Dataset/' + filename, lines=True)\n",
    "    single_dataframe['field'] = filename.split('_')[0].upper() #create a new column\n",
    "    complete_dataframe = pd.concat([complete_dataframe, single_dataframe])"
   ]
  },
  {
   "cell_type": "code",
   "execution_count": 4,
   "id": "b71b34c4",
   "metadata": {},
   "outputs": [],
   "source": [
    "# shuffle the dataframe and reset the index\n",
    "complete_dataframe = complete_dataframe.sample(frac=1).reset_index(drop=True)"
   ]
  },
  {
   "cell_type": "code",
   "execution_count": 5,
   "id": "3ac7e2de",
   "metadata": {},
   "outputs": [
    {
     "data": {
      "text/html": [
       "<div>\n",
       "<style scoped>\n",
       "    .dataframe tbody tr th:only-of-type {\n",
       "        vertical-align: middle;\n",
       "    }\n",
       "\n",
       "    .dataframe tbody tr th {\n",
       "        vertical-align: top;\n",
       "    }\n",
       "\n",
       "    .dataframe thead th {\n",
       "        text-align: right;\n",
       "    }\n",
       "</style>\n",
       "<table border=\"1\" class=\"dataframe\">\n",
       "  <thead>\n",
       "    <tr style=\"text-align: right;\">\n",
       "      <th></th>\n",
       "      <th>reviewerID</th>\n",
       "      <th>asin</th>\n",
       "      <th>reviewerName</th>\n",
       "      <th>helpful</th>\n",
       "      <th>reviewText</th>\n",
       "      <th>overall</th>\n",
       "      <th>summary</th>\n",
       "      <th>unixReviewTime</th>\n",
       "      <th>reviewTime</th>\n",
       "      <th>field</th>\n",
       "    </tr>\n",
       "  </thead>\n",
       "  <tbody>\n",
       "    <tr>\n",
       "      <th>0</th>\n",
       "      <td>A22KGO6Q2YWS0C</td>\n",
       "      <td>B00H727J6M</td>\n",
       "      <td>Dean!</td>\n",
       "      <td>[0, 0]</td>\n",
       "      <td>Ironically this is made by the company that se...</td>\n",
       "      <td>5</td>\n",
       "      <td>Great tasting, naturally sweet!</td>\n",
       "      <td>1400630400</td>\n",
       "      <td>05 21, 2014</td>\n",
       "      <td>GROCERY</td>\n",
       "    </tr>\n",
       "    <tr>\n",
       "      <th>1</th>\n",
       "      <td>AW40UPUC4UFDU</td>\n",
       "      <td>1469241943</td>\n",
       "      <td>Mama C</td>\n",
       "      <td>[0, 0]</td>\n",
       "      <td>This book started rather slowly, but became a ...</td>\n",
       "      <td>5</td>\n",
       "      <td>Historical fiction</td>\n",
       "      <td>1398556800</td>\n",
       "      <td>04 27, 2014</td>\n",
       "      <td>BOOKS</td>\n",
       "    </tr>\n",
       "    <tr>\n",
       "      <th>2</th>\n",
       "      <td>A3NXO2KE2X6ZJE</td>\n",
       "      <td>B00GTGETFG</td>\n",
       "      <td>Jeff</td>\n",
       "      <td>[1, 1]</td>\n",
       "      <td>I have been looking for a charger to charge my...</td>\n",
       "      <td>5</td>\n",
       "      <td>Charges a Dell Venue Pro 8</td>\n",
       "      <td>1401235200</td>\n",
       "      <td>05 28, 2014</td>\n",
       "      <td>ELECTRONICS</td>\n",
       "    </tr>\n",
       "    <tr>\n",
       "      <th>3</th>\n",
       "      <td>AUV3OR951650C</td>\n",
       "      <td>B000FCGS6I</td>\n",
       "      <td>N. Porter</td>\n",
       "      <td>[1, 1]</td>\n",
       "      <td>Living on a farm, I've tried a lot of differen...</td>\n",
       "      <td>5</td>\n",
       "      <td>The best mouse traps are the classic ones like...</td>\n",
       "      <td>1403308800</td>\n",
       "      <td>06 21, 2014</td>\n",
       "      <td>PATIO</td>\n",
       "    </tr>\n",
       "    <tr>\n",
       "      <th>4</th>\n",
       "      <td>A3Q8EG8F181J2P</td>\n",
       "      <td>B004VLV922</td>\n",
       "      <td>Bluebirdie</td>\n",
       "      <td>[0, 0]</td>\n",
       "      <td>I've been having BRM Flaxseed Meal every morni...</td>\n",
       "      <td>5</td>\n",
       "      <td>Got to have this every day!</td>\n",
       "      <td>1393459200</td>\n",
       "      <td>02 27, 2014</td>\n",
       "      <td>GROCERY</td>\n",
       "    </tr>\n",
       "    <tr>\n",
       "      <th>...</th>\n",
       "      <td>...</td>\n",
       "      <td>...</td>\n",
       "      <td>...</td>\n",
       "      <td>...</td>\n",
       "      <td>...</td>\n",
       "      <td>...</td>\n",
       "      <td>...</td>\n",
       "      <td>...</td>\n",
       "      <td>...</td>\n",
       "      <td>...</td>\n",
       "    </tr>\n",
       "    <tr>\n",
       "      <th>4995</th>\n",
       "      <td>A2LYK1AGZ4U9L8</td>\n",
       "      <td>B00D68UXQE</td>\n",
       "      <td>tbyg</td>\n",
       "      <td>[0, 0]</td>\n",
       "      <td>It's a little pricey, but it seems to be the o...</td>\n",
       "      <td>4</td>\n",
       "      <td>Works</td>\n",
       "      <td>1389139200</td>\n",
       "      <td>01 8, 2014</td>\n",
       "      <td>ELECTRONICS</td>\n",
       "    </tr>\n",
       "    <tr>\n",
       "      <th>4996</th>\n",
       "      <td>A1E2HNBZU9SD2A</td>\n",
       "      <td>B00G9XM36G</td>\n",
       "      <td>Unity Bekoe</td>\n",
       "      <td>[0, 1]</td>\n",
       "      <td>Received the dress. Very nice but it's just to...</td>\n",
       "      <td>5</td>\n",
       "      <td>Too Long</td>\n",
       "      <td>1391472000</td>\n",
       "      <td>02 4, 2014</td>\n",
       "      <td>CLOTHING</td>\n",
       "    </tr>\n",
       "    <tr>\n",
       "      <th>4997</th>\n",
       "      <td>A641JBBT6V2PT</td>\n",
       "      <td>B000MOIWWM</td>\n",
       "      <td>Happy Daddy</td>\n",
       "      <td>[1, 1]</td>\n",
       "      <td>I've used this a few times now in an 18' above...</td>\n",
       "      <td>2</td>\n",
       "      <td>Not Professional Heavy Duty Quality</td>\n",
       "      <td>1396828800</td>\n",
       "      <td>04 7, 2014</td>\n",
       "      <td>PATIO</td>\n",
       "    </tr>\n",
       "    <tr>\n",
       "      <th>4998</th>\n",
       "      <td>A2VV4JDBMOHNF8</td>\n",
       "      <td>B000LKVDLO</td>\n",
       "      <td>T Post</td>\n",
       "      <td>[0, 0]</td>\n",
       "      <td>Having recently gone gluten free, I missed Ore...</td>\n",
       "      <td>5</td>\n",
       "      <td>Good gluten free option</td>\n",
       "      <td>1390176000</td>\n",
       "      <td>01 20, 2014</td>\n",
       "      <td>GROCERY</td>\n",
       "    </tr>\n",
       "    <tr>\n",
       "      <th>4999</th>\n",
       "      <td>A6IEO545IYUOI</td>\n",
       "      <td>B00F4A8FQM</td>\n",
       "      <td>john \"dwaneberry\"</td>\n",
       "      <td>[0, 0]</td>\n",
       "      <td>I have bought over a dozen screen protectors o...</td>\n",
       "      <td>5</td>\n",
       "      <td>Great screen protector</td>\n",
       "      <td>1393113600</td>\n",
       "      <td>02 23, 2014</td>\n",
       "      <td>ELECTRONICS</td>\n",
       "    </tr>\n",
       "  </tbody>\n",
       "</table>\n",
       "<p>5000 rows × 10 columns</p>\n",
       "</div>"
      ],
      "text/plain": [
       "          reviewerID        asin       reviewerName helpful  \\\n",
       "0     A22KGO6Q2YWS0C  B00H727J6M              Dean!  [0, 0]   \n",
       "1      AW40UPUC4UFDU  1469241943             Mama C  [0, 0]   \n",
       "2     A3NXO2KE2X6ZJE  B00GTGETFG               Jeff  [1, 1]   \n",
       "3      AUV3OR951650C  B000FCGS6I          N. Porter  [1, 1]   \n",
       "4     A3Q8EG8F181J2P  B004VLV922         Bluebirdie  [0, 0]   \n",
       "...              ...         ...                ...     ...   \n",
       "4995  A2LYK1AGZ4U9L8  B00D68UXQE               tbyg  [0, 0]   \n",
       "4996  A1E2HNBZU9SD2A  B00G9XM36G        Unity Bekoe  [0, 1]   \n",
       "4997   A641JBBT6V2PT  B000MOIWWM        Happy Daddy  [1, 1]   \n",
       "4998  A2VV4JDBMOHNF8  B000LKVDLO             T Post  [0, 0]   \n",
       "4999   A6IEO545IYUOI  B00F4A8FQM  john \"dwaneberry\"  [0, 0]   \n",
       "\n",
       "                                             reviewText  overall  \\\n",
       "0     Ironically this is made by the company that se...        5   \n",
       "1     This book started rather slowly, but became a ...        5   \n",
       "2     I have been looking for a charger to charge my...        5   \n",
       "3     Living on a farm, I've tried a lot of differen...        5   \n",
       "4     I've been having BRM Flaxseed Meal every morni...        5   \n",
       "...                                                 ...      ...   \n",
       "4995  It's a little pricey, but it seems to be the o...        4   \n",
       "4996  Received the dress. Very nice but it's just to...        5   \n",
       "4997  I've used this a few times now in an 18' above...        2   \n",
       "4998  Having recently gone gluten free, I missed Ore...        5   \n",
       "4999  I have bought over a dozen screen protectors o...        5   \n",
       "\n",
       "                                                summary  unixReviewTime  \\\n",
       "0                       Great tasting, naturally sweet!      1400630400   \n",
       "1                                    Historical fiction      1398556800   \n",
       "2                            Charges a Dell Venue Pro 8      1401235200   \n",
       "3     The best mouse traps are the classic ones like...      1403308800   \n",
       "4                           Got to have this every day!      1393459200   \n",
       "...                                                 ...             ...   \n",
       "4995                                              Works      1389139200   \n",
       "4996                                           Too Long      1391472000   \n",
       "4997                Not Professional Heavy Duty Quality      1396828800   \n",
       "4998                            Good gluten free option      1390176000   \n",
       "4999                             Great screen protector      1393113600   \n",
       "\n",
       "       reviewTime        field  \n",
       "0     05 21, 2014      GROCERY  \n",
       "1     04 27, 2014        BOOKS  \n",
       "2     05 28, 2014  ELECTRONICS  \n",
       "3     06 21, 2014        PATIO  \n",
       "4     02 27, 2014      GROCERY  \n",
       "...           ...          ...  \n",
       "4995   01 8, 2014  ELECTRONICS  \n",
       "4996   02 4, 2014     CLOTHING  \n",
       "4997   04 7, 2014        PATIO  \n",
       "4998  01 20, 2014      GROCERY  \n",
       "4999  02 23, 2014  ELECTRONICS  \n",
       "\n",
       "[5000 rows x 10 columns]"
      ]
     },
     "execution_count": 5,
     "metadata": {},
     "output_type": "execute_result"
    }
   ],
   "source": [
    "complete_dataframe"
   ]
  },
  {
   "cell_type": "markdown",
   "id": "aaff047a",
   "metadata": {},
   "source": [
    "## <span style='background :yellow'>Eliminazione delle colonne superflue"
   ]
  },
  {
   "cell_type": "code",
   "execution_count": 6,
   "id": "004958d8",
   "metadata": {
    "scrolled": false
   },
   "outputs": [
    {
     "data": {
      "text/html": [
       "<div>\n",
       "<style scoped>\n",
       "    .dataframe tbody tr th:only-of-type {\n",
       "        vertical-align: middle;\n",
       "    }\n",
       "\n",
       "    .dataframe tbody tr th {\n",
       "        vertical-align: top;\n",
       "    }\n",
       "\n",
       "    .dataframe thead th {\n",
       "        text-align: right;\n",
       "    }\n",
       "</style>\n",
       "<table border=\"1\" class=\"dataframe\">\n",
       "  <thead>\n",
       "    <tr style=\"text-align: right;\">\n",
       "      <th></th>\n",
       "      <th>reviewText</th>\n",
       "      <th>field</th>\n",
       "    </tr>\n",
       "  </thead>\n",
       "  <tbody>\n",
       "    <tr>\n",
       "      <th>0</th>\n",
       "      <td>Ironically this is made by the company that se...</td>\n",
       "      <td>GROCERY</td>\n",
       "    </tr>\n",
       "    <tr>\n",
       "      <th>1</th>\n",
       "      <td>This book started rather slowly, but became a ...</td>\n",
       "      <td>BOOKS</td>\n",
       "    </tr>\n",
       "    <tr>\n",
       "      <th>2</th>\n",
       "      <td>I have been looking for a charger to charge my...</td>\n",
       "      <td>ELECTRONICS</td>\n",
       "    </tr>\n",
       "    <tr>\n",
       "      <th>3</th>\n",
       "      <td>Living on a farm, I've tried a lot of differen...</td>\n",
       "      <td>PATIO</td>\n",
       "    </tr>\n",
       "    <tr>\n",
       "      <th>4</th>\n",
       "      <td>I've been having BRM Flaxseed Meal every morni...</td>\n",
       "      <td>GROCERY</td>\n",
       "    </tr>\n",
       "    <tr>\n",
       "      <th>...</th>\n",
       "      <td>...</td>\n",
       "      <td>...</td>\n",
       "    </tr>\n",
       "    <tr>\n",
       "      <th>4995</th>\n",
       "      <td>It's a little pricey, but it seems to be the o...</td>\n",
       "      <td>ELECTRONICS</td>\n",
       "    </tr>\n",
       "    <tr>\n",
       "      <th>4996</th>\n",
       "      <td>Received the dress. Very nice but it's just to...</td>\n",
       "      <td>CLOTHING</td>\n",
       "    </tr>\n",
       "    <tr>\n",
       "      <th>4997</th>\n",
       "      <td>I've used this a few times now in an 18' above...</td>\n",
       "      <td>PATIO</td>\n",
       "    </tr>\n",
       "    <tr>\n",
       "      <th>4998</th>\n",
       "      <td>Having recently gone gluten free, I missed Ore...</td>\n",
       "      <td>GROCERY</td>\n",
       "    </tr>\n",
       "    <tr>\n",
       "      <th>4999</th>\n",
       "      <td>I have bought over a dozen screen protectors o...</td>\n",
       "      <td>ELECTRONICS</td>\n",
       "    </tr>\n",
       "  </tbody>\n",
       "</table>\n",
       "<p>5000 rows × 2 columns</p>\n",
       "</div>"
      ],
      "text/plain": [
       "                                             reviewText        field\n",
       "0     Ironically this is made by the company that se...      GROCERY\n",
       "1     This book started rather slowly, but became a ...        BOOKS\n",
       "2     I have been looking for a charger to charge my...  ELECTRONICS\n",
       "3     Living on a farm, I've tried a lot of differen...        PATIO\n",
       "4     I've been having BRM Flaxseed Meal every morni...      GROCERY\n",
       "...                                                 ...          ...\n",
       "4995  It's a little pricey, but it seems to be the o...  ELECTRONICS\n",
       "4996  Received the dress. Very nice but it's just to...     CLOTHING\n",
       "4997  I've used this a few times now in an 18' above...        PATIO\n",
       "4998  Having recently gone gluten free, I missed Ore...      GROCERY\n",
       "4999  I have bought over a dozen screen protectors o...  ELECTRONICS\n",
       "\n",
       "[5000 rows x 2 columns]"
      ]
     },
     "execution_count": 6,
     "metadata": {},
     "output_type": "execute_result"
    }
   ],
   "source": [
    "df = complete_dataframe[['reviewText','field']]\n",
    "df"
   ]
  },
  {
   "cell_type": "markdown",
   "id": "e80c7280",
   "metadata": {},
   "source": [
    "## <span style='background :yellow'>Split del dataframe in train e test"
   ]
  },
  {
   "cell_type": "code",
   "execution_count": 7,
   "id": "a59e8922",
   "metadata": {},
   "outputs": [],
   "source": [
    "from sklearn.model_selection import train_test_split\n",
    "train, test = train_test_split(df,test_size=0.33, random_state=42)"
   ]
  },
  {
   "cell_type": "code",
   "execution_count": 8,
   "id": "35de1e70",
   "metadata": {},
   "outputs": [
    {
     "data": {
      "text/html": [
       "<div>\n",
       "<style scoped>\n",
       "    .dataframe tbody tr th:only-of-type {\n",
       "        vertical-align: middle;\n",
       "    }\n",
       "\n",
       "    .dataframe tbody tr th {\n",
       "        vertical-align: top;\n",
       "    }\n",
       "\n",
       "    .dataframe thead th {\n",
       "        text-align: right;\n",
       "    }\n",
       "</style>\n",
       "<table border=\"1\" class=\"dataframe\">\n",
       "  <thead>\n",
       "    <tr style=\"text-align: right;\">\n",
       "      <th></th>\n",
       "      <th>reviewText</th>\n",
       "      <th>field</th>\n",
       "    </tr>\n",
       "  </thead>\n",
       "  <tbody>\n",
       "    <tr>\n",
       "      <th>1522</th>\n",
       "      <td>First the pros - it's very a compact hose with...</td>\n",
       "      <td>PATIO</td>\n",
       "    </tr>\n",
       "    <tr>\n",
       "      <th>835</th>\n",
       "      <td>I have a well established bird feeding hobby a...</td>\n",
       "      <td>PATIO</td>\n",
       "    </tr>\n",
       "    <tr>\n",
       "      <th>358</th>\n",
       "      <td>I had not previously read this author but hear...</td>\n",
       "      <td>BOOKS</td>\n",
       "    </tr>\n",
       "    <tr>\n",
       "      <th>138</th>\n",
       "      <td>Amazon has a good price for the variety pack, ...</td>\n",
       "      <td>GROCERY</td>\n",
       "    </tr>\n",
       "    <tr>\n",
       "      <th>299</th>\n",
       "      <td>Man I hit the Jack pot  I have a lot of peanut...</td>\n",
       "      <td>GROCERY</td>\n",
       "    </tr>\n",
       "    <tr>\n",
       "      <th>...</th>\n",
       "      <td>...</td>\n",
       "      <td>...</td>\n",
       "    </tr>\n",
       "    <tr>\n",
       "      <th>4426</th>\n",
       "      <td>I get these for my class store. The students l...</td>\n",
       "      <td>GROCERY</td>\n",
       "    </tr>\n",
       "    <tr>\n",
       "      <th>466</th>\n",
       "      <td>I got this coffee for free, because who doesn'...</td>\n",
       "      <td>GROCERY</td>\n",
       "    </tr>\n",
       "    <tr>\n",
       "      <th>3092</th>\n",
       "      <td>The third story in the Lux Series follows suit...</td>\n",
       "      <td>BOOKS</td>\n",
       "    </tr>\n",
       "    <tr>\n",
       "      <th>3772</th>\n",
       "      <td>For commercial spaces, like warehouses, these ...</td>\n",
       "      <td>PATIO</td>\n",
       "    </tr>\n",
       "    <tr>\n",
       "      <th>860</th>\n",
       "      <td>great for using to adjust or remove meat from ...</td>\n",
       "      <td>PATIO</td>\n",
       "    </tr>\n",
       "  </tbody>\n",
       "</table>\n",
       "<p>3350 rows × 2 columns</p>\n",
       "</div>"
      ],
      "text/plain": [
       "                                             reviewText    field\n",
       "1522  First the pros - it's very a compact hose with...    PATIO\n",
       "835   I have a well established bird feeding hobby a...    PATIO\n",
       "358   I had not previously read this author but hear...    BOOKS\n",
       "138   Amazon has a good price for the variety pack, ...  GROCERY\n",
       "299   Man I hit the Jack pot  I have a lot of peanut...  GROCERY\n",
       "...                                                 ...      ...\n",
       "4426  I get these for my class store. The students l...  GROCERY\n",
       "466   I got this coffee for free, because who doesn'...  GROCERY\n",
       "3092  The third story in the Lux Series follows suit...    BOOKS\n",
       "3772  For commercial spaces, like warehouses, these ...    PATIO\n",
       "860   great for using to adjust or remove meat from ...    PATIO\n",
       "\n",
       "[3350 rows x 2 columns]"
      ]
     },
     "execution_count": 8,
     "metadata": {},
     "output_type": "execute_result"
    }
   ],
   "source": [
    "train # (67% del dataframe viene utilizzato per allenare il modello)"
   ]
  },
  {
   "cell_type": "code",
   "execution_count": 9,
   "id": "3658ad11",
   "metadata": {},
   "outputs": [
    {
     "data": {
      "text/html": [
       "<div>\n",
       "<style scoped>\n",
       "    .dataframe tbody tr th:only-of-type {\n",
       "        vertical-align: middle;\n",
       "    }\n",
       "\n",
       "    .dataframe tbody tr th {\n",
       "        vertical-align: top;\n",
       "    }\n",
       "\n",
       "    .dataframe thead th {\n",
       "        text-align: right;\n",
       "    }\n",
       "</style>\n",
       "<table border=\"1\" class=\"dataframe\">\n",
       "  <thead>\n",
       "    <tr style=\"text-align: right;\">\n",
       "      <th></th>\n",
       "      <th>reviewText</th>\n",
       "      <th>field</th>\n",
       "    </tr>\n",
       "  </thead>\n",
       "  <tbody>\n",
       "    <tr>\n",
       "      <th>1501</th>\n",
       "      <td>I bought this to help keep me cool in summer. ...</td>\n",
       "      <td>CLOTHING</td>\n",
       "    </tr>\n",
       "    <tr>\n",
       "      <th>2586</th>\n",
       "      <td>Perhaps these are included to convince us that...</td>\n",
       "      <td>GROCERY</td>\n",
       "    </tr>\n",
       "    <tr>\n",
       "      <th>2653</th>\n",
       "      <td>Have looked all over for this product.  Is har...</td>\n",
       "      <td>GROCERY</td>\n",
       "    </tr>\n",
       "    <tr>\n",
       "      <th>1055</th>\n",
       "      <td>Garden safe take root rooting hormone is an ex...</td>\n",
       "      <td>PATIO</td>\n",
       "    </tr>\n",
       "    <tr>\n",
       "      <th>705</th>\n",
       "      <td>Just when it was getting excited when a book h...</td>\n",
       "      <td>BOOKS</td>\n",
       "    </tr>\n",
       "    <tr>\n",
       "      <th>...</th>\n",
       "      <td>...</td>\n",
       "      <td>...</td>\n",
       "    </tr>\n",
       "    <tr>\n",
       "      <th>908</th>\n",
       "      <td>I don't game very much, but coming from a regu...</td>\n",
       "      <td>ELECTRONICS</td>\n",
       "    </tr>\n",
       "    <tr>\n",
       "      <th>2114</th>\n",
       "      <td>I got these for my husband that wears big and ...</td>\n",
       "      <td>CLOTHING</td>\n",
       "    </tr>\n",
       "    <tr>\n",
       "      <th>3896</th>\n",
       "      <td>This was another very good book in the series....</td>\n",
       "      <td>BOOKS</td>\n",
       "    </tr>\n",
       "    <tr>\n",
       "      <th>1627</th>\n",
       "      <td>I am quite pleased with this little backpack. ...</td>\n",
       "      <td>CLOTHING</td>\n",
       "    </tr>\n",
       "    <tr>\n",
       "      <th>2873</th>\n",
       "      <td>I have a Samsung Smart TV, and Netflix.  I wou...</td>\n",
       "      <td>ELECTRONICS</td>\n",
       "    </tr>\n",
       "  </tbody>\n",
       "</table>\n",
       "<p>1650 rows × 2 columns</p>\n",
       "</div>"
      ],
      "text/plain": [
       "                                             reviewText        field\n",
       "1501  I bought this to help keep me cool in summer. ...     CLOTHING\n",
       "2586  Perhaps these are included to convince us that...      GROCERY\n",
       "2653  Have looked all over for this product.  Is har...      GROCERY\n",
       "1055  Garden safe take root rooting hormone is an ex...        PATIO\n",
       "705   Just when it was getting excited when a book h...        BOOKS\n",
       "...                                                 ...          ...\n",
       "908   I don't game very much, but coming from a regu...  ELECTRONICS\n",
       "2114  I got these for my husband that wears big and ...     CLOTHING\n",
       "3896  This was another very good book in the series....        BOOKS\n",
       "1627  I am quite pleased with this little backpack. ...     CLOTHING\n",
       "2873  I have a Samsung Smart TV, and Netflix.  I wou...  ELECTRONICS\n",
       "\n",
       "[1650 rows x 2 columns]"
      ]
     },
     "execution_count": 9,
     "metadata": {},
     "output_type": "execute_result"
    }
   ],
   "source": [
    "test  # (33% del dataframe viene utilizzato per allenare il modello)"
   ]
  },
  {
   "cell_type": "markdown",
   "id": "aefcbdbd",
   "metadata": {},
   "source": [
    "## <span style='background :yellow'>Split in features e label"
   ]
  },
  {
   "cell_type": "code",
   "execution_count": 10,
   "id": "ddf7aee0",
   "metadata": {},
   "outputs": [],
   "source": [
    "X_train = train['reviewText'] # feature\n",
    "y_train = train['field'] # label\n",
    "\n",
    "X_test = test['reviewText'] # feature\n",
    "y_test = test['field'] # label"
   ]
  },
  {
   "cell_type": "markdown",
   "id": "fe2a1522",
   "metadata": {},
   "source": [
    "## <span style='background :yellow'>Creazione delle bag of words"
   ]
  },
  {
   "cell_type": "code",
   "execution_count": 11,
   "id": "96a237fc",
   "metadata": {},
   "outputs": [],
   "source": [
    "# Da ricerca su internet TF-IDF risulta molto migliore in quanto non si focalizza soltanto sulla frequenza delle parole\n",
    "# presenti ma attribuisce anche una certa importanza ad esse\n",
    "\n",
    "from sklearn.feature_extraction.text import CountVectorizer\n",
    "from sklearn.feature_extraction.text import TfidfVectorizer\n",
    "\n",
    "#vectorizer = CountVectorizer()\n",
    "vectorizer = TfidfVectorizer()\n",
    "\n",
    "X_train_counts = vectorizer.fit_transform(X_train) # fit e trasformazione\n",
    "X_test_counts = vectorizer.transform(X_test) # fit è già stato eseguito, si procede soltanto alla trasformazione\n",
    "\n",
    "# uguale a sopra ma con due step \n",
    "# vectorizer.fit(X)\n",
    "# X_train_counts = vectorizer.transform(X_train)"
   ]
  },
  {
   "cell_type": "code",
   "execution_count": 12,
   "id": "88629bdb",
   "metadata": {},
   "outputs": [
    {
     "data": {
      "text/plain": [
       "array(['00', '000', '00am', ..., 'zoysia', 'zuiko', 'zurich'],\n",
       "      dtype=object)"
      ]
     },
     "execution_count": 12,
     "metadata": {},
     "output_type": "execute_result"
    }
   ],
   "source": [
    "vectorizer.get_feature_names_out() # tutte le parole che vengono considerate"
   ]
  },
  {
   "cell_type": "code",
   "execution_count": 13,
   "id": "22cc38ec",
   "metadata": {
    "scrolled": true
   },
   "outputs": [
    {
     "data": {
      "text/plain": [
       "(3350, 16591)"
      ]
     },
     "execution_count": 13,
     "metadata": {},
     "output_type": "execute_result"
    }
   ],
   "source": [
    "X_train_counts.shape # come ci si aspetta la variabile è una matrice di 872 righe e 8906 colonne (che sono le parole considerate)"
   ]
  },
  {
   "cell_type": "code",
   "execution_count": 14,
   "id": "1a0f62b4",
   "metadata": {
    "scrolled": false
   },
   "outputs": [
    {
     "name": "stdout",
     "output_type": "stream",
     "text": [
      "First the pros - it's very a compact hose with a small footprint when dry/collapsed, the brass fittings seem to be sturdy and connected easily to my house and it's lightweight/easy to move around. For the cons - you need to follow the directions for it to work properly, the water pressure is disappointing and it is rather fragile when compared to a 'normal' hose. I've found it's better for watering plants and washing the car rather than for running a sprinkler or connecting to the pressure washer. Overall, I can see the promise in the idea but most of our water usage outside requires a bit more ooomph, so I see us sticking with a more traditional hose for now.\n"
     ]
    },
    {
     "data": {
      "text/plain": [
       "array([[0., 0., 0., ..., 0., 0., 0.]])"
      ]
     },
     "execution_count": 14,
     "metadata": {},
     "output_type": "execute_result"
    }
   ],
   "source": [
    "print(X_train.iloc[0]) # prima riga della variabile X_train_counts\n",
    "X_train_counts[0].toarray() # conversione della riga sopra in parole con relativo valore assegnato"
   ]
  },
  {
   "cell_type": "markdown",
   "id": "86aa0ed5",
   "metadata": {},
   "source": [
    "## <span style='background :yellow'>Modelli"
   ]
  },
  {
   "cell_type": "markdown",
   "id": "362e691b",
   "metadata": {},
   "source": [
    "### <span style='background :yellow'>Linear SVM"
   ]
  },
  {
   "cell_type": "code",
   "execution_count": 15,
   "id": "635f10f7",
   "metadata": {
    "scrolled": true
   },
   "outputs": [],
   "source": [
    "from sklearn.svm import SVC"
   ]
  },
  {
   "cell_type": "code",
   "execution_count": 16,
   "id": "4b284c35",
   "metadata": {},
   "outputs": [],
   "source": [
    "model_SVM = SVC(kernel='linear')\n",
    "model_SVM.fit(X_train_counts,y_train)\n",
    "\n",
    "predictions_SVM = model_SVM.predict(X_test_counts)"
   ]
  },
  {
   "cell_type": "markdown",
   "id": "db133185",
   "metadata": {},
   "source": [
    "### <span style='background :yellow'>Decision tree"
   ]
  },
  {
   "cell_type": "code",
   "execution_count": 17,
   "id": "193dd064",
   "metadata": {
    "scrolled": true
   },
   "outputs": [],
   "source": [
    "from sklearn.tree import DecisionTreeClassifier"
   ]
  },
  {
   "cell_type": "code",
   "execution_count": 18,
   "id": "c0b752b6",
   "metadata": {},
   "outputs": [],
   "source": [
    "model_DecisionTreeClassifier = DecisionTreeClassifier()\n",
    "model_DecisionTreeClassifier.fit(X_train_counts,y_train)\n",
    "\n",
    "predictions_DecisionTreeClassifier = model_DecisionTreeClassifier.predict(X_test_counts)"
   ]
  },
  {
   "cell_type": "markdown",
   "id": "164edf6b",
   "metadata": {},
   "source": [
    "### <span style='background :yellow'>Naive Bayes"
   ]
  },
  {
   "cell_type": "code",
   "execution_count": 19,
   "id": "9b37c090",
   "metadata": {
    "scrolled": true
   },
   "outputs": [],
   "source": [
    "from sklearn.naive_bayes import GaussianNB"
   ]
  },
  {
   "cell_type": "code",
   "execution_count": 20,
   "id": "fa34c954",
   "metadata": {},
   "outputs": [],
   "source": [
    "model_GaussianNB = GaussianNB()\n",
    "model_GaussianNB.fit(X_train_counts.toarray(),y_train)\n",
    "\n",
    "predictions_GaussianNB = model_GaussianNB.predict(X_test_counts.toarray())"
   ]
  },
  {
   "cell_type": "markdown",
   "id": "b6d1384e",
   "metadata": {},
   "source": [
    "### <span style='background :yellow'>Logistic regression"
   ]
  },
  {
   "cell_type": "code",
   "execution_count": 21,
   "id": "cb1509ed",
   "metadata": {
    "scrolled": true
   },
   "outputs": [],
   "source": [
    "from sklearn.linear_model import LogisticRegression"
   ]
  },
  {
   "cell_type": "code",
   "execution_count": 22,
   "id": "0a4db783",
   "metadata": {},
   "outputs": [],
   "source": [
    "model_LogisticRegression = LogisticRegression()\n",
    "model_LogisticRegression.fit(X_train_counts,y_train)\n",
    "\n",
    "predictions_LogisticRegression = model_LogisticRegression.predict(X_test_counts)"
   ]
  },
  {
   "cell_type": "markdown",
   "id": "19feaac8",
   "metadata": {},
   "source": [
    "## <span style='background :yellow'>Valutazione dei modelli"
   ]
  },
  {
   "cell_type": "code",
   "execution_count": 23,
   "id": "4c12d87d",
   "metadata": {},
   "outputs": [],
   "source": [
    "from sklearn.metrics import accuracy_score\n",
    "from sklearn.metrics import f1_score"
   ]
  },
  {
   "cell_type": "markdown",
   "id": "b583134c",
   "metadata": {},
   "source": [
    "### <span style='background :yellow'>Score"
   ]
  },
  {
   "cell_type": "code",
   "execution_count": 24,
   "id": "4a4916a6",
   "metadata": {},
   "outputs": [
    {
     "name": "stdout",
     "output_type": "stream",
     "text": [
      "score_SVM: 0.9315151515151515\n",
      "score_DecisionTreeClassifier: 0.686060606060606\n",
      "score_GaussianNB: 0.8103030303030303\n",
      "score_LogisticRegression: 0.926060606060606\n"
     ]
    }
   ],
   "source": [
    "score_SVM = accuracy_score(y_test, predictions_SVM) # valutazione accuratezza\n",
    "score_DecisionTreeClassifier = accuracy_score(y_test, predictions_DecisionTreeClassifier) # valutazione accuratezza\n",
    "score_GaussianNB = accuracy_score(y_test, predictions_GaussianNB) # valutazione accuratezza\n",
    "score_LogisticRegression = accuracy_score(y_test, predictions_LogisticRegression) # valutazione accuratezza\n",
    "\n",
    "print(f'score_SVM: {score_SVM}')\n",
    "print(f'score_DecisionTreeClassifier: {score_DecisionTreeClassifier}')\n",
    "print(f'score_GaussianNB: {score_GaussianNB}')\n",
    "print(f'score_LogisticRegression: {score_LogisticRegression}')"
   ]
  },
  {
   "cell_type": "markdown",
   "id": "d5c25065",
   "metadata": {},
   "source": [
    "### <span style='background :yellow'>F1 score"
   ]
  },
  {
   "cell_type": "code",
   "execution_count": 25,
   "id": "3d129053",
   "metadata": {},
   "outputs": [
    {
     "name": "stdout",
     "output_type": "stream",
     "text": [
      "f1 score_SVM: [0.96130952 0.92571429 0.89985052 0.94339623 0.92776886]\n",
      "f1 score_DecisionTreeClassifier: [0.87240356 0.6975398  0.5356623  0.7        0.62654321]\n",
      "f1 score_GaussianNB: [0.84992571 0.74433657 0.80601504 0.85950413 0.79296346]\n",
      "f1 score_LogisticRegression: [0.96263079 0.92285714 0.8962406  0.94285714 0.90566038]\n"
     ]
    }
   ],
   "source": [
    "f1_score_SVM = f1_score(y_test, predictions_SVM, average=None, labels=['BOOKS','CLOTHING','ELECTRONICS','GROCERY','PATIO']) # valutazione accuratezza\n",
    "f1_score_DecisionTreeClassifier = f1_score(y_test, predictions_DecisionTreeClassifier, average=None, labels=['BOOKS','CLOTHING','ELECTRONICS','GROCERY','PATIO']) # valutazione accuratezza\n",
    "f1_score_GaussianNB = f1_score(y_test, predictions_GaussianNB, average=None, labels=['BOOKS','CLOTHING','ELECTRONICS','GROCERY','PATIO']) # valutazione accuratezza\n",
    "f1_score_LogisticRegression = f1_score(y_test, predictions_LogisticRegression, average=None, labels=['BOOKS','CLOTHING','ELECTRONICS','GROCERY','PATIO']) # valutazione accuratezza\n",
    "\n",
    "print(f'f1 score_SVM: {f1_score_SVM}')\n",
    "print(f'f1 score_DecisionTreeClassifier: {f1_score_DecisionTreeClassifier}')\n",
    "print(f'f1 score_GaussianNB: {f1_score_GaussianNB}')\n",
    "print(f'f1 score_LogisticRegression: {f1_score_LogisticRegression}')"
   ]
  },
  {
   "cell_type": "markdown",
   "id": "03c79fc3",
   "metadata": {},
   "source": [
    "## <span style='background :yellow'>Test"
   ]
  },
  {
   "cell_type": "code",
   "execution_count": 26,
   "id": "8796edb7",
   "metadata": {
    "scrolled": false
   },
   "outputs": [
    {
     "data": {
      "text/plain": [
       "array(['ELECTRONICS', 'BOOKS', 'GROCERY'], dtype=object)"
      ]
     },
     "execution_count": 26,
     "metadata": {},
     "output_type": "execute_result"
    }
   ],
   "source": [
    "X_test_set = ['Fantastic iPhone', 'bad book do not buy', 'This bread was very delicious']\n",
    "X_test_set_count = vectorizer.transform(X_test_set)\n",
    "\n",
    "model_SVM.predict(X_test_set_count)"
   ]
  },
  {
   "cell_type": "markdown",
   "id": "bae7438f",
   "metadata": {},
   "source": [
    "## <span style='background :yellow'>Tuning del modello tramite GridSearchCV"
   ]
  },
  {
   "cell_type": "code",
   "execution_count": 27,
   "id": "63422e78",
   "metadata": {},
   "outputs": [],
   "source": [
    "from sklearn.model_selection import GridSearchCV"
   ]
  },
  {
   "cell_type": "markdown",
   "id": "faecfd5d",
   "metadata": {},
   "source": [
    "### <span style='background :yellow'>Linear SVM"
   ]
  },
  {
   "cell_type": "code",
   "execution_count": 28,
   "id": "46b76642",
   "metadata": {},
   "outputs": [
    {
     "data": {
      "text/html": [
       "<style>#sk-container-id-1 {color: black;background-color: white;}#sk-container-id-1 pre{padding: 0;}#sk-container-id-1 div.sk-toggleable {background-color: white;}#sk-container-id-1 label.sk-toggleable__label {cursor: pointer;display: block;width: 100%;margin-bottom: 0;padding: 0.3em;box-sizing: border-box;text-align: center;}#sk-container-id-1 label.sk-toggleable__label-arrow:before {content: \"▸\";float: left;margin-right: 0.25em;color: #696969;}#sk-container-id-1 label.sk-toggleable__label-arrow:hover:before {color: black;}#sk-container-id-1 div.sk-estimator:hover label.sk-toggleable__label-arrow:before {color: black;}#sk-container-id-1 div.sk-toggleable__content {max-height: 0;max-width: 0;overflow: hidden;text-align: left;background-color: #f0f8ff;}#sk-container-id-1 div.sk-toggleable__content pre {margin: 0.2em;color: black;border-radius: 0.25em;background-color: #f0f8ff;}#sk-container-id-1 input.sk-toggleable__control:checked~div.sk-toggleable__content {max-height: 200px;max-width: 100%;overflow: auto;}#sk-container-id-1 input.sk-toggleable__control:checked~label.sk-toggleable__label-arrow:before {content: \"▾\";}#sk-container-id-1 div.sk-estimator input.sk-toggleable__control:checked~label.sk-toggleable__label {background-color: #d4ebff;}#sk-container-id-1 div.sk-label input.sk-toggleable__control:checked~label.sk-toggleable__label {background-color: #d4ebff;}#sk-container-id-1 input.sk-hidden--visually {border: 0;clip: rect(1px 1px 1px 1px);clip: rect(1px, 1px, 1px, 1px);height: 1px;margin: -1px;overflow: hidden;padding: 0;position: absolute;width: 1px;}#sk-container-id-1 div.sk-estimator {font-family: monospace;background-color: #f0f8ff;border: 1px dotted black;border-radius: 0.25em;box-sizing: border-box;margin-bottom: 0.5em;}#sk-container-id-1 div.sk-estimator:hover {background-color: #d4ebff;}#sk-container-id-1 div.sk-parallel-item::after {content: \"\";width: 100%;border-bottom: 1px solid gray;flex-grow: 1;}#sk-container-id-1 div.sk-label:hover label.sk-toggleable__label {background-color: #d4ebff;}#sk-container-id-1 div.sk-serial::before {content: \"\";position: absolute;border-left: 1px solid gray;box-sizing: border-box;top: 0;bottom: 0;left: 50%;z-index: 0;}#sk-container-id-1 div.sk-serial {display: flex;flex-direction: column;align-items: center;background-color: white;padding-right: 0.2em;padding-left: 0.2em;position: relative;}#sk-container-id-1 div.sk-item {position: relative;z-index: 1;}#sk-container-id-1 div.sk-parallel {display: flex;align-items: stretch;justify-content: center;background-color: white;position: relative;}#sk-container-id-1 div.sk-item::before, #sk-container-id-1 div.sk-parallel-item::before {content: \"\";position: absolute;border-left: 1px solid gray;box-sizing: border-box;top: 0;bottom: 0;left: 50%;z-index: -1;}#sk-container-id-1 div.sk-parallel-item {display: flex;flex-direction: column;z-index: 1;position: relative;background-color: white;}#sk-container-id-1 div.sk-parallel-item:first-child::after {align-self: flex-end;width: 50%;}#sk-container-id-1 div.sk-parallel-item:last-child::after {align-self: flex-start;width: 50%;}#sk-container-id-1 div.sk-parallel-item:only-child::after {width: 0;}#sk-container-id-1 div.sk-dashed-wrapped {border: 1px dashed gray;margin: 0 0.4em 0.5em 0.4em;box-sizing: border-box;padding-bottom: 0.4em;background-color: white;}#sk-container-id-1 div.sk-label label {font-family: monospace;font-weight: bold;display: inline-block;line-height: 1.2em;}#sk-container-id-1 div.sk-label-container {text-align: center;}#sk-container-id-1 div.sk-container {/* jupyter's `normalize.less` sets `[hidden] { display: none; }` but bootstrap.min.css set `[hidden] { display: none !important; }` so we also need the `!important` here to be able to override the default hidden behavior on the sphinx rendered scikit-learn.org. See: https://github.com/scikit-learn/scikit-learn/issues/21755 */display: inline-block !important;position: relative;}#sk-container-id-1 div.sk-text-repr-fallback {display: none;}</style><div id=\"sk-container-id-1\" class=\"sk-top-container\"><div class=\"sk-text-repr-fallback\"><pre>GridSearchCV(cv=5, estimator=SVC(),\n",
       "             param_grid={&#x27;C&#x27;: (1, 2, 4, 8, 16, 32),\n",
       "                         &#x27;kernel&#x27;: (&#x27;linear&#x27;, &#x27;rbf&#x27;, &#x27;sigmoid&#x27;)})</pre><b>In a Jupyter environment, please rerun this cell to show the HTML representation or trust the notebook. <br />On GitHub, the HTML representation is unable to render, please try loading this page with nbviewer.org.</b></div><div class=\"sk-container\" hidden><div class=\"sk-item sk-dashed-wrapped\"><div class=\"sk-label-container\"><div class=\"sk-label sk-toggleable\"><input class=\"sk-toggleable__control sk-hidden--visually\" id=\"sk-estimator-id-1\" type=\"checkbox\" ><label for=\"sk-estimator-id-1\" class=\"sk-toggleable__label sk-toggleable__label-arrow\">GridSearchCV</label><div class=\"sk-toggleable__content\"><pre>GridSearchCV(cv=5, estimator=SVC(),\n",
       "             param_grid={&#x27;C&#x27;: (1, 2, 4, 8, 16, 32),\n",
       "                         &#x27;kernel&#x27;: (&#x27;linear&#x27;, &#x27;rbf&#x27;, &#x27;sigmoid&#x27;)})</pre></div></div></div><div class=\"sk-parallel\"><div class=\"sk-parallel-item\"><div class=\"sk-item\"><div class=\"sk-label-container\"><div class=\"sk-label sk-toggleable\"><input class=\"sk-toggleable__control sk-hidden--visually\" id=\"sk-estimator-id-2\" type=\"checkbox\" ><label for=\"sk-estimator-id-2\" class=\"sk-toggleable__label sk-toggleable__label-arrow\">estimator: SVC</label><div class=\"sk-toggleable__content\"><pre>SVC()</pre></div></div></div><div class=\"sk-serial\"><div class=\"sk-item\"><div class=\"sk-estimator sk-toggleable\"><input class=\"sk-toggleable__control sk-hidden--visually\" id=\"sk-estimator-id-3\" type=\"checkbox\" ><label for=\"sk-estimator-id-3\" class=\"sk-toggleable__label sk-toggleable__label-arrow\">SVC</label><div class=\"sk-toggleable__content\"><pre>SVC()</pre></div></div></div></div></div></div></div></div></div></div>"
      ],
      "text/plain": [
       "GridSearchCV(cv=5, estimator=SVC(),\n",
       "             param_grid={'C': (1, 2, 4, 8, 16, 32),\n",
       "                         'kernel': ('linear', 'rbf', 'sigmoid')})"
      ]
     },
     "execution_count": 28,
     "metadata": {},
     "output_type": "execute_result"
    }
   ],
   "source": [
    "model_SVM_parameters = {'C': (1,2,4,8,16,32), 'kernel': ('linear','rbf','sigmoid')}\n",
    "\n",
    "model_SVM = SVC()\n",
    "gridSearch = GridSearchCV(model_SVM, model_SVM_parameters, cv = 5)\n",
    "gridSearch.fit(X_train_counts, y_train)"
   ]
  },
  {
   "cell_type": "code",
   "execution_count": 29,
   "id": "d8fff611",
   "metadata": {
    "scrolled": true
   },
   "outputs": [
    {
     "data": {
      "text/html": [
       "<div>\n",
       "<style scoped>\n",
       "    .dataframe tbody tr th:only-of-type {\n",
       "        vertical-align: middle;\n",
       "    }\n",
       "\n",
       "    .dataframe tbody tr th {\n",
       "        vertical-align: top;\n",
       "    }\n",
       "\n",
       "    .dataframe thead th {\n",
       "        text-align: right;\n",
       "    }\n",
       "</style>\n",
       "<table border=\"1\" class=\"dataframe\">\n",
       "  <thead>\n",
       "    <tr style=\"text-align: right;\">\n",
       "      <th></th>\n",
       "      <th>mean_fit_time</th>\n",
       "      <th>std_fit_time</th>\n",
       "      <th>mean_score_time</th>\n",
       "      <th>std_score_time</th>\n",
       "      <th>param_C</th>\n",
       "      <th>param_kernel</th>\n",
       "      <th>params</th>\n",
       "      <th>split0_test_score</th>\n",
       "      <th>split1_test_score</th>\n",
       "      <th>split2_test_score</th>\n",
       "      <th>split3_test_score</th>\n",
       "      <th>split4_test_score</th>\n",
       "      <th>mean_test_score</th>\n",
       "      <th>std_test_score</th>\n",
       "      <th>rank_test_score</th>\n",
       "    </tr>\n",
       "  </thead>\n",
       "  <tbody>\n",
       "    <tr>\n",
       "      <th>0</th>\n",
       "      <td>3.170687</td>\n",
       "      <td>0.088211</td>\n",
       "      <td>0.607606</td>\n",
       "      <td>0.020882</td>\n",
       "      <td>1</td>\n",
       "      <td>linear</td>\n",
       "      <td>{'C': 1, 'kernel': 'linear'}</td>\n",
       "      <td>0.916418</td>\n",
       "      <td>0.905970</td>\n",
       "      <td>0.922388</td>\n",
       "      <td>0.911940</td>\n",
       "      <td>0.907463</td>\n",
       "      <td>0.912836</td>\n",
       "      <td>0.006015</td>\n",
       "      <td>1</td>\n",
       "    </tr>\n",
       "    <tr>\n",
       "      <th>2</th>\n",
       "      <td>2.706063</td>\n",
       "      <td>0.011691</td>\n",
       "      <td>0.562455</td>\n",
       "      <td>0.000011</td>\n",
       "      <td>1</td>\n",
       "      <td>sigmoid</td>\n",
       "      <td>{'C': 1, 'kernel': 'sigmoid'}</td>\n",
       "      <td>0.913433</td>\n",
       "      <td>0.905970</td>\n",
       "      <td>0.922388</td>\n",
       "      <td>0.911940</td>\n",
       "      <td>0.905970</td>\n",
       "      <td>0.911940</td>\n",
       "      <td>0.006044</td>\n",
       "      <td>2</td>\n",
       "    </tr>\n",
       "    <tr>\n",
       "      <th>6</th>\n",
       "      <td>3.893470</td>\n",
       "      <td>0.020727</td>\n",
       "      <td>0.596841</td>\n",
       "      <td>0.011687</td>\n",
       "      <td>4</td>\n",
       "      <td>linear</td>\n",
       "      <td>{'C': 4, 'kernel': 'linear'}</td>\n",
       "      <td>0.917910</td>\n",
       "      <td>0.902985</td>\n",
       "      <td>0.920896</td>\n",
       "      <td>0.901493</td>\n",
       "      <td>0.910448</td>\n",
       "      <td>0.910746</td>\n",
       "      <td>0.007750</td>\n",
       "      <td>3</td>\n",
       "    </tr>\n",
       "    <tr>\n",
       "      <th>4</th>\n",
       "      <td>5.279498</td>\n",
       "      <td>0.013168</td>\n",
       "      <td>0.742704</td>\n",
       "      <td>0.010788</td>\n",
       "      <td>2</td>\n",
       "      <td>rbf</td>\n",
       "      <td>{'C': 2, 'kernel': 'rbf'}</td>\n",
       "      <td>0.908955</td>\n",
       "      <td>0.901493</td>\n",
       "      <td>0.923881</td>\n",
       "      <td>0.911940</td>\n",
       "      <td>0.901493</td>\n",
       "      <td>0.909552</td>\n",
       "      <td>0.008262</td>\n",
       "      <td>4</td>\n",
       "    </tr>\n",
       "    <tr>\n",
       "      <th>5</th>\n",
       "      <td>2.493113</td>\n",
       "      <td>0.027425</td>\n",
       "      <td>0.534340</td>\n",
       "      <td>0.006258</td>\n",
       "      <td>2</td>\n",
       "      <td>sigmoid</td>\n",
       "      <td>{'C': 2, 'kernel': 'sigmoid'}</td>\n",
       "      <td>0.916418</td>\n",
       "      <td>0.897015</td>\n",
       "      <td>0.923881</td>\n",
       "      <td>0.901493</td>\n",
       "      <td>0.908955</td>\n",
       "      <td>0.909552</td>\n",
       "      <td>0.009746</td>\n",
       "      <td>4</td>\n",
       "    </tr>\n",
       "  </tbody>\n",
       "</table>\n",
       "</div>"
      ],
      "text/plain": [
       "   mean_fit_time  std_fit_time  mean_score_time  std_score_time param_C  \\\n",
       "0       3.170687      0.088211         0.607606        0.020882       1   \n",
       "2       2.706063      0.011691         0.562455        0.000011       1   \n",
       "6       3.893470      0.020727         0.596841        0.011687       4   \n",
       "4       5.279498      0.013168         0.742704        0.010788       2   \n",
       "5       2.493113      0.027425         0.534340        0.006258       2   \n",
       "\n",
       "  param_kernel                         params  split0_test_score  \\\n",
       "0       linear   {'C': 1, 'kernel': 'linear'}           0.916418   \n",
       "2      sigmoid  {'C': 1, 'kernel': 'sigmoid'}           0.913433   \n",
       "6       linear   {'C': 4, 'kernel': 'linear'}           0.917910   \n",
       "4          rbf      {'C': 2, 'kernel': 'rbf'}           0.908955   \n",
       "5      sigmoid  {'C': 2, 'kernel': 'sigmoid'}           0.916418   \n",
       "\n",
       "   split1_test_score  split2_test_score  split3_test_score  split4_test_score  \\\n",
       "0           0.905970           0.922388           0.911940           0.907463   \n",
       "2           0.905970           0.922388           0.911940           0.905970   \n",
       "6           0.902985           0.920896           0.901493           0.910448   \n",
       "4           0.901493           0.923881           0.911940           0.901493   \n",
       "5           0.897015           0.923881           0.901493           0.908955   \n",
       "\n",
       "   mean_test_score  std_test_score  rank_test_score  \n",
       "0         0.912836        0.006015                1  \n",
       "2         0.911940        0.006044                2  \n",
       "6         0.910746        0.007750                3  \n",
       "4         0.909552        0.008262                4  \n",
       "5         0.909552        0.009746                4  "
      ]
     },
     "execution_count": 29,
     "metadata": {},
     "output_type": "execute_result"
    }
   ],
   "source": [
    "pd.DataFrame(gridSearch.cv_results_).sort_values('rank_test_score').head() # ordino da migliore a peggiore e visualizzo i primi 5"
   ]
  },
  {
   "cell_type": "markdown",
   "id": "a039708a",
   "metadata": {},
   "source": [
    "Per quanto riguarda il modello SVM, performa al meglio con **C = 1** e **kernel = linear**"
   ]
  },
  {
   "cell_type": "markdown",
   "id": "c60540de",
   "metadata": {},
   "source": [
    "### <span style='background :yellow'>Decision tree"
   ]
  },
  {
   "cell_type": "code",
   "execution_count": 30,
   "id": "1abf298e",
   "metadata": {},
   "outputs": [
    {
     "data": {
      "text/html": [
       "<style>#sk-container-id-2 {color: black;background-color: white;}#sk-container-id-2 pre{padding: 0;}#sk-container-id-2 div.sk-toggleable {background-color: white;}#sk-container-id-2 label.sk-toggleable__label {cursor: pointer;display: block;width: 100%;margin-bottom: 0;padding: 0.3em;box-sizing: border-box;text-align: center;}#sk-container-id-2 label.sk-toggleable__label-arrow:before {content: \"▸\";float: left;margin-right: 0.25em;color: #696969;}#sk-container-id-2 label.sk-toggleable__label-arrow:hover:before {color: black;}#sk-container-id-2 div.sk-estimator:hover label.sk-toggleable__label-arrow:before {color: black;}#sk-container-id-2 div.sk-toggleable__content {max-height: 0;max-width: 0;overflow: hidden;text-align: left;background-color: #f0f8ff;}#sk-container-id-2 div.sk-toggleable__content pre {margin: 0.2em;color: black;border-radius: 0.25em;background-color: #f0f8ff;}#sk-container-id-2 input.sk-toggleable__control:checked~div.sk-toggleable__content {max-height: 200px;max-width: 100%;overflow: auto;}#sk-container-id-2 input.sk-toggleable__control:checked~label.sk-toggleable__label-arrow:before {content: \"▾\";}#sk-container-id-2 div.sk-estimator input.sk-toggleable__control:checked~label.sk-toggleable__label {background-color: #d4ebff;}#sk-container-id-2 div.sk-label input.sk-toggleable__control:checked~label.sk-toggleable__label {background-color: #d4ebff;}#sk-container-id-2 input.sk-hidden--visually {border: 0;clip: rect(1px 1px 1px 1px);clip: rect(1px, 1px, 1px, 1px);height: 1px;margin: -1px;overflow: hidden;padding: 0;position: absolute;width: 1px;}#sk-container-id-2 div.sk-estimator {font-family: monospace;background-color: #f0f8ff;border: 1px dotted black;border-radius: 0.25em;box-sizing: border-box;margin-bottom: 0.5em;}#sk-container-id-2 div.sk-estimator:hover {background-color: #d4ebff;}#sk-container-id-2 div.sk-parallel-item::after {content: \"\";width: 100%;border-bottom: 1px solid gray;flex-grow: 1;}#sk-container-id-2 div.sk-label:hover label.sk-toggleable__label {background-color: #d4ebff;}#sk-container-id-2 div.sk-serial::before {content: \"\";position: absolute;border-left: 1px solid gray;box-sizing: border-box;top: 0;bottom: 0;left: 50%;z-index: 0;}#sk-container-id-2 div.sk-serial {display: flex;flex-direction: column;align-items: center;background-color: white;padding-right: 0.2em;padding-left: 0.2em;position: relative;}#sk-container-id-2 div.sk-item {position: relative;z-index: 1;}#sk-container-id-2 div.sk-parallel {display: flex;align-items: stretch;justify-content: center;background-color: white;position: relative;}#sk-container-id-2 div.sk-item::before, #sk-container-id-2 div.sk-parallel-item::before {content: \"\";position: absolute;border-left: 1px solid gray;box-sizing: border-box;top: 0;bottom: 0;left: 50%;z-index: -1;}#sk-container-id-2 div.sk-parallel-item {display: flex;flex-direction: column;z-index: 1;position: relative;background-color: white;}#sk-container-id-2 div.sk-parallel-item:first-child::after {align-self: flex-end;width: 50%;}#sk-container-id-2 div.sk-parallel-item:last-child::after {align-self: flex-start;width: 50%;}#sk-container-id-2 div.sk-parallel-item:only-child::after {width: 0;}#sk-container-id-2 div.sk-dashed-wrapped {border: 1px dashed gray;margin: 0 0.4em 0.5em 0.4em;box-sizing: border-box;padding-bottom: 0.4em;background-color: white;}#sk-container-id-2 div.sk-label label {font-family: monospace;font-weight: bold;display: inline-block;line-height: 1.2em;}#sk-container-id-2 div.sk-label-container {text-align: center;}#sk-container-id-2 div.sk-container {/* jupyter's `normalize.less` sets `[hidden] { display: none; }` but bootstrap.min.css set `[hidden] { display: none !important; }` so we also need the `!important` here to be able to override the default hidden behavior on the sphinx rendered scikit-learn.org. See: https://github.com/scikit-learn/scikit-learn/issues/21755 */display: inline-block !important;position: relative;}#sk-container-id-2 div.sk-text-repr-fallback {display: none;}</style><div id=\"sk-container-id-2\" class=\"sk-top-container\"><div class=\"sk-text-repr-fallback\"><pre>GridSearchCV(cv=5, estimator=DecisionTreeClassifier(),\n",
       "             param_grid={&#x27;criterion&#x27;: (&#x27;gini&#x27;, &#x27;entropy&#x27;, &#x27;log_loss&#x27;),\n",
       "                         &#x27;splitter&#x27;: (&#x27;best&#x27;, &#x27;random&#x27;)})</pre><b>In a Jupyter environment, please rerun this cell to show the HTML representation or trust the notebook. <br />On GitHub, the HTML representation is unable to render, please try loading this page with nbviewer.org.</b></div><div class=\"sk-container\" hidden><div class=\"sk-item sk-dashed-wrapped\"><div class=\"sk-label-container\"><div class=\"sk-label sk-toggleable\"><input class=\"sk-toggleable__control sk-hidden--visually\" id=\"sk-estimator-id-4\" type=\"checkbox\" ><label for=\"sk-estimator-id-4\" class=\"sk-toggleable__label sk-toggleable__label-arrow\">GridSearchCV</label><div class=\"sk-toggleable__content\"><pre>GridSearchCV(cv=5, estimator=DecisionTreeClassifier(),\n",
       "             param_grid={&#x27;criterion&#x27;: (&#x27;gini&#x27;, &#x27;entropy&#x27;, &#x27;log_loss&#x27;),\n",
       "                         &#x27;splitter&#x27;: (&#x27;best&#x27;, &#x27;random&#x27;)})</pre></div></div></div><div class=\"sk-parallel\"><div class=\"sk-parallel-item\"><div class=\"sk-item\"><div class=\"sk-label-container\"><div class=\"sk-label sk-toggleable\"><input class=\"sk-toggleable__control sk-hidden--visually\" id=\"sk-estimator-id-5\" type=\"checkbox\" ><label for=\"sk-estimator-id-5\" class=\"sk-toggleable__label sk-toggleable__label-arrow\">estimator: DecisionTreeClassifier</label><div class=\"sk-toggleable__content\"><pre>DecisionTreeClassifier()</pre></div></div></div><div class=\"sk-serial\"><div class=\"sk-item\"><div class=\"sk-estimator sk-toggleable\"><input class=\"sk-toggleable__control sk-hidden--visually\" id=\"sk-estimator-id-6\" type=\"checkbox\" ><label for=\"sk-estimator-id-6\" class=\"sk-toggleable__label sk-toggleable__label-arrow\">DecisionTreeClassifier</label><div class=\"sk-toggleable__content\"><pre>DecisionTreeClassifier()</pre></div></div></div></div></div></div></div></div></div></div>"
      ],
      "text/plain": [
       "GridSearchCV(cv=5, estimator=DecisionTreeClassifier(),\n",
       "             param_grid={'criterion': ('gini', 'entropy', 'log_loss'),\n",
       "                         'splitter': ('best', 'random')})"
      ]
     },
     "execution_count": 30,
     "metadata": {},
     "output_type": "execute_result"
    }
   ],
   "source": [
    "model_DecisionTreeClassifier_parameters = {'criterion': ('gini','entropy','log_loss'), 'splitter': ('best','random')}\n",
    "\n",
    "model_DecisionTreeClassifier = DecisionTreeClassifier()\n",
    "gridSearch = GridSearchCV(model_DecisionTreeClassifier, model_DecisionTreeClassifier_parameters, cv = 5)\n",
    "gridSearch.fit(X_train_counts, y_train)"
   ]
  },
  {
   "cell_type": "code",
   "execution_count": 31,
   "id": "ee408474",
   "metadata": {
    "scrolled": false
   },
   "outputs": [
    {
     "data": {
      "text/html": [
       "<div>\n",
       "<style scoped>\n",
       "    .dataframe tbody tr th:only-of-type {\n",
       "        vertical-align: middle;\n",
       "    }\n",
       "\n",
       "    .dataframe tbody tr th {\n",
       "        vertical-align: top;\n",
       "    }\n",
       "\n",
       "    .dataframe thead th {\n",
       "        text-align: right;\n",
       "    }\n",
       "</style>\n",
       "<table border=\"1\" class=\"dataframe\">\n",
       "  <thead>\n",
       "    <tr style=\"text-align: right;\">\n",
       "      <th></th>\n",
       "      <th>mean_fit_time</th>\n",
       "      <th>std_fit_time</th>\n",
       "      <th>mean_score_time</th>\n",
       "      <th>std_score_time</th>\n",
       "      <th>param_criterion</th>\n",
       "      <th>param_splitter</th>\n",
       "      <th>params</th>\n",
       "      <th>split0_test_score</th>\n",
       "      <th>split1_test_score</th>\n",
       "      <th>split2_test_score</th>\n",
       "      <th>split3_test_score</th>\n",
       "      <th>split4_test_score</th>\n",
       "      <th>mean_test_score</th>\n",
       "      <th>std_test_score</th>\n",
       "      <th>rank_test_score</th>\n",
       "    </tr>\n",
       "  </thead>\n",
       "  <tbody>\n",
       "    <tr>\n",
       "      <th>1</th>\n",
       "      <td>0.473679</td>\n",
       "      <td>0.019787</td>\n",
       "      <td>0.000000</td>\n",
       "      <td>0.000000</td>\n",
       "      <td>gini</td>\n",
       "      <td>random</td>\n",
       "      <td>{'criterion': 'gini', 'splitter': 'random'}</td>\n",
       "      <td>0.700000</td>\n",
       "      <td>0.680597</td>\n",
       "      <td>0.710448</td>\n",
       "      <td>0.679104</td>\n",
       "      <td>0.685075</td>\n",
       "      <td>0.691045</td>\n",
       "      <td>0.012199</td>\n",
       "      <td>1</td>\n",
       "    </tr>\n",
       "    <tr>\n",
       "      <th>0</th>\n",
       "      <td>0.600551</td>\n",
       "      <td>0.025209</td>\n",
       "      <td>0.000000</td>\n",
       "      <td>0.000000</td>\n",
       "      <td>gini</td>\n",
       "      <td>best</td>\n",
       "      <td>{'criterion': 'gini', 'splitter': 'best'}</td>\n",
       "      <td>0.704478</td>\n",
       "      <td>0.679104</td>\n",
       "      <td>0.656716</td>\n",
       "      <td>0.662687</td>\n",
       "      <td>0.628358</td>\n",
       "      <td>0.666269</td>\n",
       "      <td>0.025163</td>\n",
       "      <td>2</td>\n",
       "    </tr>\n",
       "    <tr>\n",
       "      <th>5</th>\n",
       "      <td>0.564346</td>\n",
       "      <td>0.010580</td>\n",
       "      <td>0.003125</td>\n",
       "      <td>0.006250</td>\n",
       "      <td>log_loss</td>\n",
       "      <td>random</td>\n",
       "      <td>{'criterion': 'log_loss', 'splitter': 'random'}</td>\n",
       "      <td>0.652239</td>\n",
       "      <td>0.637313</td>\n",
       "      <td>0.649254</td>\n",
       "      <td>0.649254</td>\n",
       "      <td>0.679104</td>\n",
       "      <td>0.653433</td>\n",
       "      <td>0.013822</td>\n",
       "      <td>3</td>\n",
       "    </tr>\n",
       "    <tr>\n",
       "      <th>3</th>\n",
       "      <td>0.565585</td>\n",
       "      <td>0.011691</td>\n",
       "      <td>0.003126</td>\n",
       "      <td>0.006251</td>\n",
       "      <td>entropy</td>\n",
       "      <td>random</td>\n",
       "      <td>{'criterion': 'entropy', 'splitter': 'random'}</td>\n",
       "      <td>0.632836</td>\n",
       "      <td>0.650746</td>\n",
       "      <td>0.610448</td>\n",
       "      <td>0.644776</td>\n",
       "      <td>0.629851</td>\n",
       "      <td>0.633731</td>\n",
       "      <td>0.013925</td>\n",
       "      <td>4</td>\n",
       "    </tr>\n",
       "    <tr>\n",
       "      <th>4</th>\n",
       "      <td>0.918689</td>\n",
       "      <td>0.020728</td>\n",
       "      <td>0.003121</td>\n",
       "      <td>0.006242</td>\n",
       "      <td>log_loss</td>\n",
       "      <td>best</td>\n",
       "      <td>{'criterion': 'log_loss', 'splitter': 'best'}</td>\n",
       "      <td>0.677612</td>\n",
       "      <td>0.588060</td>\n",
       "      <td>0.613433</td>\n",
       "      <td>0.605970</td>\n",
       "      <td>0.628358</td>\n",
       "      <td>0.622687</td>\n",
       "      <td>0.030375</td>\n",
       "      <td>5</td>\n",
       "    </tr>\n",
       "    <tr>\n",
       "      <th>2</th>\n",
       "      <td>0.918685</td>\n",
       "      <td>0.020727</td>\n",
       "      <td>0.003125</td>\n",
       "      <td>0.006251</td>\n",
       "      <td>entropy</td>\n",
       "      <td>best</td>\n",
       "      <td>{'criterion': 'entropy', 'splitter': 'best'}</td>\n",
       "      <td>0.677612</td>\n",
       "      <td>0.579104</td>\n",
       "      <td>0.608955</td>\n",
       "      <td>0.607463</td>\n",
       "      <td>0.628358</td>\n",
       "      <td>0.620299</td>\n",
       "      <td>0.032681</td>\n",
       "      <td>6</td>\n",
       "    </tr>\n",
       "  </tbody>\n",
       "</table>\n",
       "</div>"
      ],
      "text/plain": [
       "   mean_fit_time  std_fit_time  mean_score_time  std_score_time  \\\n",
       "1       0.473679      0.019787         0.000000        0.000000   \n",
       "0       0.600551      0.025209         0.000000        0.000000   \n",
       "5       0.564346      0.010580         0.003125        0.006250   \n",
       "3       0.565585      0.011691         0.003126        0.006251   \n",
       "4       0.918689      0.020728         0.003121        0.006242   \n",
       "2       0.918685      0.020727         0.003125        0.006251   \n",
       "\n",
       "  param_criterion param_splitter  \\\n",
       "1            gini         random   \n",
       "0            gini           best   \n",
       "5        log_loss         random   \n",
       "3         entropy         random   \n",
       "4        log_loss           best   \n",
       "2         entropy           best   \n",
       "\n",
       "                                            params  split0_test_score  \\\n",
       "1      {'criterion': 'gini', 'splitter': 'random'}           0.700000   \n",
       "0        {'criterion': 'gini', 'splitter': 'best'}           0.704478   \n",
       "5  {'criterion': 'log_loss', 'splitter': 'random'}           0.652239   \n",
       "3   {'criterion': 'entropy', 'splitter': 'random'}           0.632836   \n",
       "4    {'criterion': 'log_loss', 'splitter': 'best'}           0.677612   \n",
       "2     {'criterion': 'entropy', 'splitter': 'best'}           0.677612   \n",
       "\n",
       "   split1_test_score  split2_test_score  split3_test_score  split4_test_score  \\\n",
       "1           0.680597           0.710448           0.679104           0.685075   \n",
       "0           0.679104           0.656716           0.662687           0.628358   \n",
       "5           0.637313           0.649254           0.649254           0.679104   \n",
       "3           0.650746           0.610448           0.644776           0.629851   \n",
       "4           0.588060           0.613433           0.605970           0.628358   \n",
       "2           0.579104           0.608955           0.607463           0.628358   \n",
       "\n",
       "   mean_test_score  std_test_score  rank_test_score  \n",
       "1         0.691045        0.012199                1  \n",
       "0         0.666269        0.025163                2  \n",
       "5         0.653433        0.013822                3  \n",
       "3         0.633731        0.013925                4  \n",
       "4         0.622687        0.030375                5  \n",
       "2         0.620299        0.032681                6  "
      ]
     },
     "execution_count": 31,
     "metadata": {},
     "output_type": "execute_result"
    }
   ],
   "source": [
    "pd.DataFrame(gridSearch.cv_results_).sort_values('rank_test_score') # ordino da migliore a peggiore"
   ]
  },
  {
   "cell_type": "markdown",
   "id": "cd6cb79b",
   "metadata": {},
   "source": [
    "Per quanto riguarda il modello DecisionTree, performa al meglio con **criterion = gini** e **splitter = random**"
   ]
  },
  {
   "cell_type": "markdown",
   "id": "c278822e",
   "metadata": {},
   "source": [
    "### <span style='background :yellow'>Logistic regression"
   ]
  },
  {
   "cell_type": "code",
   "execution_count": 34,
   "id": "68bd9363",
   "metadata": {},
   "outputs": [
    {
     "data": {
      "text/html": [
       "<style>#sk-container-id-4 {color: black;background-color: white;}#sk-container-id-4 pre{padding: 0;}#sk-container-id-4 div.sk-toggleable {background-color: white;}#sk-container-id-4 label.sk-toggleable__label {cursor: pointer;display: block;width: 100%;margin-bottom: 0;padding: 0.3em;box-sizing: border-box;text-align: center;}#sk-container-id-4 label.sk-toggleable__label-arrow:before {content: \"▸\";float: left;margin-right: 0.25em;color: #696969;}#sk-container-id-4 label.sk-toggleable__label-arrow:hover:before {color: black;}#sk-container-id-4 div.sk-estimator:hover label.sk-toggleable__label-arrow:before {color: black;}#sk-container-id-4 div.sk-toggleable__content {max-height: 0;max-width: 0;overflow: hidden;text-align: left;background-color: #f0f8ff;}#sk-container-id-4 div.sk-toggleable__content pre {margin: 0.2em;color: black;border-radius: 0.25em;background-color: #f0f8ff;}#sk-container-id-4 input.sk-toggleable__control:checked~div.sk-toggleable__content {max-height: 200px;max-width: 100%;overflow: auto;}#sk-container-id-4 input.sk-toggleable__control:checked~label.sk-toggleable__label-arrow:before {content: \"▾\";}#sk-container-id-4 div.sk-estimator input.sk-toggleable__control:checked~label.sk-toggleable__label {background-color: #d4ebff;}#sk-container-id-4 div.sk-label input.sk-toggleable__control:checked~label.sk-toggleable__label {background-color: #d4ebff;}#sk-container-id-4 input.sk-hidden--visually {border: 0;clip: rect(1px 1px 1px 1px);clip: rect(1px, 1px, 1px, 1px);height: 1px;margin: -1px;overflow: hidden;padding: 0;position: absolute;width: 1px;}#sk-container-id-4 div.sk-estimator {font-family: monospace;background-color: #f0f8ff;border: 1px dotted black;border-radius: 0.25em;box-sizing: border-box;margin-bottom: 0.5em;}#sk-container-id-4 div.sk-estimator:hover {background-color: #d4ebff;}#sk-container-id-4 div.sk-parallel-item::after {content: \"\";width: 100%;border-bottom: 1px solid gray;flex-grow: 1;}#sk-container-id-4 div.sk-label:hover label.sk-toggleable__label {background-color: #d4ebff;}#sk-container-id-4 div.sk-serial::before {content: \"\";position: absolute;border-left: 1px solid gray;box-sizing: border-box;top: 0;bottom: 0;left: 50%;z-index: 0;}#sk-container-id-4 div.sk-serial {display: flex;flex-direction: column;align-items: center;background-color: white;padding-right: 0.2em;padding-left: 0.2em;position: relative;}#sk-container-id-4 div.sk-item {position: relative;z-index: 1;}#sk-container-id-4 div.sk-parallel {display: flex;align-items: stretch;justify-content: center;background-color: white;position: relative;}#sk-container-id-4 div.sk-item::before, #sk-container-id-4 div.sk-parallel-item::before {content: \"\";position: absolute;border-left: 1px solid gray;box-sizing: border-box;top: 0;bottom: 0;left: 50%;z-index: -1;}#sk-container-id-4 div.sk-parallel-item {display: flex;flex-direction: column;z-index: 1;position: relative;background-color: white;}#sk-container-id-4 div.sk-parallel-item:first-child::after {align-self: flex-end;width: 50%;}#sk-container-id-4 div.sk-parallel-item:last-child::after {align-self: flex-start;width: 50%;}#sk-container-id-4 div.sk-parallel-item:only-child::after {width: 0;}#sk-container-id-4 div.sk-dashed-wrapped {border: 1px dashed gray;margin: 0 0.4em 0.5em 0.4em;box-sizing: border-box;padding-bottom: 0.4em;background-color: white;}#sk-container-id-4 div.sk-label label {font-family: monospace;font-weight: bold;display: inline-block;line-height: 1.2em;}#sk-container-id-4 div.sk-label-container {text-align: center;}#sk-container-id-4 div.sk-container {/* jupyter's `normalize.less` sets `[hidden] { display: none; }` but bootstrap.min.css set `[hidden] { display: none !important; }` so we also need the `!important` here to be able to override the default hidden behavior on the sphinx rendered scikit-learn.org. See: https://github.com/scikit-learn/scikit-learn/issues/21755 */display: inline-block !important;position: relative;}#sk-container-id-4 div.sk-text-repr-fallback {display: none;}</style><div id=\"sk-container-id-4\" class=\"sk-top-container\"><div class=\"sk-text-repr-fallback\"><pre>GridSearchCV(cv=5, estimator=LogisticRegression(),\n",
       "             param_grid={&#x27;C&#x27;: (1, 2, 4, 8, 16),\n",
       "                         &#x27;solver&#x27;: (&#x27;newton-cg&#x27;, &#x27;liblinear&#x27;)})</pre><b>In a Jupyter environment, please rerun this cell to show the HTML representation or trust the notebook. <br />On GitHub, the HTML representation is unable to render, please try loading this page with nbviewer.org.</b></div><div class=\"sk-container\" hidden><div class=\"sk-item sk-dashed-wrapped\"><div class=\"sk-label-container\"><div class=\"sk-label sk-toggleable\"><input class=\"sk-toggleable__control sk-hidden--visually\" id=\"sk-estimator-id-10\" type=\"checkbox\" ><label for=\"sk-estimator-id-10\" class=\"sk-toggleable__label sk-toggleable__label-arrow\">GridSearchCV</label><div class=\"sk-toggleable__content\"><pre>GridSearchCV(cv=5, estimator=LogisticRegression(),\n",
       "             param_grid={&#x27;C&#x27;: (1, 2, 4, 8, 16),\n",
       "                         &#x27;solver&#x27;: (&#x27;newton-cg&#x27;, &#x27;liblinear&#x27;)})</pre></div></div></div><div class=\"sk-parallel\"><div class=\"sk-parallel-item\"><div class=\"sk-item\"><div class=\"sk-label-container\"><div class=\"sk-label sk-toggleable\"><input class=\"sk-toggleable__control sk-hidden--visually\" id=\"sk-estimator-id-11\" type=\"checkbox\" ><label for=\"sk-estimator-id-11\" class=\"sk-toggleable__label sk-toggleable__label-arrow\">estimator: LogisticRegression</label><div class=\"sk-toggleable__content\"><pre>LogisticRegression()</pre></div></div></div><div class=\"sk-serial\"><div class=\"sk-item\"><div class=\"sk-estimator sk-toggleable\"><input class=\"sk-toggleable__control sk-hidden--visually\" id=\"sk-estimator-id-12\" type=\"checkbox\" ><label for=\"sk-estimator-id-12\" class=\"sk-toggleable__label sk-toggleable__label-arrow\">LogisticRegression</label><div class=\"sk-toggleable__content\"><pre>LogisticRegression()</pre></div></div></div></div></div></div></div></div></div></div>"
      ],
      "text/plain": [
       "GridSearchCV(cv=5, estimator=LogisticRegression(),\n",
       "             param_grid={'C': (1, 2, 4, 8, 16),\n",
       "                         'solver': ('newton-cg', 'liblinear')})"
      ]
     },
     "execution_count": 34,
     "metadata": {},
     "output_type": "execute_result"
    }
   ],
   "source": [
    "model_LogisticRegression_parameters = {'C': (1,2,4,8,16), 'solver': ('newton-cg','liblinear')}\n",
    "\n",
    "model_LogisticRegression = LogisticRegression()\n",
    "gridSearch = GridSearchCV(model_LogisticRegression, model_LogisticRegression_parameters, cv = 5)\n",
    "gridSearch.fit(X_train_counts, y_train)"
   ]
  },
  {
   "cell_type": "code",
   "execution_count": 35,
   "id": "babe462f",
   "metadata": {
    "scrolled": false
   },
   "outputs": [
    {
     "data": {
      "text/html": [
       "<div>\n",
       "<style scoped>\n",
       "    .dataframe tbody tr th:only-of-type {\n",
       "        vertical-align: middle;\n",
       "    }\n",
       "\n",
       "    .dataframe tbody tr th {\n",
       "        vertical-align: top;\n",
       "    }\n",
       "\n",
       "    .dataframe thead th {\n",
       "        text-align: right;\n",
       "    }\n",
       "</style>\n",
       "<table border=\"1\" class=\"dataframe\">\n",
       "  <thead>\n",
       "    <tr style=\"text-align: right;\">\n",
       "      <th></th>\n",
       "      <th>mean_fit_time</th>\n",
       "      <th>std_fit_time</th>\n",
       "      <th>mean_score_time</th>\n",
       "      <th>std_score_time</th>\n",
       "      <th>param_C</th>\n",
       "      <th>param_solver</th>\n",
       "      <th>params</th>\n",
       "      <th>split0_test_score</th>\n",
       "      <th>split1_test_score</th>\n",
       "      <th>split2_test_score</th>\n",
       "      <th>split3_test_score</th>\n",
       "      <th>split4_test_score</th>\n",
       "      <th>mean_test_score</th>\n",
       "      <th>std_test_score</th>\n",
       "      <th>rank_test_score</th>\n",
       "    </tr>\n",
       "  </thead>\n",
       "  <tbody>\n",
       "    <tr>\n",
       "      <th>9</th>\n",
       "      <td>0.202260</td>\n",
       "      <td>0.008608</td>\n",
       "      <td>0.000404</td>\n",
       "      <td>0.000809</td>\n",
       "      <td>16</td>\n",
       "      <td>liblinear</td>\n",
       "      <td>{'C': 16, 'solver': 'liblinear'}</td>\n",
       "      <td>0.929851</td>\n",
       "      <td>0.916418</td>\n",
       "      <td>0.946269</td>\n",
       "      <td>0.916418</td>\n",
       "      <td>0.925373</td>\n",
       "      <td>0.926866</td>\n",
       "      <td>0.011008</td>\n",
       "      <td>1</td>\n",
       "    </tr>\n",
       "    <tr>\n",
       "      <th>7</th>\n",
       "      <td>0.174991</td>\n",
       "      <td>0.006246</td>\n",
       "      <td>0.000000</td>\n",
       "      <td>0.000000</td>\n",
       "      <td>8</td>\n",
       "      <td>liblinear</td>\n",
       "      <td>{'C': 8, 'solver': 'liblinear'}</td>\n",
       "      <td>0.926866</td>\n",
       "      <td>0.914925</td>\n",
       "      <td>0.943284</td>\n",
       "      <td>0.920896</td>\n",
       "      <td>0.925373</td>\n",
       "      <td>0.926269</td>\n",
       "      <td>0.009468</td>\n",
       "      <td>2</td>\n",
       "    </tr>\n",
       "    <tr>\n",
       "      <th>5</th>\n",
       "      <td>0.201896</td>\n",
       "      <td>0.038718</td>\n",
       "      <td>0.000800</td>\n",
       "      <td>0.001165</td>\n",
       "      <td>4</td>\n",
       "      <td>liblinear</td>\n",
       "      <td>{'C': 4, 'solver': 'liblinear'}</td>\n",
       "      <td>0.925373</td>\n",
       "      <td>0.907463</td>\n",
       "      <td>0.941791</td>\n",
       "      <td>0.919403</td>\n",
       "      <td>0.922388</td>\n",
       "      <td>0.923284</td>\n",
       "      <td>0.011073</td>\n",
       "      <td>3</td>\n",
       "    </tr>\n",
       "    <tr>\n",
       "      <th>8</th>\n",
       "      <td>0.550195</td>\n",
       "      <td>0.035482</td>\n",
       "      <td>0.000600</td>\n",
       "      <td>0.001199</td>\n",
       "      <td>16</td>\n",
       "      <td>newton-cg</td>\n",
       "      <td>{'C': 16, 'solver': 'newton-cg'}</td>\n",
       "      <td>0.923881</td>\n",
       "      <td>0.907463</td>\n",
       "      <td>0.941791</td>\n",
       "      <td>0.919403</td>\n",
       "      <td>0.920896</td>\n",
       "      <td>0.922687</td>\n",
       "      <td>0.011065</td>\n",
       "      <td>4</td>\n",
       "    </tr>\n",
       "    <tr>\n",
       "      <th>6</th>\n",
       "      <td>0.513634</td>\n",
       "      <td>0.071287</td>\n",
       "      <td>0.003529</td>\n",
       "      <td>0.006099</td>\n",
       "      <td>8</td>\n",
       "      <td>newton-cg</td>\n",
       "      <td>{'C': 8, 'solver': 'newton-cg'}</td>\n",
       "      <td>0.925373</td>\n",
       "      <td>0.901493</td>\n",
       "      <td>0.943284</td>\n",
       "      <td>0.920896</td>\n",
       "      <td>0.919403</td>\n",
       "      <td>0.922090</td>\n",
       "      <td>0.013363</td>\n",
       "      <td>5</td>\n",
       "    </tr>\n",
       "    <tr>\n",
       "      <th>4</th>\n",
       "      <td>0.529153</td>\n",
       "      <td>0.064926</td>\n",
       "      <td>0.000400</td>\n",
       "      <td>0.000800</td>\n",
       "      <td>4</td>\n",
       "      <td>newton-cg</td>\n",
       "      <td>{'C': 4, 'solver': 'newton-cg'}</td>\n",
       "      <td>0.922388</td>\n",
       "      <td>0.898507</td>\n",
       "      <td>0.938806</td>\n",
       "      <td>0.919403</td>\n",
       "      <td>0.919403</td>\n",
       "      <td>0.919701</td>\n",
       "      <td>0.012818</td>\n",
       "      <td>6</td>\n",
       "    </tr>\n",
       "    <tr>\n",
       "      <th>3</th>\n",
       "      <td>0.147683</td>\n",
       "      <td>0.007145</td>\n",
       "      <td>0.006255</td>\n",
       "      <td>0.007660</td>\n",
       "      <td>2</td>\n",
       "      <td>liblinear</td>\n",
       "      <td>{'C': 2, 'solver': 'liblinear'}</td>\n",
       "      <td>0.917910</td>\n",
       "      <td>0.905970</td>\n",
       "      <td>0.931343</td>\n",
       "      <td>0.917910</td>\n",
       "      <td>0.916418</td>\n",
       "      <td>0.917910</td>\n",
       "      <td>0.008065</td>\n",
       "      <td>7</td>\n",
       "    </tr>\n",
       "    <tr>\n",
       "      <th>2</th>\n",
       "      <td>0.411459</td>\n",
       "      <td>0.028484</td>\n",
       "      <td>0.000599</td>\n",
       "      <td>0.000799</td>\n",
       "      <td>2</td>\n",
       "      <td>newton-cg</td>\n",
       "      <td>{'C': 2, 'solver': 'newton-cg'}</td>\n",
       "      <td>0.916418</td>\n",
       "      <td>0.900000</td>\n",
       "      <td>0.932836</td>\n",
       "      <td>0.920896</td>\n",
       "      <td>0.913433</td>\n",
       "      <td>0.916716</td>\n",
       "      <td>0.010655</td>\n",
       "      <td>8</td>\n",
       "    </tr>\n",
       "    <tr>\n",
       "      <th>1</th>\n",
       "      <td>0.172588</td>\n",
       "      <td>0.024593</td>\n",
       "      <td>0.000803</td>\n",
       "      <td>0.000983</td>\n",
       "      <td>1</td>\n",
       "      <td>liblinear</td>\n",
       "      <td>{'C': 1, 'solver': 'liblinear'}</td>\n",
       "      <td>0.910448</td>\n",
       "      <td>0.900000</td>\n",
       "      <td>0.925373</td>\n",
       "      <td>0.916418</td>\n",
       "      <td>0.904478</td>\n",
       "      <td>0.911343</td>\n",
       "      <td>0.008935</td>\n",
       "      <td>9</td>\n",
       "    </tr>\n",
       "    <tr>\n",
       "      <th>0</th>\n",
       "      <td>0.386877</td>\n",
       "      <td>0.034597</td>\n",
       "      <td>0.000404</td>\n",
       "      <td>0.000495</td>\n",
       "      <td>1</td>\n",
       "      <td>newton-cg</td>\n",
       "      <td>{'C': 1, 'solver': 'newton-cg'}</td>\n",
       "      <td>0.910448</td>\n",
       "      <td>0.901493</td>\n",
       "      <td>0.922388</td>\n",
       "      <td>0.916418</td>\n",
       "      <td>0.904478</td>\n",
       "      <td>0.911045</td>\n",
       "      <td>0.007646</td>\n",
       "      <td>10</td>\n",
       "    </tr>\n",
       "  </tbody>\n",
       "</table>\n",
       "</div>"
      ],
      "text/plain": [
       "   mean_fit_time  std_fit_time  mean_score_time  std_score_time param_C  \\\n",
       "9       0.202260      0.008608         0.000404        0.000809      16   \n",
       "7       0.174991      0.006246         0.000000        0.000000       8   \n",
       "5       0.201896      0.038718         0.000800        0.001165       4   \n",
       "8       0.550195      0.035482         0.000600        0.001199      16   \n",
       "6       0.513634      0.071287         0.003529        0.006099       8   \n",
       "4       0.529153      0.064926         0.000400        0.000800       4   \n",
       "3       0.147683      0.007145         0.006255        0.007660       2   \n",
       "2       0.411459      0.028484         0.000599        0.000799       2   \n",
       "1       0.172588      0.024593         0.000803        0.000983       1   \n",
       "0       0.386877      0.034597         0.000404        0.000495       1   \n",
       "\n",
       "  param_solver                            params  split0_test_score  \\\n",
       "9    liblinear  {'C': 16, 'solver': 'liblinear'}           0.929851   \n",
       "7    liblinear   {'C': 8, 'solver': 'liblinear'}           0.926866   \n",
       "5    liblinear   {'C': 4, 'solver': 'liblinear'}           0.925373   \n",
       "8    newton-cg  {'C': 16, 'solver': 'newton-cg'}           0.923881   \n",
       "6    newton-cg   {'C': 8, 'solver': 'newton-cg'}           0.925373   \n",
       "4    newton-cg   {'C': 4, 'solver': 'newton-cg'}           0.922388   \n",
       "3    liblinear   {'C': 2, 'solver': 'liblinear'}           0.917910   \n",
       "2    newton-cg   {'C': 2, 'solver': 'newton-cg'}           0.916418   \n",
       "1    liblinear   {'C': 1, 'solver': 'liblinear'}           0.910448   \n",
       "0    newton-cg   {'C': 1, 'solver': 'newton-cg'}           0.910448   \n",
       "\n",
       "   split1_test_score  split2_test_score  split3_test_score  split4_test_score  \\\n",
       "9           0.916418           0.946269           0.916418           0.925373   \n",
       "7           0.914925           0.943284           0.920896           0.925373   \n",
       "5           0.907463           0.941791           0.919403           0.922388   \n",
       "8           0.907463           0.941791           0.919403           0.920896   \n",
       "6           0.901493           0.943284           0.920896           0.919403   \n",
       "4           0.898507           0.938806           0.919403           0.919403   \n",
       "3           0.905970           0.931343           0.917910           0.916418   \n",
       "2           0.900000           0.932836           0.920896           0.913433   \n",
       "1           0.900000           0.925373           0.916418           0.904478   \n",
       "0           0.901493           0.922388           0.916418           0.904478   \n",
       "\n",
       "   mean_test_score  std_test_score  rank_test_score  \n",
       "9         0.926866        0.011008                1  \n",
       "7         0.926269        0.009468                2  \n",
       "5         0.923284        0.011073                3  \n",
       "8         0.922687        0.011065                4  \n",
       "6         0.922090        0.013363                5  \n",
       "4         0.919701        0.012818                6  \n",
       "3         0.917910        0.008065                7  \n",
       "2         0.916716        0.010655                8  \n",
       "1         0.911343        0.008935                9  \n",
       "0         0.911045        0.007646               10  "
      ]
     },
     "execution_count": 35,
     "metadata": {},
     "output_type": "execute_result"
    }
   ],
   "source": [
    "pd.DataFrame(gridSearch.cv_results_).sort_values('rank_test_score') # ordino da migliore a peggiore"
   ]
  },
  {
   "cell_type": "markdown",
   "id": "5a842557",
   "metadata": {},
   "source": [
    "Per quanto riguarda il modello LogisticRegression, performa al meglio con **C = 16** e **solver = liblinear**"
   ]
  }
 ],
 "metadata": {
  "kernelspec": {
   "display_name": "Python 3 (ipykernel)",
   "language": "python",
   "name": "python3"
  },
  "language_info": {
   "codemirror_mode": {
    "name": "ipython",
    "version": 3
   },
   "file_extension": ".py",
   "mimetype": "text/x-python",
   "name": "python",
   "nbconvert_exporter": "python",
   "pygments_lexer": "ipython3",
   "version": "3.10.4"
  },
  "toc": {
   "base_numbering": 1,
   "nav_menu": {},
   "number_sections": true,
   "sideBar": true,
   "skip_h1_title": true,
   "title_cell": "Table of Contents",
   "title_sidebar": "Contents",
   "toc_cell": false,
   "toc_position": {
    "height": "calc(100% - 180px)",
    "left": "10px",
    "top": "150px",
    "width": "394.983px"
   },
   "toc_section_display": true,
   "toc_window_display": true
  }
 },
 "nbformat": 4,
 "nbformat_minor": 5
}
