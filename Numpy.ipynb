{
 "cells": [
  {
   "cell_type": "markdown",
   "id": "c170be32-8646-4bce-ac6d-1f2d852be075",
   "metadata": {
    "tags": []
   },
   "source": [
    "# Numpy"
   ]
  },
  {
   "cell_type": "code",
   "execution_count": 1,
   "id": "e4579750-ed3a-49a8-a4b1-200fc7b2d0b5",
   "metadata": {
    "tags": []
   },
   "outputs": [],
   "source": [
    "import numpy as np\n",
    "import matplotlib.pyplot as plt \n",
    "import os"
   ]
  },
  {
   "cell_type": "markdown",
   "id": "46dfbff8",
   "metadata": {},
   "source": [
    "### <span style='background :yellow'>Funzioni base\n",
    "#### Funzione ARRAY - Creazione di un array"
   ]
  },
  {
   "cell_type": "code",
   "execution_count": 2,
   "id": "bdd74f80",
   "metadata": {},
   "outputs": [
    {
     "data": {
      "text/plain": [
       "array([1, 2, 3, 4, 5])"
      ]
     },
     "execution_count": 2,
     "metadata": {},
     "output_type": "execute_result"
    }
   ],
   "source": [
    "a = np.array([1,2,3,4,5]) # l'argomento passato è una lista\n",
    "a"
   ]
  },
  {
   "cell_type": "markdown",
   "id": "df630e8b",
   "metadata": {},
   "source": [
    "#### Funzione ARRAY - Creazione di una matrice"
   ]
  },
  {
   "cell_type": "code",
   "execution_count": 3,
   "id": "21d20993",
   "metadata": {},
   "outputs": [
    {
     "data": {
      "text/plain": [
       "array([[ 1,  2,  3,  4,  5],\n",
       "       [ 6,  7,  8,  9, 10]])"
      ]
     },
     "execution_count": 3,
     "metadata": {},
     "output_type": "execute_result"
    }
   ],
   "source": [
    "b = np.array([[1,2,3,4,5],[6,7,8,9,10]]) # l'argomento passato è una lista\n",
    "b"
   ]
  },
  {
   "cell_type": "markdown",
   "id": "a3ada1b0",
   "metadata": {},
   "source": [
    "#### Ottenere singola cella di un array e matrice"
   ]
  },
  {
   "cell_type": "code",
   "execution_count": 4,
   "id": "cd7df440",
   "metadata": {},
   "outputs": [
    {
     "data": {
      "text/plain": [
       "1"
      ]
     },
     "execution_count": 4,
     "metadata": {},
     "output_type": "execute_result"
    }
   ],
   "source": [
    "a[0] # prima posizione dell'array"
   ]
  },
  {
   "cell_type": "code",
   "execution_count": 5,
   "id": "208bf66f",
   "metadata": {
    "scrolled": false
   },
   "outputs": [
    {
     "data": {
      "text/plain": [
       "1"
      ]
     },
     "execution_count": 5,
     "metadata": {},
     "output_type": "execute_result"
    }
   ],
   "source": [
    "b[0,0] # prima riga e prima colonna della matrice"
   ]
  },
  {
   "cell_type": "markdown",
   "id": "cc8780b6",
   "metadata": {},
   "source": [
    "#### Funzione NDIM - Ottenere dimensione di un array e matrice"
   ]
  },
  {
   "cell_type": "code",
   "execution_count": 6,
   "id": "a46b5846",
   "metadata": {},
   "outputs": [
    {
     "data": {
      "text/plain": [
       "1"
      ]
     },
     "execution_count": 6,
     "metadata": {},
     "output_type": "execute_result"
    }
   ],
   "source": [
    "a.ndim # dimensione array"
   ]
  },
  {
   "cell_type": "code",
   "execution_count": 7,
   "id": "31a9fc67",
   "metadata": {},
   "outputs": [
    {
     "data": {
      "text/plain": [
       "2"
      ]
     },
     "execution_count": 7,
     "metadata": {},
     "output_type": "execute_result"
    }
   ],
   "source": [
    "b.ndim # dimensione matrice"
   ]
  },
  {
   "cell_type": "markdown",
   "id": "27fdcde2",
   "metadata": {},
   "source": [
    "#### Funzione SHAPE - Grandezza di un array e matrice"
   ]
  },
  {
   "cell_type": "code",
   "execution_count": 8,
   "id": "f468b11e",
   "metadata": {},
   "outputs": [
    {
     "data": {
      "text/plain": [
       "(5,)"
      ]
     },
     "execution_count": 8,
     "metadata": {},
     "output_type": "execute_result"
    }
   ],
   "source": [
    "a.shape # grandezza array"
   ]
  },
  {
   "cell_type": "code",
   "execution_count": 9,
   "id": "d6415dbc",
   "metadata": {},
   "outputs": [
    {
     "data": {
      "text/plain": [
       "(2, 5)"
      ]
     },
     "execution_count": 9,
     "metadata": {},
     "output_type": "execute_result"
    }
   ],
   "source": [
    "b.shape # grandezza matrice"
   ]
  },
  {
   "cell_type": "markdown",
   "id": "64e2ca0b",
   "metadata": {},
   "source": [
    "#### Funzione SIZE - Numero elementi di un array e matrice"
   ]
  },
  {
   "cell_type": "code",
   "execution_count": 10,
   "id": "c6fd2b13",
   "metadata": {},
   "outputs": [
    {
     "data": {
      "text/plain": [
       "5"
      ]
     },
     "execution_count": 10,
     "metadata": {},
     "output_type": "execute_result"
    }
   ],
   "source": [
    "a.size # elementi array"
   ]
  },
  {
   "cell_type": "code",
   "execution_count": 11,
   "id": "174c77d3",
   "metadata": {
    "scrolled": true
   },
   "outputs": [
    {
     "data": {
      "text/plain": [
       "10"
      ]
     },
     "execution_count": 11,
     "metadata": {},
     "output_type": "execute_result"
    }
   ],
   "source": [
    "b.size # elementi matrice"
   ]
  },
  {
   "cell_type": "markdown",
   "id": "500cb918",
   "metadata": {},
   "source": [
    "### <span style='background :yellow'>Creazione matrici con funzioni\n",
    "#### Funzione ONES - Creazione di matrici contenenti 1"
   ]
  },
  {
   "cell_type": "code",
   "execution_count": 12,
   "id": "3eb4f480",
   "metadata": {
    "scrolled": true
   },
   "outputs": [
    {
     "data": {
      "text/plain": [
       "array([[1, 1],\n",
       "       [1, 1],\n",
       "       [1, 1]])"
      ]
     },
     "execution_count": 12,
     "metadata": {},
     "output_type": "execute_result"
    }
   ],
   "source": [
    "a = np.ones((3,2), dtype=int)\n",
    "a"
   ]
  },
  {
   "cell_type": "markdown",
   "id": "be8d027e",
   "metadata": {},
   "source": [
    "#### Funzione ZEROS - Creazione di matrici contenenti 0"
   ]
  },
  {
   "cell_type": "code",
   "execution_count": 13,
   "id": "b9adb11a",
   "metadata": {
    "scrolled": true
   },
   "outputs": [
    {
     "data": {
      "text/plain": [
       "array([[0, 0],\n",
       "       [0, 0],\n",
       "       [0, 0]])"
      ]
     },
     "execution_count": 13,
     "metadata": {},
     "output_type": "execute_result"
    }
   ],
   "source": [
    "a = np.zeros((3,2), dtype=int)\n",
    "a"
   ]
  },
  {
   "cell_type": "markdown",
   "id": "b93ac626",
   "metadata": {},
   "source": [
    "#### Funzione RANDOM - Creazione di matrici casuali"
   ]
  },
  {
   "cell_type": "code",
   "execution_count": 14,
   "id": "f6bfe687",
   "metadata": {},
   "outputs": [
    {
     "data": {
      "text/plain": [
       "array([[0.51476388, 0.00541482],\n",
       "       [0.36791644, 0.50510945],\n",
       "       [0.46295076, 0.55263193]])"
      ]
     },
     "execution_count": 14,
     "metadata": {},
     "output_type": "execute_result"
    }
   ],
   "source": [
    "a = np.random.random((3,2))\n",
    "a"
   ]
  },
  {
   "cell_type": "markdown",
   "id": "bfea79f0",
   "metadata": {},
   "source": [
    "#### Funzione FULL - Creazione di matrici contenenti un numero scelto"
   ]
  },
  {
   "cell_type": "code",
   "execution_count": 15,
   "id": "bea7eb80",
   "metadata": {},
   "outputs": [
    {
     "data": {
      "text/plain": [
       "array([[10, 10],\n",
       "       [10, 10],\n",
       "       [10, 10]])"
      ]
     },
     "execution_count": 15,
     "metadata": {},
     "output_type": "execute_result"
    }
   ],
   "source": [
    "a = np.full((3,2), 10)\n",
    "a"
   ]
  },
  {
   "cell_type": "markdown",
   "id": "8353e5cc",
   "metadata": {},
   "source": [
    "### <span style='background :yellow'>Creazione sequenze\n",
    "#### Funzione ARANGE"
   ]
  },
  {
   "cell_type": "code",
   "execution_count": 16,
   "id": "fd4269e3",
   "metadata": {},
   "outputs": [
    {
     "data": {
      "text/plain": [
       "array([0, 2, 4, 6, 8])"
      ]
     },
     "execution_count": 16,
     "metadata": {},
     "output_type": "execute_result"
    }
   ],
   "source": [
    "a = np.arange(0,10,2) # start, stop, step\n",
    "a"
   ]
  },
  {
   "cell_type": "markdown",
   "id": "560520eb",
   "metadata": {},
   "source": [
    "#### Funzione LINSPACE"
   ]
  },
  {
   "cell_type": "code",
   "execution_count": 17,
   "id": "162b437d",
   "metadata": {},
   "outputs": [
    {
     "data": {
      "text/plain": [
       "array([ 0. ,  2.5,  5. ,  7.5, 10. ])"
      ]
     },
     "execution_count": 17,
     "metadata": {},
     "output_type": "execute_result"
    }
   ],
   "source": [
    "a = np.linspace(0,10,5) # start, stop, numeri tra intervallo\n",
    "a"
   ]
  },
  {
   "cell_type": "markdown",
   "id": "164d7a74",
   "metadata": {},
   "source": [
    "### <span style='background :yellow'>Modificare array\n",
    "#### Funzione RESIZE"
   ]
  },
  {
   "cell_type": "code",
   "execution_count": 18,
   "id": "ddd47f8e",
   "metadata": {},
   "outputs": [
    {
     "name": "stdout",
     "output_type": "stream",
     "text": [
      "(10,)\n"
     ]
    },
    {
     "data": {
      "text/plain": [
       "array([0, 1, 2, 3, 4, 5, 6, 7, 8, 9])"
      ]
     },
     "execution_count": 18,
     "metadata": {},
     "output_type": "execute_result"
    }
   ],
   "source": [
    "a = np.arange(0,10,1) # start, stop, step\n",
    "print(a.shape)\n",
    "a"
   ]
  },
  {
   "cell_type": "code",
   "execution_count": 19,
   "id": "a554a509",
   "metadata": {},
   "outputs": [
    {
     "name": "stdout",
     "output_type": "stream",
     "text": [
      "(2, 5)\n"
     ]
    },
    {
     "data": {
      "text/plain": [
       "array([[0, 1, 2, 3, 4],\n",
       "       [5, 6, 7, 8, 9]])"
      ]
     },
     "execution_count": 19,
     "metadata": {},
     "output_type": "execute_result"
    }
   ],
   "source": [
    "a.resize(2,5)\n",
    "print(a.shape)\n",
    "a"
   ]
  },
  {
   "cell_type": "code",
   "execution_count": 20,
   "id": "343a31cd",
   "metadata": {
    "scrolled": true
   },
   "outputs": [
    {
     "name": "stdout",
     "output_type": "stream",
     "text": [
      "(5, 2)\n"
     ]
    },
    {
     "data": {
      "text/plain": [
       "array([[0, 1],\n",
       "       [2, 3],\n",
       "       [4, 5],\n",
       "       [6, 7],\n",
       "       [8, 9]])"
      ]
     },
     "execution_count": 20,
     "metadata": {},
     "output_type": "execute_result"
    }
   ],
   "source": [
    "a.resize(5,2)\n",
    "print(a.shape)\n",
    "a"
   ]
  },
  {
   "cell_type": "markdown",
   "id": "efffd660",
   "metadata": {},
   "source": [
    "#### Funzione RAVEL"
   ]
  },
  {
   "cell_type": "code",
   "execution_count": 21,
   "id": "2566034b",
   "metadata": {},
   "outputs": [
    {
     "data": {
      "text/plain": [
       "array([[0, 1],\n",
       "       [2, 3],\n",
       "       [4, 5],\n",
       "       [6, 7],\n",
       "       [8, 9]])"
      ]
     },
     "execution_count": 21,
     "metadata": {},
     "output_type": "execute_result"
    }
   ],
   "source": [
    "a"
   ]
  },
  {
   "cell_type": "code",
   "execution_count": 22,
   "id": "d04fb3fd",
   "metadata": {
    "scrolled": true
   },
   "outputs": [
    {
     "data": {
      "text/plain": [
       "array([0, 1, 2, 3, 4, 5, 6, 7, 8, 9])"
      ]
     },
     "execution_count": 22,
     "metadata": {},
     "output_type": "execute_result"
    }
   ],
   "source": [
    "c = a.ravel()\n",
    "c"
   ]
  },
  {
   "cell_type": "markdown",
   "id": "3daeb4e3",
   "metadata": {},
   "source": [
    "#### Funzione TRANSPOSE"
   ]
  },
  {
   "cell_type": "code",
   "execution_count": 23,
   "id": "72ca89f5",
   "metadata": {},
   "outputs": [
    {
     "data": {
      "text/plain": [
       "array([[0, 1],\n",
       "       [2, 3],\n",
       "       [4, 5],\n",
       "       [6, 7],\n",
       "       [8, 9]])"
      ]
     },
     "execution_count": 23,
     "metadata": {},
     "output_type": "execute_result"
    }
   ],
   "source": [
    "a"
   ]
  },
  {
   "cell_type": "code",
   "execution_count": 24,
   "id": "54ffd2a0",
   "metadata": {
    "scrolled": true
   },
   "outputs": [
    {
     "data": {
      "text/plain": [
       "array([[0, 2, 4, 6, 8],\n",
       "       [1, 3, 5, 7, 9]])"
      ]
     },
     "execution_count": 24,
     "metadata": {},
     "output_type": "execute_result"
    }
   ],
   "source": [
    "c = a.transpose()\n",
    "c"
   ]
  },
  {
   "cell_type": "markdown",
   "id": "79a3578b",
   "metadata": {},
   "source": [
    "### <span style='background :yellow'>Array slicing\n",
    "#### Array"
   ]
  },
  {
   "cell_type": "code",
   "execution_count": 25,
   "id": "5623883a",
   "metadata": {},
   "outputs": [
    {
     "data": {
      "text/plain": [
       "array([ 0,  2,  4,  6,  8, 10, 12, 14, 16, 18, 20, 22, 24, 26, 28])"
      ]
     },
     "execution_count": 25,
     "metadata": {},
     "output_type": "execute_result"
    }
   ],
   "source": [
    "a = np.arange(0, 30, 2)\n",
    "a"
   ]
  },
  {
   "cell_type": "code",
   "execution_count": 26,
   "id": "307ad7e9",
   "metadata": {},
   "outputs": [
    {
     "data": {
      "text/plain": [
       "array([ 2,  4,  6,  8, 10])"
      ]
     },
     "execution_count": 26,
     "metadata": {},
     "output_type": "execute_result"
    }
   ],
   "source": [
    "b = a[1:6] # intervallo tra elementi in posizione 1 e (6-1)\n",
    "b"
   ]
  },
  {
   "cell_type": "code",
   "execution_count": 27,
   "id": "27e12959",
   "metadata": {},
   "outputs": [
    {
     "data": {
      "text/plain": [
       "array([0, 2, 4, 6, 8])"
      ]
     },
     "execution_count": 27,
     "metadata": {},
     "output_type": "execute_result"
    }
   ],
   "source": [
    "b = a[:5] # primi 5 elementi\n",
    "b"
   ]
  },
  {
   "cell_type": "code",
   "execution_count": 28,
   "id": "16cefa5d",
   "metadata": {},
   "outputs": [
    {
     "data": {
      "text/plain": [
       "array([10, 12, 14, 16, 18, 20, 22, 24, 26, 28])"
      ]
     },
     "execution_count": 28,
     "metadata": {},
     "output_type": "execute_result"
    }
   ],
   "source": [
    "b = a[5:] # da elemento 5 in poi\n",
    "b"
   ]
  },
  {
   "cell_type": "code",
   "execution_count": 29,
   "id": "dcd0937d",
   "metadata": {},
   "outputs": [
    {
     "data": {
      "text/plain": [
       "array([100,  12,  14,  16,  18,  20,  22,  24,  26,  28])"
      ]
     },
     "execution_count": 29,
     "metadata": {},
     "output_type": "execute_result"
    }
   ],
   "source": [
    "b[0] = 100 # modifica del primo elemento dell'array\n",
    "b"
   ]
  },
  {
   "cell_type": "markdown",
   "id": "956cd1da",
   "metadata": {},
   "source": [
    "#### Matrici"
   ]
  },
  {
   "cell_type": "code",
   "execution_count": 30,
   "id": "03eb3b55",
   "metadata": {},
   "outputs": [
    {
     "data": {
      "text/plain": [
       "array([[0, 1, 2, 3, 4],\n",
       "       [5, 6, 7, 8, 9]])"
      ]
     },
     "execution_count": 30,
     "metadata": {},
     "output_type": "execute_result"
    }
   ],
   "source": [
    "a = np.array([[0,1,2,3,4],[5,6,7,8,9]])\n",
    "a"
   ]
  },
  {
   "cell_type": "code",
   "execution_count": 31,
   "id": "00c1f7c1",
   "metadata": {},
   "outputs": [
    {
     "data": {
      "text/plain": [
       "array([1])"
      ]
     },
     "execution_count": 31,
     "metadata": {},
     "output_type": "execute_result"
    }
   ],
   "source": [
    "b = a[0:1,1] # 0:1 prende solamente la posizione 0, perchè sarebbe da 0 ad (1-1) = 0, ma permette di mantere la struttura array (altrimenti restituirebbe un numero)\n",
    "b"
   ]
  },
  {
   "cell_type": "code",
   "execution_count": 32,
   "id": "80005fef",
   "metadata": {},
   "outputs": [
    {
     "data": {
      "text/plain": [
       "array([1, 6])"
      ]
     },
     "execution_count": 32,
     "metadata": {},
     "output_type": "execute_result"
    }
   ],
   "source": [
    "b = a[:,1] # tutte le righe, soltanto la colonna 1\n",
    "b"
   ]
  },
  {
   "cell_type": "code",
   "execution_count": 33,
   "id": "c309f633",
   "metadata": {
    "scrolled": true
   },
   "outputs": [
    {
     "data": {
      "text/plain": [
       "array([1, 6])"
      ]
     },
     "execution_count": 33,
     "metadata": {},
     "output_type": "execute_result"
    }
   ],
   "source": [
    "b = a[...,1] # tutte le righe, soltanto la colonna 1 (altro metodo)\n",
    "b"
   ]
  },
  {
   "cell_type": "markdown",
   "id": "df2b85c0",
   "metadata": {},
   "source": [
    "### <span style='background :yellow'>Funzioni aritmetiche"
   ]
  },
  {
   "cell_type": "code",
   "execution_count": 34,
   "id": "5a999911",
   "metadata": {},
   "outputs": [
    {
     "data": {
      "text/plain": [
       "array([[ 1,  2,  3,  4,  5],\n",
       "       [ 6,  7,  8,  9, 10]])"
      ]
     },
     "execution_count": 34,
     "metadata": {},
     "output_type": "execute_result"
    }
   ],
   "source": [
    "a = np.array([[1,2,3,4,5],[6,7,8,9,10]])\n",
    "a"
   ]
  },
  {
   "cell_type": "code",
   "execution_count": 35,
   "id": "b12f284a",
   "metadata": {
    "scrolled": true
   },
   "outputs": [
    {
     "data": {
      "text/plain": [
       "array([[11, 12, 13, 14, 15],\n",
       "       [16, 17, 18, 19, 20]])"
      ]
     },
     "execution_count": 35,
     "metadata": {},
     "output_type": "execute_result"
    }
   ],
   "source": [
    "b = np.array([[11,12,13,14,15],[16,17,18,19,20]])\n",
    "b"
   ]
  },
  {
   "cell_type": "markdown",
   "id": "12181378",
   "metadata": {},
   "source": [
    "#### Funzione ADD - somma tra due array/matrici"
   ]
  },
  {
   "cell_type": "code",
   "execution_count": 36,
   "id": "b7a277b4",
   "metadata": {
    "scrolled": false
   },
   "outputs": [
    {
     "data": {
      "text/plain": [
       "array([[12, 14, 16, 18, 20],\n",
       "       [22, 24, 26, 28, 30]])"
      ]
     },
     "execution_count": 36,
     "metadata": {},
     "output_type": "execute_result"
    }
   ],
   "source": [
    "c = np.add(a,b) # somma delle due matrici sopra\n",
    "c"
   ]
  },
  {
   "cell_type": "code",
   "execution_count": 37,
   "id": "cb9fe6c9",
   "metadata": {
    "scrolled": false
   },
   "outputs": [
    {
     "data": {
      "text/plain": [
       "array([[12, 14, 16, 18, 20],\n",
       "       [22, 24, 26, 28, 30]])"
      ]
     },
     "execution_count": 37,
     "metadata": {},
     "output_type": "execute_result"
    }
   ],
   "source": [
    "c = a + b # metodo alternativo\n",
    "c"
   ]
  },
  {
   "cell_type": "markdown",
   "id": "309a7704",
   "metadata": {},
   "source": [
    "#### Funzione SUBTRACT - sottrazione tra due array/matrici"
   ]
  },
  {
   "cell_type": "code",
   "execution_count": 38,
   "id": "0bf6dbdd",
   "metadata": {
    "scrolled": false
   },
   "outputs": [
    {
     "data": {
      "text/plain": [
       "array([[10, 10, 10, 10, 10],\n",
       "       [10, 10, 10, 10, 10]])"
      ]
     },
     "execution_count": 38,
     "metadata": {},
     "output_type": "execute_result"
    }
   ],
   "source": [
    "c = np.subtract(b,a) # somma delle due matrici sopra\n",
    "c"
   ]
  },
  {
   "cell_type": "code",
   "execution_count": 39,
   "id": "b699016b",
   "metadata": {
    "scrolled": false
   },
   "outputs": [
    {
     "data": {
      "text/plain": [
       "array([[10, 10, 10, 10, 10],\n",
       "       [10, 10, 10, 10, 10]])"
      ]
     },
     "execution_count": 39,
     "metadata": {},
     "output_type": "execute_result"
    }
   ],
   "source": [
    "c = b - a # metodo alternativo\n",
    "c"
   ]
  },
  {
   "cell_type": "markdown",
   "id": "0c959a31",
   "metadata": {},
   "source": [
    "#### Funzione REMAINDER - modulo divisione tra due array/matrici"
   ]
  },
  {
   "cell_type": "code",
   "execution_count": 40,
   "id": "18ed8b9d",
   "metadata": {
    "scrolled": false
   },
   "outputs": [
    {
     "data": {
      "text/plain": [
       "array([[0, 0, 1, 2, 0],\n",
       "       [4, 3, 2, 1, 0]])"
      ]
     },
     "execution_count": 40,
     "metadata": {},
     "output_type": "execute_result"
    }
   ],
   "source": [
    "c = np.remainder(b,a) # modulo divisione delle due matrici sopra\n",
    "c"
   ]
  },
  {
   "cell_type": "markdown",
   "id": "e5cbc4ee",
   "metadata": {},
   "source": [
    "#### Funzione POWER - elevare a potenza un array/matrice"
   ]
  },
  {
   "cell_type": "code",
   "execution_count": 41,
   "id": "f5700b96",
   "metadata": {
    "scrolled": false
   },
   "outputs": [
    {
     "data": {
      "text/plain": [
       "array([[  1,   4,   9,  16,  25],\n",
       "       [ 36,  49,  64,  81, 100]], dtype=int32)"
      ]
     },
     "execution_count": 41,
     "metadata": {},
     "output_type": "execute_result"
    }
   ],
   "source": [
    "c = np.power(a,2) # potenza base 2 della matrice a\n",
    "c"
   ]
  },
  {
   "cell_type": "markdown",
   "id": "9cc508ea",
   "metadata": {},
   "source": [
    "#### Maschere"
   ]
  },
  {
   "cell_type": "code",
   "execution_count": 42,
   "id": "e9238ce6",
   "metadata": {
    "scrolled": true
   },
   "outputs": [
    {
     "name": "stdout",
     "output_type": "stream",
     "text": [
      "[[ True  True  True  True False]\n",
      " [False False False False False]]\n"
     ]
    },
    {
     "data": {
      "text/plain": [
       "array([1, 2, 3, 4])"
      ]
     },
     "execution_count": 42,
     "metadata": {},
     "output_type": "execute_result"
    }
   ],
   "source": [
    "mask = a < 5 # filtro per valori della matrice a < 5\n",
    "print(mask)\n",
    "c = a[mask]\n",
    "c"
   ]
  },
  {
   "cell_type": "markdown",
   "id": "81487021",
   "metadata": {},
   "source": [
    "### <span style='background :yellow'>Funzioni elementari"
   ]
  },
  {
   "cell_type": "code",
   "execution_count": 43,
   "id": "7f3f2f85",
   "metadata": {},
   "outputs": [
    {
     "data": {
      "text/plain": [
       "array([[1, 2],\n",
       "       [3, 4]])"
      ]
     },
     "execution_count": 43,
     "metadata": {},
     "output_type": "execute_result"
    }
   ],
   "source": [
    "a = np.array([[1,2],[3,4]])\n",
    "a"
   ]
  },
  {
   "cell_type": "code",
   "execution_count": 44,
   "id": "9acbe53d",
   "metadata": {},
   "outputs": [
    {
     "data": {
      "text/plain": [
       "array([[-1.5,  2.3],\n",
       "       [-3.1,  4.9]])"
      ]
     },
     "execution_count": 44,
     "metadata": {},
     "output_type": "execute_result"
    }
   ],
   "source": [
    "b = np.array([[-1.5,2.3],[-3.1,4.9]])\n",
    "b"
   ]
  },
  {
   "cell_type": "markdown",
   "id": "627e8d24",
   "metadata": {},
   "source": [
    "#### Funzione EXP - esponenziale di un array/matrice"
   ]
  },
  {
   "cell_type": "code",
   "execution_count": 45,
   "id": "94bb3784",
   "metadata": {
    "scrolled": true
   },
   "outputs": [
    {
     "data": {
      "text/plain": [
       "array([[ 2.71828183,  7.3890561 ],\n",
       "       [20.08553692, 54.59815003]])"
      ]
     },
     "execution_count": 45,
     "metadata": {},
     "output_type": "execute_result"
    }
   ],
   "source": [
    "c = np.exp(a) # esponenziale della matrice a\n",
    "c"
   ]
  },
  {
   "cell_type": "markdown",
   "id": "2cbab64c",
   "metadata": {},
   "source": [
    "#### Funzione SQRT - radice quadrata di un array/matrice"
   ]
  },
  {
   "cell_type": "code",
   "execution_count": 46,
   "id": "d6866df9",
   "metadata": {
    "scrolled": false
   },
   "outputs": [
    {
     "data": {
      "text/plain": [
       "array([[1.        , 1.41421356],\n",
       "       [1.73205081, 2.        ]])"
      ]
     },
     "execution_count": 46,
     "metadata": {},
     "output_type": "execute_result"
    }
   ],
   "source": [
    "c = np.sqrt(a) # radice quadrata della matrice a\n",
    "c"
   ]
  },
  {
   "cell_type": "markdown",
   "id": "16fa6c8a",
   "metadata": {},
   "source": [
    "#### Funzione LOG - logaritmo naturale di un array/matrice"
   ]
  },
  {
   "cell_type": "code",
   "execution_count": 47,
   "id": "fdb498de",
   "metadata": {
    "scrolled": false
   },
   "outputs": [
    {
     "data": {
      "text/plain": [
       "array([[0.        , 0.69314718],\n",
       "       [1.09861229, 1.38629436]])"
      ]
     },
     "execution_count": 47,
     "metadata": {},
     "output_type": "execute_result"
    }
   ],
   "source": [
    "c = np.log(a) # logaritmo naturale della matrice a\n",
    "c"
   ]
  },
  {
   "cell_type": "markdown",
   "id": "6d8e92d7",
   "metadata": {},
   "source": [
    "#### Funzione AROUND - arrotondamento per eccesso o difetto di un array/matrice"
   ]
  },
  {
   "cell_type": "code",
   "execution_count": 48,
   "id": "ed65f776",
   "metadata": {
    "scrolled": false
   },
   "outputs": [
    {
     "data": {
      "text/plain": [
       "array([[-2.,  2.],\n",
       "       [-3.,  5.]])"
      ]
     },
     "execution_count": 48,
     "metadata": {},
     "output_type": "execute_result"
    }
   ],
   "source": [
    "c = np.around(b) # arrotondamento della matrice b\n",
    "c"
   ]
  },
  {
   "cell_type": "markdown",
   "id": "c84cb3d6",
   "metadata": {},
   "source": [
    "#### Funzione FLOOR - arrotondamento per difetto di un array/matrice"
   ]
  },
  {
   "cell_type": "code",
   "execution_count": 49,
   "id": "30a27aa6",
   "metadata": {
    "scrolled": false
   },
   "outputs": [
    {
     "data": {
      "text/plain": [
       "array([[-2.,  2.],\n",
       "       [-4.,  4.]])"
      ]
     },
     "execution_count": 49,
     "metadata": {},
     "output_type": "execute_result"
    }
   ],
   "source": [
    "c = np.floor(b) # arrotondamento per difetto della matrice b\n",
    "c"
   ]
  },
  {
   "cell_type": "markdown",
   "id": "9d8d316d",
   "metadata": {},
   "source": [
    "#### Funzione CEIL - arrotondamento per eccesso di un array/matrice"
   ]
  },
  {
   "cell_type": "code",
   "execution_count": 50,
   "id": "d4da3fde",
   "metadata": {
    "scrolled": false
   },
   "outputs": [
    {
     "data": {
      "text/plain": [
       "array([[-1.,  3.],\n",
       "       [-3.,  5.]])"
      ]
     },
     "execution_count": 50,
     "metadata": {},
     "output_type": "execute_result"
    }
   ],
   "source": [
    "c = np.ceil(b) # arrotondamento per difetto della matrice b\n",
    "c"
   ]
  },
  {
   "cell_type": "markdown",
   "id": "a3646d47",
   "metadata": {},
   "source": [
    "#### Funzione TRUNC - eliminazione della parte decimale di un array/matrice"
   ]
  },
  {
   "cell_type": "code",
   "execution_count": 51,
   "id": "652e0fc7",
   "metadata": {
    "scrolled": true
   },
   "outputs": [
    {
     "data": {
      "text/plain": [
       "array([[-1.,  2.],\n",
       "       [-3.,  4.]])"
      ]
     },
     "execution_count": 51,
     "metadata": {},
     "output_type": "execute_result"
    }
   ],
   "source": [
    "c = np.trunc(b) # arrotondamento per difetto della matrice b\n",
    "c"
   ]
  },
  {
   "cell_type": "markdown",
   "id": "9218e9f6",
   "metadata": {},
   "source": [
    "### <span style='background :yellow'>Funzioni array"
   ]
  },
  {
   "cell_type": "code",
   "execution_count": 52,
   "id": "921bd0fd",
   "metadata": {},
   "outputs": [
    {
     "data": {
      "text/plain": [
       "array([[ 1,  7,  3,  9,  5],\n",
       "       [ 6,  2,  8,  4, 10]])"
      ]
     },
     "execution_count": 52,
     "metadata": {},
     "output_type": "execute_result"
    }
   ],
   "source": [
    "a = np.array([[1,7,3,9,5],[6,2,8,4,10]])\n",
    "a"
   ]
  },
  {
   "cell_type": "code",
   "execution_count": 53,
   "id": "b14baa46",
   "metadata": {
    "scrolled": true
   },
   "outputs": [
    {
     "data": {
      "text/plain": [
       "array([[11, 12, 13, 14, 15],\n",
       "       [16, 17, 18, 19, 20]])"
      ]
     },
     "execution_count": 53,
     "metadata": {},
     "output_type": "execute_result"
    }
   ],
   "source": [
    "b = np.array([[11,12,13,14,15],[16,17,18,19,20]])\n",
    "b"
   ]
  },
  {
   "cell_type": "markdown",
   "id": "ce894c08",
   "metadata": {},
   "source": [
    "#### Funzione SUM - somma su assi di un array/matrice"
   ]
  },
  {
   "cell_type": "code",
   "execution_count": 54,
   "id": "09de3c5d",
   "metadata": {
    "scrolled": true
   },
   "outputs": [
    {
     "data": {
      "text/plain": [
       "array([ 7,  9, 11, 13, 15])"
      ]
     },
     "execution_count": 54,
     "metadata": {},
     "output_type": "execute_result"
    }
   ],
   "source": [
    "c = a.sum(axis=0) # somma delle colonne\n",
    "c"
   ]
  },
  {
   "cell_type": "code",
   "execution_count": 55,
   "id": "42a59374",
   "metadata": {
    "scrolled": false
   },
   "outputs": [
    {
     "data": {
      "text/plain": [
       "array([25, 30])"
      ]
     },
     "execution_count": 55,
     "metadata": {},
     "output_type": "execute_result"
    }
   ],
   "source": [
    "c = a.sum(axis=1) # somma delle righe\n",
    "c"
   ]
  },
  {
   "cell_type": "markdown",
   "id": "3611d32e",
   "metadata": {},
   "source": [
    "#### Funzione MIN - valore più piccolo di un array/matrice"
   ]
  },
  {
   "cell_type": "code",
   "execution_count": 56,
   "id": "4356bf59",
   "metadata": {
    "scrolled": false
   },
   "outputs": [
    {
     "data": {
      "text/plain": [
       "1"
      ]
     },
     "execution_count": 56,
     "metadata": {},
     "output_type": "execute_result"
    }
   ],
   "source": [
    "c = np.min(a)\n",
    "c"
   ]
  },
  {
   "cell_type": "markdown",
   "id": "1a4417d1",
   "metadata": {},
   "source": [
    "#### Funzione MAX - valore più grande di un array/matrice"
   ]
  },
  {
   "cell_type": "code",
   "execution_count": 57,
   "id": "23f06d7c",
   "metadata": {
    "scrolled": true
   },
   "outputs": [
    {
     "data": {
      "text/plain": [
       "10"
      ]
     },
     "execution_count": 57,
     "metadata": {},
     "output_type": "execute_result"
    }
   ],
   "source": [
    "c = np.max(a)\n",
    "c"
   ]
  },
  {
   "cell_type": "code",
   "execution_count": 58,
   "id": "6f2cb99d",
   "metadata": {
    "scrolled": false
   },
   "outputs": [
    {
     "data": {
      "text/plain": [
       "array([ 6,  7,  8,  9, 10])"
      ]
     },
     "execution_count": 58,
     "metadata": {},
     "output_type": "execute_result"
    }
   ],
   "source": [
    "c = a.max(axis=0) # valore massimo su ogni colonna\n",
    "c"
   ]
  },
  {
   "cell_type": "code",
   "execution_count": 59,
   "id": "3f4bfe47",
   "metadata": {
    "scrolled": true
   },
   "outputs": [
    {
     "data": {
      "text/plain": [
       "array([ 9, 10])"
      ]
     },
     "execution_count": 59,
     "metadata": {},
     "output_type": "execute_result"
    }
   ],
   "source": [
    "c = a.max(axis=1) # valore massimo su ogni riga\n",
    "c"
   ]
  },
  {
   "cell_type": "markdown",
   "id": "26bba507",
   "metadata": {},
   "source": [
    "#### Funzione CUMSUM - somma di tutti i valori di un array/matrice"
   ]
  },
  {
   "cell_type": "code",
   "execution_count": 60,
   "id": "6b689988",
   "metadata": {},
   "outputs": [
    {
     "data": {
      "text/plain": [
       "array([[ 1,  7,  3,  9,  5],\n",
       "       [ 6,  2,  8,  4, 10]])"
      ]
     },
     "execution_count": 60,
     "metadata": {},
     "output_type": "execute_result"
    }
   ],
   "source": [
    "a"
   ]
  },
  {
   "cell_type": "code",
   "execution_count": 61,
   "id": "a44dfc05",
   "metadata": {
    "scrolled": true
   },
   "outputs": [
    {
     "data": {
      "text/plain": [
       "array([[ 1,  7,  3,  9,  5],\n",
       "       [ 7,  9, 11, 13, 15]])"
      ]
     },
     "execution_count": 61,
     "metadata": {},
     "output_type": "execute_result"
    }
   ],
   "source": [
    "c = np.cumsum(a, axis=0) # somma cumulativa su ogni colonna\n",
    "c"
   ]
  },
  {
   "cell_type": "code",
   "execution_count": 62,
   "id": "32509a8b",
   "metadata": {
    "scrolled": false
   },
   "outputs": [
    {
     "data": {
      "text/plain": [
       "array([[ 1,  8, 11, 20, 25],\n",
       "       [ 6,  8, 16, 20, 30]])"
      ]
     },
     "execution_count": 62,
     "metadata": {},
     "output_type": "execute_result"
    }
   ],
   "source": [
    "c = np.cumsum(a, axis=1) # somma cumulativa su ogni colonna\n",
    "c"
   ]
  },
  {
   "cell_type": "markdown",
   "id": "a0e4405a",
   "metadata": {},
   "source": [
    "#### Funzione CORCOEFF - coefficente di correlazione di un array/matrice"
   ]
  },
  {
   "cell_type": "code",
   "execution_count": 63,
   "id": "45fa2df5",
   "metadata": {},
   "outputs": [
    {
     "data": {
      "text/plain": [
       "array([1, 2, 3, 4, 5])"
      ]
     },
     "execution_count": 63,
     "metadata": {},
     "output_type": "execute_result"
    }
   ],
   "source": [
    "a = np.array([1,2,3,4,5])\n",
    "a"
   ]
  },
  {
   "cell_type": "code",
   "execution_count": 64,
   "id": "26db7934",
   "metadata": {
    "scrolled": false
   },
   "outputs": [
    {
     "data": {
      "text/plain": [
       "1.0"
      ]
     },
     "execution_count": 64,
     "metadata": {},
     "output_type": "execute_result"
    }
   ],
   "source": [
    "c = np.corrcoef(a)\n",
    "c"
   ]
  },
  {
   "cell_type": "markdown",
   "id": "a8c6a18b",
   "metadata": {},
   "source": [
    "#### Funzione STD - deviazione standard\n",
    "Probabilità che un valore si discosti dal valore medio"
   ]
  },
  {
   "cell_type": "code",
   "execution_count": 65,
   "id": "c95b54bc",
   "metadata": {},
   "outputs": [],
   "source": [
    "a = np.array([1,2,3,4,5])"
   ]
  },
  {
   "cell_type": "code",
   "execution_count": 66,
   "id": "b70e4bd0",
   "metadata": {
    "scrolled": true
   },
   "outputs": [
    {
     "data": {
      "text/plain": [
       "3.0"
      ]
     },
     "execution_count": 66,
     "metadata": {},
     "output_type": "execute_result"
    }
   ],
   "source": [
    "a.mean() # la media è pari a 3"
   ]
  },
  {
   "cell_type": "code",
   "execution_count": 67,
   "id": "297c1c65",
   "metadata": {},
   "outputs": [
    {
     "data": {
      "text/plain": [
       "1.4142135623730951"
      ]
     },
     "execution_count": 67,
     "metadata": {},
     "output_type": "execute_result"
    }
   ],
   "source": [
    "c = a.std()\n",
    "c"
   ]
  },
  {
   "cell_type": "markdown",
   "id": "b4f359a8",
   "metadata": {},
   "source": [
    "La deviazione standard è pari a 1.4. Ciò significa che un prossimo campione, con molta probabilità, si discosterà dalla media di +- 1.4\n",
    "Più i campioni si avvicinano alla media, e più la deviazione standard diminuisce\n",
    "Se tutti i campioni avessero lo stesso valore, la deviazione standard sarebbe pari a 0"
   ]
  },
  {
   "cell_type": "code",
   "execution_count": 68,
   "id": "491396d5",
   "metadata": {},
   "outputs": [
    {
     "data": {
      "text/plain": [
       "0.0"
      ]
     },
     "execution_count": 68,
     "metadata": {},
     "output_type": "execute_result"
    }
   ],
   "source": [
    "a = np.array([3,3,3,3,3])\n",
    "\n",
    "a.mean() # la media è pari a 3\n",
    "\n",
    "c = a.std()\n",
    "c"
   ]
  }
 ],
 "metadata": {
  "kernelspec": {
   "display_name": "Python 3 (ipykernel)",
   "language": "python",
   "name": "python3"
  },
  "language_info": {
   "codemirror_mode": {
    "name": "ipython",
    "version": 3
   },
   "file_extension": ".py",
   "mimetype": "text/x-python",
   "name": "python",
   "nbconvert_exporter": "python",
   "pygments_lexer": "ipython3",
   "version": "3.10.4"
  },
  "toc": {
   "base_numbering": 1,
   "nav_menu": {},
   "number_sections": true,
   "sideBar": true,
   "skip_h1_title": true,
   "title_cell": "Table of Contents",
   "title_sidebar": "Contents",
   "toc_cell": false,
   "toc_position": {},
   "toc_section_display": true,
   "toc_window_display": true
  }
 },
 "nbformat": 4,
 "nbformat_minor": 5
}
