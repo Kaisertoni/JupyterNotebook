{
 "cells": [
  {
   "cell_type": "markdown",
   "id": "cf580601",
   "metadata": {},
   "source": [
    "# Scikit Learn"
   ]
  },
  {
   "cell_type": "code",
   "execution_count": 267,
   "id": "fc434a57",
   "metadata": {},
   "outputs": [],
   "source": [
    "import pandas as pd\n",
    "import numpy as np\n",
    "\n",
    "from sklearn.model_selection import train_test_split # permette di splittare i dati in train e test\n",
    "from sklearn.metrics import accuracy_score # permette di calcolare l'accuratezza del modello\n",
    "from sklearn.preprocessing import LabelEncoder # permette di convertire delle stringhe in numeri\n",
    "from sklearn import datasets # permette di caricare alcuni datasets"
   ]
  },
  {
   "cell_type": "markdown",
   "id": "148221ad",
   "metadata": {},
   "source": [
    "## <span style='background :yellow'>KNN"
   ]
  },
  {
   "cell_type": "code",
   "execution_count": 268,
   "id": "204fe1a8",
   "metadata": {},
   "outputs": [],
   "source": [
    "from sklearn.neighbors import KNeighborsClassifier # algoritmo KNN (classificazione)"
   ]
  },
  {
   "cell_type": "markdown",
   "id": "f4cbb1dd",
   "metadata": {},
   "source": [
    "### <span style='background :yellow'>Import dei dati"
   ]
  },
  {
   "cell_type": "code",
   "execution_count": 269,
   "id": "fb38e391",
   "metadata": {},
   "outputs": [
    {
     "data": {
      "text/html": [
       "<div>\n",
       "<style scoped>\n",
       "    .dataframe tbody tr th:only-of-type {\n",
       "        vertical-align: middle;\n",
       "    }\n",
       "\n",
       "    .dataframe tbody tr th {\n",
       "        vertical-align: top;\n",
       "    }\n",
       "\n",
       "    .dataframe thead th {\n",
       "        text-align: right;\n",
       "    }\n",
       "</style>\n",
       "<table border=\"1\" class=\"dataframe\">\n",
       "  <thead>\n",
       "    <tr style=\"text-align: right;\">\n",
       "      <th></th>\n",
       "      <th>Buying</th>\n",
       "      <th>Maint</th>\n",
       "      <th>Doors</th>\n",
       "      <th>Persons</th>\n",
       "      <th>Lug boot</th>\n",
       "      <th>Safety</th>\n",
       "      <th>Evalutation</th>\n",
       "    </tr>\n",
       "  </thead>\n",
       "  <tbody>\n",
       "    <tr>\n",
       "      <th>0</th>\n",
       "      <td>vhigh</td>\n",
       "      <td>vhigh</td>\n",
       "      <td>2</td>\n",
       "      <td>2</td>\n",
       "      <td>small</td>\n",
       "      <td>med</td>\n",
       "      <td>unacc</td>\n",
       "    </tr>\n",
       "    <tr>\n",
       "      <th>1</th>\n",
       "      <td>vhigh</td>\n",
       "      <td>vhigh</td>\n",
       "      <td>2</td>\n",
       "      <td>2</td>\n",
       "      <td>small</td>\n",
       "      <td>high</td>\n",
       "      <td>unacc</td>\n",
       "    </tr>\n",
       "    <tr>\n",
       "      <th>2</th>\n",
       "      <td>vhigh</td>\n",
       "      <td>vhigh</td>\n",
       "      <td>2</td>\n",
       "      <td>2</td>\n",
       "      <td>med</td>\n",
       "      <td>low</td>\n",
       "      <td>unacc</td>\n",
       "    </tr>\n",
       "    <tr>\n",
       "      <th>3</th>\n",
       "      <td>vhigh</td>\n",
       "      <td>vhigh</td>\n",
       "      <td>2</td>\n",
       "      <td>2</td>\n",
       "      <td>med</td>\n",
       "      <td>med</td>\n",
       "      <td>unacc</td>\n",
       "    </tr>\n",
       "    <tr>\n",
       "      <th>4</th>\n",
       "      <td>vhigh</td>\n",
       "      <td>vhigh</td>\n",
       "      <td>2</td>\n",
       "      <td>2</td>\n",
       "      <td>med</td>\n",
       "      <td>high</td>\n",
       "      <td>unacc</td>\n",
       "    </tr>\n",
       "    <tr>\n",
       "      <th>...</th>\n",
       "      <td>...</td>\n",
       "      <td>...</td>\n",
       "      <td>...</td>\n",
       "      <td>...</td>\n",
       "      <td>...</td>\n",
       "      <td>...</td>\n",
       "      <td>...</td>\n",
       "    </tr>\n",
       "    <tr>\n",
       "      <th>1722</th>\n",
       "      <td>low</td>\n",
       "      <td>low</td>\n",
       "      <td>5more</td>\n",
       "      <td>more</td>\n",
       "      <td>med</td>\n",
       "      <td>med</td>\n",
       "      <td>good</td>\n",
       "    </tr>\n",
       "    <tr>\n",
       "      <th>1723</th>\n",
       "      <td>low</td>\n",
       "      <td>low</td>\n",
       "      <td>5more</td>\n",
       "      <td>more</td>\n",
       "      <td>med</td>\n",
       "      <td>high</td>\n",
       "      <td>vgood</td>\n",
       "    </tr>\n",
       "    <tr>\n",
       "      <th>1724</th>\n",
       "      <td>low</td>\n",
       "      <td>low</td>\n",
       "      <td>5more</td>\n",
       "      <td>more</td>\n",
       "      <td>big</td>\n",
       "      <td>low</td>\n",
       "      <td>unacc</td>\n",
       "    </tr>\n",
       "    <tr>\n",
       "      <th>1725</th>\n",
       "      <td>low</td>\n",
       "      <td>low</td>\n",
       "      <td>5more</td>\n",
       "      <td>more</td>\n",
       "      <td>big</td>\n",
       "      <td>med</td>\n",
       "      <td>good</td>\n",
       "    </tr>\n",
       "    <tr>\n",
       "      <th>1726</th>\n",
       "      <td>low</td>\n",
       "      <td>low</td>\n",
       "      <td>5more</td>\n",
       "      <td>more</td>\n",
       "      <td>big</td>\n",
       "      <td>high</td>\n",
       "      <td>vgood</td>\n",
       "    </tr>\n",
       "  </tbody>\n",
       "</table>\n",
       "<p>1727 rows × 7 columns</p>\n",
       "</div>"
      ],
      "text/plain": [
       "     Buying  Maint  Doors Persons Lug boot Safety Evalutation\n",
       "0     vhigh  vhigh      2       2    small    med       unacc\n",
       "1     vhigh  vhigh      2       2    small   high       unacc\n",
       "2     vhigh  vhigh      2       2      med    low       unacc\n",
       "3     vhigh  vhigh      2       2      med    med       unacc\n",
       "4     vhigh  vhigh      2       2      med   high       unacc\n",
       "...     ...    ...    ...     ...      ...    ...         ...\n",
       "1722    low    low  5more    more      med    med        good\n",
       "1723    low    low  5more    more      med   high       vgood\n",
       "1724    low    low  5more    more      big    low       unacc\n",
       "1725    low    low  5more    more      big    med        good\n",
       "1726    low    low  5more    more      big   high       vgood\n",
       "\n",
       "[1727 rows x 7 columns]"
      ]
     },
     "execution_count": 269,
     "metadata": {},
     "output_type": "execute_result"
    }
   ],
   "source": [
    "df = pd.read_csv('Dataset/car.data')\n",
    "df.columns = ['Buying', 'Maint', 'Doors', 'Persons', 'Lug boot', 'Safety', 'Evalutation']\n",
    "df"
   ]
  },
  {
   "cell_type": "markdown",
   "id": "db2ea27f",
   "metadata": {},
   "source": [
    "### <span style='background :yellow'>Preparazione dei dati\n",
    "Questo step prevede:\n",
    "- eliminazione di valori vuoti, nulli, duplicati (se presenti)\n",
    "- estrazione di X ed y"
   ]
  },
  {
   "cell_type": "code",
   "execution_count": 270,
   "id": "91c28cd2",
   "metadata": {},
   "outputs": [],
   "source": [
    "X = df[['Buying', 'Maint', 'Safety']].values\n",
    "y = df['Evalutation']"
   ]
  },
  {
   "cell_type": "code",
   "execution_count": 271,
   "id": "304151f5",
   "metadata": {
    "scrolled": false
   },
   "outputs": [
    {
     "data": {
      "text/plain": [
       "array([['vhigh', 'vhigh', 'med'],\n",
       "       ['vhigh', 'vhigh', 'high'],\n",
       "       ['vhigh', 'vhigh', 'low'],\n",
       "       ...,\n",
       "       ['low', 'low', 'low'],\n",
       "       ['low', 'low', 'med'],\n",
       "       ['low', 'low', 'high']], dtype=object)"
      ]
     },
     "execution_count": 271,
     "metadata": {},
     "output_type": "execute_result"
    }
   ],
   "source": [
    "X"
   ]
  },
  {
   "cell_type": "code",
   "execution_count": 272,
   "id": "a11dbb7a",
   "metadata": {},
   "outputs": [
    {
     "data": {
      "text/plain": [
       "0       unacc\n",
       "1       unacc\n",
       "2       unacc\n",
       "3       unacc\n",
       "4       unacc\n",
       "        ...  \n",
       "1722     good\n",
       "1723    vgood\n",
       "1724    unacc\n",
       "1725     good\n",
       "1726    vgood\n",
       "Name: Evalutation, Length: 1727, dtype: object"
      ]
     },
     "execution_count": 272,
     "metadata": {},
     "output_type": "execute_result"
    }
   ],
   "source": [
    "y"
   ]
  },
  {
   "cell_type": "markdown",
   "id": "7bb058e7",
   "metadata": {},
   "source": [
    "### <span style='background :yellow'>Conversione dei valori testuali in numeri"
   ]
  },
  {
   "cell_type": "code",
   "execution_count": 273,
   "id": "50d6d37b",
   "metadata": {},
   "outputs": [],
   "source": [
    "label_encoder = LabelEncoder()\n",
    "\n",
    "# X\n",
    "for i in range(len(X[0])): # ciclo per colonne\n",
    "    X[:,i] = label_encoder.fit_transform(X[:,i]) # trasformo ogni colonna\n",
    "\n",
    "# y\n",
    "y_mapping = {'unacc':0, 'acc':1, 'good':2, 'vgood':3}\n",
    "y = np.array(y.map(y_mapping))"
   ]
  },
  {
   "cell_type": "code",
   "execution_count": 274,
   "id": "3c3298ab",
   "metadata": {
    "scrolled": false
   },
   "outputs": [
    {
     "data": {
      "text/plain": [
       "array([[3, 3, 2],\n",
       "       [3, 3, 0],\n",
       "       [3, 3, 1],\n",
       "       ...,\n",
       "       [1, 1, 1],\n",
       "       [1, 1, 2],\n",
       "       [1, 1, 0]], dtype=object)"
      ]
     },
     "execution_count": 274,
     "metadata": {},
     "output_type": "execute_result"
    }
   ],
   "source": [
    "X"
   ]
  },
  {
   "cell_type": "code",
   "execution_count": 275,
   "id": "dff622d8",
   "metadata": {},
   "outputs": [
    {
     "data": {
      "text/plain": [
       "array([0, 0, 0, ..., 0, 2, 3], dtype=int64)"
      ]
     },
     "execution_count": 275,
     "metadata": {},
     "output_type": "execute_result"
    }
   ],
   "source": [
    "y"
   ]
  },
  {
   "cell_type": "markdown",
   "id": "3992358c",
   "metadata": {},
   "source": [
    "### <span style='background :yellow'>Addestramento e predizione"
   ]
  },
  {
   "cell_type": "code",
   "execution_count": 216,
   "id": "3d412671",
   "metadata": {},
   "outputs": [
    {
     "name": "stdout",
     "output_type": "stream",
     "text": [
      "0.7138728323699421\n",
      "[2 1 0 1 0 1 1 0 1 0 1 0 0 0 0 1 1 1 1 1 0 0 0 2 2 0 0 0 0 0 0 2 0 0 1 2 0\n",
      " 0 1 1 0 0 1 0 1 0 0 1 0 0 0 0 0 0 0 1 2 3 0 1 0 3 0 3 0 0 1 0 1 0 0 0 0 0\n",
      " 1 0 1 3 1 2 0 0 0 0 0 0 0 0 0 0 0 0 0 0 0 1 0 0 1 0 2 0 0 1 0 1 2 0 1 0 3\n",
      " 0 0 0 0 0 0 0 0 0 0 0 0 0 0 0 0 0 0 1 0 0 0 1 0 0 0 3 0 0 0 0 0 1 0 0 0 0\n",
      " 0 0 1 0 0 0 0 0 1 0 0 0 1 0 1 0 0 0 2 1 0 0 1 0 0 0 2 0 1 0 0 1 0 0 0 2 0\n",
      " 3 0 0 0 0 1 0 0 1 0 1 0 0 0 0 0 0 1 0 0 0 0 0 0 1 1 1 0 0 1 0 0 0 0 0 0 0\n",
      " 0 0 0 2 0 0 0 1 0 0 0 1 0 2 0 0 2 0 0 1 0 0 1 0 0 1 0 0 3 1 0 1 0 0 1 1 2\n",
      " 0 0 0 0 1 0 0 1 0 0 0 0 0 0 1 0 3 0 1 0 0 0 0 0 0 0 3 1 1 0 0 2 0 0 0 0 0\n",
      " 0 0 2 0 3 1 0 0 1 1 0 0 0 0 0 1 1 0 0 1 0 0 2 0 0 0 0 0 1 0 1 0 0 0 0 0 0\n",
      " 0 3 0 3 1 0 0 0 0 1 1 0 0]\n",
      "\n",
      "[0 1 0 1 0 0 1 0 0 3 1 0 0 0 0 0 1 1 1 1 0 0 0 0 0 0 0 0 0 0 1 0 0 0 0 0 0\n",
      " 0 0 0 0 0 1 0 1 0 1 0 0 0 0 0 0 0 0 1 3 0 0 0 0 0 0 0 0 0 1 0 1 1 0 0 3 0\n",
      " 1 0 1 0 0 3 0 0 1 0 0 0 0 0 0 0 3 0 0 0 0 1 0 0 1 0 0 1 0 0 0 0 0 0 0 0 0\n",
      " 0 0 0 0 0 0 0 0 0 1 0 0 0 0 3 0 0 0 0 0 1 1 0 0 0 0 0 0 0 0 1 0 0 0 0 0 0\n",
      " 0 0 1 1 1 1 0 0 1 0 0 0 1 0 1 1 0 0 0 0 0 0 1 0 0 1 0 0 1 0 0 0 1 0 0 0 0\n",
      " 0 0 0 1 1 1 0 1 1 0 1 0 0 0 0 0 0 1 0 0 0 0 0 0 1 1 1 0 0 0 0 0 3 0 0 0 0\n",
      " 0 0 0 3 0 0 0 0 1 0 0 1 0 0 0 0 3 0 0 1 0 0 1 1 0 0 0 0 0 1 0 1 0 0 1 0 0\n",
      " 0 0 1 0 1 1 0 0 0 1 1 0 0 0 1 0 0 0 0 0 0 1 0 0 0 1 0 1 1 1 1 3 0 0 0 0 0\n",
      " 0 0 0 0 0 0 0 0 1 0 0 1 0 1 0 1 0 1 0 1 0 0 3 0 0 0 0 0 1 0 0 0 0 0 0 0 0\n",
      " 0 0 0 0 0 0 0 1 0 0 0 0 0]\n",
      "\n"
     ]
    }
   ],
   "source": [
    "X_train, X_test, y_train, y_test = train_test_split(X,y,test_size=0.2) # split dei dati in train (80%) e test (20%)\n",
    "\n",
    "model = KNeighborsClassifier(n_neighbors=25) # creazione del modello\n",
    "model.fit(X_train,y_train) # train del modello\n",
    "predictions = model.predict(X_test) # predizioni del modello\n",
    "\n",
    "score = accuracy_score(y_test, predictions) # valutazione accuratezza\n",
    "print(score)\n",
    "\n",
    "print(f'{y_test}\\n')\n",
    "print(f'{predictions}\\n')"
   ]
  },
  {
   "cell_type": "markdown",
   "id": "24420212",
   "metadata": {},
   "source": [
    "## <span style='background :yellow'>SVM"
   ]
  },
  {
   "cell_type": "code",
   "execution_count": 230,
   "id": "60d2151c",
   "metadata": {},
   "outputs": [],
   "source": [
    "from sklearn.svm import SVC"
   ]
  },
  {
   "cell_type": "markdown",
   "id": "1f77b20c",
   "metadata": {},
   "source": [
    "### <span style='background :yellow'>Import dei dati"
   ]
  },
  {
   "cell_type": "code",
   "execution_count": 257,
   "id": "c8d87c21",
   "metadata": {},
   "outputs": [],
   "source": [
    "df = datasets.load_iris()\n",
    "X = df.data\n",
    "y = df.target\n",
    "\n",
    "classes_map = {0:'Setosa', 1:'Versicolour', 2:'Virginica'}\n"
   ]
  },
  {
   "cell_type": "markdown",
   "id": "52f42dd6",
   "metadata": {},
   "source": [
    "### <span style='background :yellow'>Addestramento e predizione"
   ]
  },
  {
   "cell_type": "code",
   "execution_count": 293,
   "id": "401bf51b",
   "metadata": {},
   "outputs": [
    {
     "name": "stdout",
     "output_type": "stream",
     "text": [
      "0.7398843930635838\n"
     ]
    }
   ],
   "source": [
    "X_train, X_test, y_train, y_test = train_test_split(X,y,test_size=0.2) # split dei dati in train (80%) e test (20%)\n",
    "\n",
    "model = SVC() # creazione del modello\n",
    "model.fit(X_train,y_train) # train del modello\n",
    "predictions = model.predict(X_test) # predizioni del modello\n",
    "\n",
    "score = accuracy_score(y_test, predictions) # valutazione accuratezza\n",
    "print(score)"
   ]
  },
  {
   "cell_type": "code",
   "execution_count": 294,
   "id": "1446dea4",
   "metadata": {},
   "outputs": [
    {
     "name": "stdout",
     "output_type": "stream",
     "text": [
      "result:     [0 0 1 0 0 2 2 0 0 2 0 0 3 1 0 0 0 0 0 0 0 0 0 0 1 0 0 1 0 0 1 3 1 0 0 0 1\n",
      " 0 0 2 1 0 0 3 0 0 0 0 1 2 0 0 0 0 0 0 0 0 0 2 0 0 0 0 1 0 0 1 1 0 0 0 0 3\n",
      " 0 0 0 0 0 0 0 0 0 0 1 0 1 0 0 0 0 0 0 0 0 3 0 0 0 1 1 0 0 0 0 0 0 0 1 0 0\n",
      " 1 0 0 0 0 0 0 1 1 0 0 0 1 0 0 0 0 0 0 0 0 0 0 0 0 0 0 1 1 0 0 0 3 0 0 0 1\n",
      " 0 1 0 0 1 0 0 0 0 0 3 0 0 0 0 0 0 0 0 0 1 0 3 0 0 0 0 0 1 0 0 0 0 1 0 0 0\n",
      " 0 0 0 0 1 0 1 0 0 0 0 1 1 0 3 0 0 0 3 1 1 0 0 0 0 1 0 1 0 0 0 0 1 0 0 0 1\n",
      " 0 0 0 0 0 0 0 1 1 0 0 1 0 0 1 0 1 0 1 0 0 0 0 0 0 0 1 2 2 0 0 0 1 0 0 0 0\n",
      " 3 0 1 0 1 0 1 0 0 1 0 0 1 0 0 0 0 0 1 0 0 0 0 0 0 1 0 0 1 1 0 0 1 0 0 0 0\n",
      " 1 0 0 1 0 0 1 0 0 0 0 0 0 1 0 0 0 0 0 0 1 0 0 0 0 1 0 0 1 0 0 1 1 0 0 3 0\n",
      " 1 1 0 1 0 1 0 2 0 0 0 0 0]\n",
      "prediction: [0 0 1 0 0 0 0 0 0 0 0 0 0 0 0 0 0 1 1 0 1 0 0 0 0 0 0 0 0 0 1 0 1 0 0 0 0\n",
      " 1 0 0 0 0 0 0 0 0 0 0 0 0 0 0 1 0 0 0 0 0 0 0 0 0 0 0 1 0 0 0 0 0 0 0 0 0\n",
      " 0 0 0 0 0 0 0 0 0 0 1 0 0 0 0 0 0 0 0 0 0 0 1 0 0 0 1 0 0 0 0 0 0 1 0 0 0\n",
      " 0 0 1 0 0 0 0 0 1 0 1 0 0 0 0 0 0 0 0 0 0 0 0 0 0 0 0 1 1 0 0 0 0 0 0 1 0\n",
      " 0 1 0 0 0 0 0 0 1 0 0 0 0 1 0 0 1 0 0 0 1 0 0 0 0 1 0 0 0 0 0 0 0 1 0 0 0\n",
      " 0 0 0 0 0 0 0 0 0 0 0 0 0 0 0 1 0 0 0 0 0 0 1 0 0 0 0 1 0 0 0 0 0 0 0 0 1\n",
      " 0 0 0 0 1 0 0 1 0 0 0 0 0 0 0 0 0 0 1 0 0 0 0 0 1 1 0 0 0 0 0 0 0 0 0 0 0\n",
      " 0 1 0 0 0 0 1 0 0 1 0 0 0 0 0 0 0 0 1 1 0 0 0 0 0 0 0 0 0 1 1 0 0 0 0 0 0\n",
      " 0 0 0 0 0 0 0 0 0 0 0 0 0 0 0 0 1 0 0 0 0 0 0 0 0 1 0 0 0 0 0 1 0 0 0 0 0\n",
      " 0 1 0 0 0 1 0 0 0 0 0 0 0]\n"
     ]
    }
   ],
   "source": [
    "print(f'result:     {y_test}')\n",
    "print(f'prediction: {predictions}')"
   ]
  },
  {
   "cell_type": "code",
   "execution_count": 295,
   "id": "af68decf",
   "metadata": {},
   "outputs": [
    {
     "name": "stdout",
     "output_type": "stream",
     "text": [
      "result:     0           Setosa\n",
      "1           Setosa\n",
      "2      Versicolour\n",
      "3           Setosa\n",
      "4           Setosa\n",
      "          ...     \n",
      "341         Setosa\n",
      "342         Setosa\n",
      "343         Setosa\n",
      "344         Setosa\n",
      "345         Setosa\n",
      "Length: 346, dtype: object\n",
      "prediction: 0           Setosa\n",
      "1           Setosa\n",
      "2      Versicolour\n",
      "3           Setosa\n",
      "4           Setosa\n",
      "          ...     \n",
      "341         Setosa\n",
      "342         Setosa\n",
      "343         Setosa\n",
      "344         Setosa\n",
      "345         Setosa\n",
      "Length: 346, dtype: object\n"
     ]
    }
   ],
   "source": [
    "y_test_label = pd.Series(y_test).map(classes_map) # conversione label in stringa\n",
    "predictions_label = pd.Series(predictions).map(classes_map) # conversione delle predizioni in stringa\n",
    "\n",
    "print(f'result:     {y_test_label}')\n",
    "print(f'prediction: {y_test_label}')"
   ]
  }
 ],
 "metadata": {
  "kernelspec": {
   "display_name": "Python 3 (ipykernel)",
   "language": "python",
   "name": "python3"
  },
  "language_info": {
   "codemirror_mode": {
    "name": "ipython",
    "version": 3
   },
   "file_extension": ".py",
   "mimetype": "text/x-python",
   "name": "python",
   "nbconvert_exporter": "python",
   "pygments_lexer": "ipython3",
   "version": "3.10.4"
  },
  "toc": {
   "base_numbering": 1,
   "nav_menu": {},
   "number_sections": true,
   "sideBar": true,
   "skip_h1_title": true,
   "title_cell": "Table of Contents",
   "title_sidebar": "Contents",
   "toc_cell": false,
   "toc_position": {},
   "toc_section_display": true,
   "toc_window_display": true
  }
 },
 "nbformat": 4,
 "nbformat_minor": 5
}
